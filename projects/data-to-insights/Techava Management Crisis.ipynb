{
 "cells": [
  {
   "cell_type": "markdown",
   "id": "d03d94f8-a8f0-4c0d-875f-bd764b715f9e",
   "metadata": {},
   "source": [
    "# Techava Management Crisis"
   ]
  },
  {
   "cell_type": "markdown",
   "id": "3bcf54d5-4e8b-40ee-b010-db6cadd4e065",
   "metadata": {},
   "source": [
    "Journey from Data (raw observations) → Insights (actionable decisions)."
   ]
  },
  {
   "cell_type": "raw",
   "id": "04bdec74-83a2-4c62-8519-be0e987997f7",
   "metadata": {},
   "source": []
  },
  {
   "cell_type": "markdown",
   "id": "67988c43-5651-433c-9e80-0b525a427dd4",
   "metadata": {},
   "source": [
    "## Background Information"
   ]
  },
  {
   "cell_type": "markdown",
   "id": "6f01cda6-d77e-436a-be51-06fa9e77fda4",
   "metadata": {},
   "source": [
    "Techava is a ```small```, but ```rapidly growing``` IT consulting firm. They currently have small offices in London, New York\n",
    "and Singapore.\n",
    "\n",
    "Their consultants ```regularly``` need to ```travel``` to client sites ```around the world```. As Techava grows, ```travel costs``` appear to be ```growing rapidly``` and are becoming a great concern for management.\n",
    "\n",
    "You have been brought in to analyze the problem, and provide some actionable recommendations to the CEO, and his leadership team. \n",
    "\n",
    "You have interviewed each member of the C-Level team and they have provided their perspective on the issue."
   ]
  },
  {
   "cell_type": "code",
   "execution_count": null,
   "id": "c2e42ab4-911f-4594-ba68-35884b1501ad",
   "metadata": {},
   "outputs": [],
   "source": []
  },
  {
   "cell_type": "markdown",
   "id": "c569c79c-a9d8-48b8-a1e6-6eb410f5f827",
   "metadata": {},
   "source": [
    "## Interview Transcripts"
   ]
  },
  {
   "cell_type": "markdown",
   "id": "9a52ed8e-7592-436e-80fb-2c6cdd88f086",
   "metadata": {},
   "source": [
    "### Joe Bloggs - Global CEO"
   ]
  },
  {
   "cell_type": "markdown",
   "id": "6426cd54-7b89-42c4-86cc-c0b4474e8d94",
   "metadata": {},
   "source": [
    "> Our ```business has grown a lot``` over the last few years,\n",
    "which is great. We have more consultants than ever\n",
    "and they’re busy, but ```travel spend seems to be growing faster than revenue```."
   ]
  },
  {
   "cell_type": "markdown",
   "id": "a5c6357c-2a4b-4ab9-b5de-87277710fa3b",
   "metadata": {},
   "source": [
    "> I’m worried that our ```increasing travel expenditure``` is\n",
    "```starting to have a big effect on our bottom line```."
   ]
  },
  {
   "cell_type": "markdown",
   "id": "a92d951f-a7d2-4200-87cc-79b30477db22",
   "metadata": {},
   "source": [
    "> I’m willing to make some unpopular calls if needed to\n",
    "get this problem under control."
   ]
  },
  {
   "cell_type": "markdown",
   "id": "f15a9a80-a675-4a2e-ac8d-2b67f8a94426",
   "metadata": {},
   "source": [
    "> I will not be approving any business class travel for\n",
    "short trips, period! I want to ```make sure the travel\n",
    "policy is being enforced```, and that everyone including\n",
    "senior management is following it."
   ]
  },
  {
   "cell_type": "markdown",
   "id": "198c371e-957d-4d4a-9c5f-84ba019ee677",
   "metadata": {},
   "source": [
    "### Natasha Nayak - Chief Financial Officer"
   ]
  },
  {
   "cell_type": "markdown",
   "id": "273c17c4-1f38-4bbf-9c83-a5a1609efc05",
   "metadata": {},
   "source": [
    "> Having a ```globally dispersed team``` can be a\n",
    "challenge, so it’s ```important that my team is able to\n",
    "meet regularly in person```."
   ]
  },
  {
   "cell_type": "markdown",
   "id": "718faafb-de6a-4fcf-8063-150543d08b38",
   "metadata": {},
   "source": [
    "> We organize several events throughout the year so\n",
    "my team can come together and collaborate."
   ]
  },
  {
   "cell_type": "markdown",
   "id": "f998f3c5-4d4c-4b49-bcb3-b5819e348ad8",
   "metadata": {},
   "source": [
    "> It’s very important that all transactions for travel are\n",
    "captured using our corporate credit cards. So far we\n",
    "have had very good compliance on this, with little\n",
    "need for manual reimbursements."
   ]
  },
  {
   "cell_type": "markdown",
   "id": "b70ca44c-f36e-44f3-92ce-3abd51475eec",
   "metadata": {},
   "source": [
    "### Jane Griffin - Consulting Partner "
   ]
  },
  {
   "cell_type": "markdown",
   "id": "087461ab-a9e3-4311-a289-26dcd3e7420a",
   "metadata": {},
   "source": [
    "> Some members of my ```team spend more time flying\n",
    "than with their families```. It’s important that on longer\n",
    "flights they can fly in premium cabins, and ```arrive to\n",
    "client sites rested and ready to perform at their best```."
   ]
  },
  {
   "cell_type": "markdown",
   "id": "df92acab-2dd5-4239-bcc6-496aedc25943",
   "metadata": {},
   "source": [
    "> Almost all of our travel is booked by air. ```Most of our\n",
    "trips are quite long, and often international```, so taking\n",
    "trains or buses is rarely efficient or feasible."
   ]
  },
  {
   "cell_type": "markdown",
   "id": "288ec8f5-f84e-46bc-be21-fbda824bc2a8",
   "metadata": {},
   "source": [
    "### Wayne Wainwright - Largest Customer"
   ]
  },
  {
   "cell_type": "markdown",
   "id": "f0aedefd-6ef1-4a58-a68a-0e563dc92630",
   "metadata": {},
   "source": [
    "> As Techava’s number one customer, what matters\n",
    "most is that ```when I have a problem with my\n",
    "technology stack, they respond```, and if someone\n",
    "needs to show up in person, ```they get there the\n",
    "very next day```."
   ]
  },
  {
   "cell_type": "markdown",
   "id": "193c3fc0-8e33-4188-bc91-d375e7a1fddd",
   "metadata": {},
   "source": [
    "> ```So far``` the Techava team has been ```very responsive```\n",
    "and ```I’m happy with the level of service I’m receiving```."
   ]
  },
  {
   "cell_type": "markdown",
   "id": "63bea060-ca86-443f-9793-63bddc14fb16",
   "metadata": {},
   "source": [
    "> I have ```sites located right across the globe```. We have\n",
    "a lot of sites in the US, but we’re rapidly growing in\n",
    "Asia as well."
   ]
  },
  {
   "cell_type": "code",
   "execution_count": null,
   "id": "0fbc926c-4f45-43bf-a799-573f29c47e77",
   "metadata": {},
   "outputs": [],
   "source": []
  },
  {
   "cell_type": "markdown",
   "id": "d54e73fb-dea2-4893-a29e-31ed6113ba6f",
   "metadata": {},
   "source": [
    "# 1. Ask"
   ]
  },
  {
   "cell_type": "markdown",
   "id": "55f99952-704b-498c-8cb0-f7768f0f3ab9",
   "metadata": {},
   "source": [
    "### Issue"
   ]
  },
  {
   "cell_type": "markdown",
   "id": "8d89a721-1bfb-4026-9b73-3ccea07f2dcf",
   "metadata": {},
   "source": [
    ">How can Techava minimize travel costs while maintaining:\n",
    ">- exceptional customer service\n",
    ">- employee well-being and performance\n",
    ">  \n",
    ">to facilitate the expansion of their business?"
   ]
  },
  {
   "cell_type": "markdown",
   "id": "774692c4-0164-4266-898e-875cfe51b0e1",
   "metadata": {},
   "source": [
    "### Why"
   ]
  },
  {
   "cell_type": "markdown",
   "id": "67dd223c-c78e-4657-b9b8-550d1ad9db2d",
   "metadata": {},
   "source": [
    "- Increased Business is causing Increased Travel Costs\n",
    "- Lack of branches around the globe\n",
    "- Possible violiation of company travel policy"
   ]
  },
  {
   "cell_type": "code",
   "execution_count": null,
   "id": "512da8bf-4e7d-4648-b0ad-a0ba9ab98da7",
   "metadata": {},
   "outputs": [],
   "source": []
  },
  {
   "cell_type": "code",
   "execution_count": null,
   "id": "d61ea620-cf89-47cf-9327-affe1eceaf21",
   "metadata": {},
   "outputs": [],
   "source": []
  },
  {
   "cell_type": "code",
   "execution_count": null,
   "id": "6caa46d2-4d1c-4f2e-91ef-c4140e4c2c0d",
   "metadata": {},
   "outputs": [],
   "source": []
  },
  {
   "cell_type": "code",
   "execution_count": null,
   "id": "d2319cef-000a-4059-8a3a-4189a4664dca",
   "metadata": {},
   "outputs": [],
   "source": []
  },
  {
   "cell_type": "code",
   "execution_count": null,
   "id": "2136876c-9e7d-464a-990b-6ee79a3711fa",
   "metadata": {},
   "outputs": [],
   "source": []
  },
  {
   "cell_type": "code",
   "execution_count": null,
   "id": "a798375c-0d94-4f09-a191-98dd7d96ca38",
   "metadata": {},
   "outputs": [],
   "source": []
  },
  {
   "cell_type": "code",
   "execution_count": null,
   "id": "0e9fe7fc-3484-42bd-ab9b-1ebe8b44121e",
   "metadata": {},
   "outputs": [],
   "source": []
  },
  {
   "cell_type": "code",
   "execution_count": null,
   "id": "ad96654b-3206-47cc-825b-a3cb6fcbd34a",
   "metadata": {},
   "outputs": [],
   "source": []
  },
  {
   "cell_type": "markdown",
   "id": "e9237d73-b177-427c-818a-3d399cfb2349",
   "metadata": {},
   "source": [
    "# Key Takeaways "
   ]
  },
  {
   "cell_type": "markdown",
   "id": "79ef0121-42a5-43a3-b909-fcde58ef7e58",
   "metadata": {},
   "source": [
    "1. ```Ask``` the right question\n",
    "   - ```Define``` the problem clearly.\n",
    "   - ```Break down``` the problem, ```identify``` possible culprits and ```generate hypotheses``` (later to be verified through data).\n",
    "***\n",
    "\n",
    "2. ```Assemble``` the data to answer the question\n",
    "   - ```Gather and generate``` data.\n",
    "   - ```Pre-process``` data before further analysis.\n",
    "***\n",
    "3. ```Analyze``` the data\n",
    "   - ```Explore``` the data.\n",
    "   - Determine what ```techniques``` to use.\n",
    "***\n",
    "4. ```Act``` on the insights from the analysis\n",
    "   - ```Distill``` findings to key inisghts.\n",
    "   - ```Communicate``` recommedations."
   ]
  },
  {
   "cell_type": "code",
   "execution_count": null,
   "id": "0e5a4a3c-8685-4a89-8f84-74abb17d89ff",
   "metadata": {},
   "outputs": [],
   "source": []
  }
 ],
 "metadata": {
  "kernelspec": {
   "display_name": "Python 3 (ipykernel)",
   "language": "python",
   "name": "python3"
  },
  "language_info": {
   "codemirror_mode": {
    "name": "ipython",
    "version": 3
   },
   "file_extension": ".py",
   "mimetype": "text/x-python",
   "name": "python",
   "nbconvert_exporter": "python",
   "pygments_lexer": "ipython3",
   "version": "3.11.7"
  }
 },
 "nbformat": 4,
 "nbformat_minor": 5
}
