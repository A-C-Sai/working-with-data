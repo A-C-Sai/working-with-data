{
 "cells": [
  {
   "cell_type": "markdown",
   "id": "d03d94f8-a8f0-4c0d-875f-bd764b715f9e",
   "metadata": {},
   "source": [
    "# Techava Management Crisis"
   ]
  },
  {
   "cell_type": "markdown",
   "id": "3bcf54d5-4e8b-40ee-b010-db6cadd4e065",
   "metadata": {},
   "source": [
    "Journey from Data (raw observations) → Insights (actionable decisions)."
   ]
  },
  {
   "cell_type": "raw",
   "id": "04bdec74-83a2-4c62-8519-be0e987997f7",
   "metadata": {},
   "source": []
  },
  {
   "cell_type": "markdown",
   "id": "67988c43-5651-433c-9e80-0b525a427dd4",
   "metadata": {
    "jp-MarkdownHeadingCollapsed": true
   },
   "source": [
    "## Background Information"
   ]
  },
  {
   "cell_type": "markdown",
   "id": "6f01cda6-d77e-436a-be51-06fa9e77fda4",
   "metadata": {},
   "source": [
    "Techava is a ```small```, but ```rapidly growing``` IT consulting firm. They ```currently have small offices``` in London, New York\n",
    "and Singapore.\n",
    "\n",
    "Their consultants ```regularly``` need to ```travel``` to client sites ```around the world```. As Techava grows, ```travel costs``` appear to be ```growing rapidly``` and are becoming a great concern for management.\n",
    "\n",
    "You have been brought in to analyze the problem, and provide some actionable recommendations to the CEO, and his leadership team. \n",
    "\n",
    "You have interviewed each member of the C-Level team and they have provided their perspective on the issue."
   ]
  },
  {
   "cell_type": "code",
   "execution_count": null,
   "id": "c2e42ab4-911f-4594-ba68-35884b1501ad",
   "metadata": {},
   "outputs": [],
   "source": []
  },
  {
   "cell_type": "markdown",
   "id": "c569c79c-a9d8-48b8-a1e6-6eb410f5f827",
   "metadata": {
    "jp-MarkdownHeadingCollapsed": true
   },
   "source": [
    "## Interview Transcripts"
   ]
  },
  {
   "cell_type": "markdown",
   "id": "9a52ed8e-7592-436e-80fb-2c6cdd88f086",
   "metadata": {},
   "source": [
    "### Joe Bloggs - Global CEO"
   ]
  },
  {
   "cell_type": "markdown",
   "id": "6426cd54-7b89-42c4-86cc-c0b4474e8d94",
   "metadata": {},
   "source": [
    "> Our ```business has grown a lot``` over the last few years,\n",
    "which is great. We have more consultants than ever\n",
    "and they’re busy, but ```travel spend seems to be growing faster than revenue```."
   ]
  },
  {
   "cell_type": "markdown",
   "id": "a5c6357c-2a4b-4ab9-b5de-87277710fa3b",
   "metadata": {},
   "source": [
    "> I’m worried that our ```increasing travel expenditure``` is\n",
    "```starting to have a big effect on our bottom line```."
   ]
  },
  {
   "cell_type": "markdown",
   "id": "a92d951f-a7d2-4200-87cc-79b30477db22",
   "metadata": {},
   "source": [
    "> I’m willing to make some unpopular calls if needed to\n",
    "get this problem under control."
   ]
  },
  {
   "cell_type": "markdown",
   "id": "f15a9a80-a675-4a2e-ac8d-2b67f8a94426",
   "metadata": {},
   "source": [
    "> I will not be approving any business class travel for\n",
    "short trips, period! I want to ```make sure the travel\n",
    "policy is being enforced```, and that everyone including\n",
    "senior management is following it."
   ]
  },
  {
   "cell_type": "markdown",
   "id": "198c371e-957d-4d4a-9c5f-84ba019ee677",
   "metadata": {},
   "source": [
    "### Natasha Nayak - Chief Financial Officer"
   ]
  },
  {
   "cell_type": "markdown",
   "id": "273c17c4-1f38-4bbf-9c83-a5a1609efc05",
   "metadata": {},
   "source": [
    "> Having a ```globally dispersed team``` can be a\n",
    "challenge, so it’s ```important that my team is able to\n",
    "meet regularly in person```."
   ]
  },
  {
   "cell_type": "markdown",
   "id": "718faafb-de6a-4fcf-8063-150543d08b38",
   "metadata": {},
   "source": [
    "> We organize several events throughout the year so\n",
    "my team can come together and collaborate."
   ]
  },
  {
   "cell_type": "markdown",
   "id": "f998f3c5-4d4c-4b49-bcb3-b5819e348ad8",
   "metadata": {},
   "source": [
    "> It’s very important that all transactions for travel are\n",
    "captured using our corporate credit cards. So far we\n",
    "have had very good compliance on this, with little\n",
    "need for manual reimbursements."
   ]
  },
  {
   "cell_type": "markdown",
   "id": "b70ca44c-f36e-44f3-92ce-3abd51475eec",
   "metadata": {},
   "source": [
    "### Jane Griffin - Consulting Partner "
   ]
  },
  {
   "cell_type": "markdown",
   "id": "087461ab-a9e3-4311-a289-26dcd3e7420a",
   "metadata": {},
   "source": [
    "> Some members of my ```team spend more time flying\n",
    "than with their families```. It’s important that on longer\n",
    "flights they can fly in premium cabins, and ```arrive to\n",
    "client sites rested and ready to perform at their best```."
   ]
  },
  {
   "cell_type": "markdown",
   "id": "df92acab-2dd5-4239-bcc6-496aedc25943",
   "metadata": {},
   "source": [
    "> Almost all of our travel is booked by air. ```Most of our\n",
    "trips are quite long, and often international```, so taking\n",
    "trains or buses is rarely efficient or feasible."
   ]
  },
  {
   "cell_type": "markdown",
   "id": "288ec8f5-f84e-46bc-be21-fbda824bc2a8",
   "metadata": {},
   "source": [
    "### Wayne Wainwright - Largest Customer"
   ]
  },
  {
   "cell_type": "markdown",
   "id": "f0aedefd-6ef1-4a58-a68a-0e563dc92630",
   "metadata": {},
   "source": [
    "> As Techava’s number one customer, what matters\n",
    "most is that ```when I have a problem with my\n",
    "technology stack, they respond```, and if someone\n",
    "needs to show up in person, ```they get there the\n",
    "very next day```."
   ]
  },
  {
   "cell_type": "markdown",
   "id": "193c3fc0-8e33-4188-bc91-d375e7a1fddd",
   "metadata": {},
   "source": [
    "> ```So far``` the Techava team has been ```very responsive```\n",
    "and ```I’m happy with the level of service I’m receiving```."
   ]
  },
  {
   "cell_type": "markdown",
   "id": "63bea060-ca86-443f-9793-63bddc14fb16",
   "metadata": {},
   "source": [
    "> I have ```sites located right across the globe```. We have\n",
    "a lot of sites in the US, but we’re rapidly growing in\n",
    "Asia as well."
   ]
  },
  {
   "cell_type": "code",
   "execution_count": null,
   "id": "38901d5f-615b-4264-b0a7-bcc65fc24e90",
   "metadata": {},
   "outputs": [],
   "source": []
  },
  {
   "cell_type": "markdown",
   "id": "f735c880-1226-4d13-8521-070e42581fa7",
   "metadata": {
    "jp-MarkdownHeadingCollapsed": true
   },
   "source": [
    "## Approach"
   ]
  },
  {
   "cell_type": "markdown",
   "id": "fbfdd19a-67d3-4fdd-a605-f315715f9e33",
   "metadata": {},
   "source": [
    "1. ```Ask``` the right question\n",
    "   - ```Define``` the problem clearly.\n",
    "   - ```Break down``` the problem, ```identify``` possible culprits and ```generate hypotheses``` (later to be verified through data).\n",
    "***\n",
    "\n",
    "2. ```Assemble``` the data to answer the question\n",
    "   - ```Gather and generate``` data.\n",
    "   - ```Pre-process``` data before further analysis.\n",
    "***\n",
    "3. ```Analyze``` the data\n",
    "   - ```Explore``` the data.\n",
    "   - Determine what ```techniques``` to use.\n",
    "***\n",
    "4. ```Act``` on the insights from the analysis\n",
    "   - ```Distill``` findings to key inisghts.\n",
    "   - ```Communicate``` recommedations."
   ]
  },
  {
   "cell_type": "code",
   "execution_count": null,
   "id": "b89e07e4-4db6-4351-8838-e05191e5255f",
   "metadata": {},
   "outputs": [],
   "source": []
  },
  {
   "cell_type": "code",
   "execution_count": null,
   "id": "0fbc926c-4f45-43bf-a799-573f29c47e77",
   "metadata": {},
   "outputs": [],
   "source": []
  },
  {
   "cell_type": "markdown",
   "id": "d54e73fb-dea2-4893-a29e-31ed6113ba6f",
   "metadata": {},
   "source": [
    "# 1. Ask"
   ]
  },
  {
   "cell_type": "markdown",
   "id": "55f99952-704b-498c-8cb0-f7768f0f3ab9",
   "metadata": {},
   "source": [
    "### Issue"
   ]
  },
  {
   "cell_type": "markdown",
   "id": "8d89a721-1bfb-4026-9b73-3ccea07f2dcf",
   "metadata": {},
   "source": [
    ">How can Techava minimize travel costs while maintaining:\n",
    ">- exceptional customer service\n",
    ">- employee well-being and performance\n",
    ">  \n",
    ">to facilitate the expansion of their business?"
   ]
  },
  {
   "cell_type": "markdown",
   "id": "774692c4-0164-4266-898e-875cfe51b0e1",
   "metadata": {},
   "source": [
    "### Diagnosis"
   ]
  },
  {
   "cell_type": "markdown",
   "id": "67dd223c-c78e-4657-b9b8-550d1ad9db2d",
   "metadata": {},
   "source": [
    "```Strategic Changes ```\n",
    "- Are clients being allocated to the branches who acquire them or to branches closer to them?\n",
    "- If consultants are travelling for regular maintanence, we could strategically plan visits and book in advance to save money.\n",
    "***\n",
    "\n",
    "```Infrastructure & Patnership```\n",
    "- Lack of branches around the globe to cope with demand.\n",
    "  - Where is most of our market located? \n",
    "  - Maybe consider opening branches based on market, while this may incur cost is the short term, it will save the business in the long run.\n",
    "- If we travel frequently and by Air we could pratner with a airline to travel at a discounted price.\n",
    "- We could partner with hotels at frequent client locations to stay at the discounted price.\n",
    "***\n",
    "\n",
    "```Business Model```\n",
    "- Is the issue urgent?\n",
    "  - If so we could charge based on urgency providing a premium service package. This will balance travel costs.\n",
    "  - Maybe we could Offer X number of in-person viists for a given time frame and any extra in-person visits will incur in additionl fees to clients.\n",
    "\n",
    "- Are we travelling for an reccuring issue?\n",
    "  - Maybe consider training clients once or twice every X years in-person or online (to save more). We could turn this into a training package leading to additional revenue.\n",
    "***\n",
    "\n",
    "```Workplace Recreation```\n",
    "- Is the travel for internal meeting?\n",
    "  - Maybe we limit the number of in-person internal meetings and by have one big meeting for all branches once every X years.\n",
    "- Are we offering any Rewards Travel to employees? How often?\n",
    "***\n",
    "\n",
    "```Travel Policy```\n",
    "- Possible violiations of company travel policy? Any particular employee or department? Maybe revise policy?\n",
    "- Should we limit travel for certain departments where the travel doesn't lead to revnue generation?\n",
    "- Should we have different travel policies for revenue generating or non-revenue generating travels?\n",
    "***\n",
    "\n",
    "```Alternatives```\n",
    "- Is In-person consulting necessary?\n",
    "  - Consider remote consulting\n",
    "***"
   ]
  },
  {
   "cell_type": "markdown",
   "id": "ccca4207-0125-492e-abf0-fc88d422768d",
   "metadata": {},
   "source": [
    "Each decision will have a impact our key stakeholders (employees and clients) differently. We don't want to lose employees nor clients. We also need to consider if we have the required data to further asses the questions outlined above. Maybe we should consider collecting more data points in future to better isolate the problem."
   ]
  },
  {
   "cell_type": "code",
   "execution_count": null,
   "id": "c25ee907-f669-4f4f-a556-54a044af8c3b",
   "metadata": {},
   "outputs": [],
   "source": []
  },
  {
   "cell_type": "code",
   "execution_count": null,
   "id": "6caa46d2-4d1c-4f2e-91ef-c4140e4c2c0d",
   "metadata": {},
   "outputs": [],
   "source": []
  },
  {
   "cell_type": "code",
   "execution_count": null,
   "id": "d2319cef-000a-4059-8a3a-4189a4664dca",
   "metadata": {},
   "outputs": [],
   "source": []
  },
  {
   "cell_type": "code",
   "execution_count": null,
   "id": "2136876c-9e7d-464a-990b-6ee79a3711fa",
   "metadata": {},
   "outputs": [],
   "source": []
  },
  {
   "cell_type": "code",
   "execution_count": null,
   "id": "a798375c-0d94-4f09-a191-98dd7d96ca38",
   "metadata": {},
   "outputs": [],
   "source": []
  },
  {
   "cell_type": "code",
   "execution_count": null,
   "id": "0e9fe7fc-3484-42bd-ab9b-1ebe8b44121e",
   "metadata": {},
   "outputs": [],
   "source": []
  },
  {
   "cell_type": "code",
   "execution_count": null,
   "id": "ad96654b-3206-47cc-825b-a3cb6fcbd34a",
   "metadata": {},
   "outputs": [],
   "source": []
  },
  {
   "cell_type": "code",
   "execution_count": null,
   "id": "0e5a4a3c-8685-4a89-8f84-74abb17d89ff",
   "metadata": {},
   "outputs": [],
   "source": []
  }
 ],
 "metadata": {
  "kernelspec": {
   "display_name": "Python 3 (ipykernel)",
   "language": "python",
   "name": "python3"
  },
  "language_info": {
   "codemirror_mode": {
    "name": "ipython",
    "version": 3
   },
   "file_extension": ".py",
   "mimetype": "text/x-python",
   "name": "python",
   "nbconvert_exporter": "python",
   "pygments_lexer": "ipython3",
   "version": "3.11.7"
  }
 },
 "nbformat": 4,
 "nbformat_minor": 5
}
