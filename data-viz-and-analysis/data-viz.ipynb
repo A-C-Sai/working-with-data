{
 "cells": [
  {
   "cell_type": "markdown",
   "id": "979485e9-eb90-4c3a-9949-acfa79ac1976",
   "metadata": {},
   "source": [
    "# Data Viz"
   ]
  },
  {
   "cell_type": "markdown",
   "id": "8a0a6df7-d5b6-49ca-879c-8ba0cd7196c2",
   "metadata": {},
   "source": [
    "## matplotlib"
   ]
  },
  {
   "cell_type": "code",
   "execution_count": 4,
   "id": "c7de4488-3834-43fe-ab71-1ada82c80e38",
   "metadata": {},
   "outputs": [
    {
     "name": "stdout",
     "output_type": "stream",
     "text": [
      "\n"
     ]
    }
   ],
   "source": [
    "'''\n",
    "import numpy as np\n",
    "import pandas ad pd\n",
    "import matplotlib.pyplot as plt\n",
    "\n",
    "** Refer to documentation for more info **\n",
    "\n",
    "-> plt.plot(x=,y=,color=,linestyle=,linewidth=,marker=,markersize=,label=)\n",
    "- plt.show()\n",
    "- plt.grid()\n",
    "- plt.legend(loc=)\n",
    "- plt.xlim(start,stop) / plt.ylim(start,stop)\n",
    "- plt.style.use(\"\")\n",
    "- plt.style.available\n",
    "- plt.title(\"\")\n",
    "- plt.xlabel(\"\") / plt.ylabel(\"\")\n",
    "-> plt.scatter(x=,y=,s=,c=[list of categories which have to be numerical],cmap=) / plt.plot(x,y,'o')\n",
    "-> plt.bar(width=, bottom=)\n",
    "-> plt.barh()\n",
    "- plt.xticks(existing labels, new labels)\n",
    "- plt.xticks(rotation=)\n",
    "-> plt.hist(data,bins=[],log=)\n",
    "-> plt.pie(data,labels=[],autopct='%0.1f%%',colors=[],explode=[])\n",
    "- plt.savefig(\"<filename>.png\") * dont use plt.show()\n",
    "- plt.colorbar()\n",
    "- plt.figure(figsize=(width, height))\n",
    "- plt.text(x,y,\"\",fontdict={})\n",
    "- plt.axhline() / plt.axvline()\n",
    "- fig, ax = plt.subplots(nrows=,ncols=,figsize=(),sharex=)\n",
    "- fig = plt.figure()\n",
    "  ax1 = fig.add_subplots(row,col,number)\n",
    "  ax1.plot()\n",
    "- We can also have 3D plots in matplotlib - scatter, line, surface, contour\n",
    "- heatmap\n",
    "-> df.plot()\n",
    "'''\n",
    "print()"
   ]
  },
  {
   "cell_type": "markdown",
   "id": "cd078b88-cbe4-4bb5-8941-a6eceafb637b",
   "metadata": {},
   "source": [
    "## seaborn"
   ]
  },
  {
   "cell_type": "code",
   "execution_count": 1,
   "id": "88780de8-0109-4c4f-8446-7bd1f6b7633c",
   "metadata": {},
   "outputs": [
    {
     "name": "stdout",
     "output_type": "stream",
     "text": [
      "\n"
     ]
    }
   ],
   "source": [
    "'''\n",
    "import matplotlib.pyplot as plt\n",
    "import seaborn as sns\n",
    "\n",
    "- figure vs axes lvl functions\n",
    "- sns.get_dataset_names()\n",
    "- sns.load_dataset('')\n",
    "relational\n",
    "--------------\n",
    "- sns.scatterplot(data=df,x=col1,y=col2,hue=col-n,style=col-n,size=col-n) ; axes lvl\n",
    "- sns.relplot(data=df,x=,y=,kind='') ; figure lvl; kind = scatter, line; \n",
    "  col= or row= parameter allows us to create multiple plots based on a categorical col; facet plots work with figure lvl functions.\n",
    "  colwrap= \n",
    "- sns.lineplot(hue=,style=)\n",
    "\n",
    "distribution\n",
    "---------------\n",
    "- sns.histplot() ; bins parameter n equi-sized bins; hue parameter; element parameter; univariate and bivariate analysis is possible\n",
    "- sns.kdeplot() ; rather than using discrete bins, KDE plot smooths the observations using a gaussian kernel, producing a continuous density estimate\n",
    "  fill parameter. univariate and bivariate analysis is possible\n",
    "  \n",
    "- sns.rugplot() ; plot marginal distributions by drawing ticks along the x and y axis ; This function is intended to complemtnt other plots by showing the\n",
    "  location of individual observations in an unobtrusive way. Used to complement other plots.\n",
    "- sns.displot(); figure lvl; height = ; aspect = ;\n",
    "\n",
    "matrix\n",
    "---------\n",
    "- sns.hetamap(matrix_df, annot=True, linewidth=, cmap=)\n",
    "- sns.clustermap(); plot a mastrix dataset as a hierarchically-clustered heatmap. this fuction requires scipy to be available.\n",
    "\n",
    "categorical\n",
    "------------\n",
    "- catplot()\n",
    "- make sure one col is categorical and one is numerical\n",
    "\n",
    "    scatter\n",
    "    ------------\n",
    "        - stripplot(); jitter paramater; hue parameter\n",
    "        - swramplot(); better for smaller datasets\n",
    "\n",
    "    distribution\n",
    "    ------------\n",
    "        - boxplot(); hue parameter\n",
    "        - violinplot() (boxplot + kdeplot)\n",
    "\n",
    "\n",
    "    estimate (for central tendency)\n",
    "    -----------\n",
    "        - barplot(); when there are multiple observations in each category, it also uses bootstrapping to compute a confidence interval around the estimate,\n",
    "          which is plotted using error bars; hue paratemet; estimator paramater default is mean; ci = None\n",
    "        - pointplot() (bar plot minus bars and connect error bars)\n",
    "        - countplot()\n",
    "\n",
    "\n",
    "regression\n",
    "---------------\n",
    "- regplot()\n",
    "- lmplot(); figure lvl; hue parameter\n",
    "- residplot()\n",
    "\n",
    "multiplot\n",
    "---------------\n",
    "- FacetGrid()\n",
    "- PairGrid()\n",
    "- pairplot(df,hue=)\n",
    "- JointGrid()\n",
    "- jointplot()\n",
    "'''\n",
    "print()"
   ]
  },
  {
   "cell_type": "markdown",
   "id": "0c41c8b9-7254-4865-b336-084e13c23ac9",
   "metadata": {},
   "source": [
    "## plotly"
   ]
  },
  {
   "cell_type": "code",
   "execution_count": 19,
   "id": "4e2f24a9-8550-4ad7-ad0d-4d9d9cd7c6e2",
   "metadata": {},
   "outputs": [
    {
     "name": "stdout",
     "output_type": "stream",
     "text": [
      "\n"
     ]
    }
   ],
   "source": [
    "'''\n",
    "-> Ecosystem: \n",
    "    - graph objects (go) ----- Think of this like matplotlib; highly customiziable\n",
    "    - plotly express (px) ----- Think of this as seaborn; a layer of abstraction on top of (go); easier to use\n",
    "    - dash ------ Python framework for building web applications.\n",
    "                  It enables you to build live data based dashboards using pure Python.\n",
    "                  Its apps run on the web browser.\n",
    "\n",
    "-> Interactive viz\n",
    "'''\n",
    "print()"
   ]
  },
  {
   "cell_type": "code",
   "execution_count": null,
   "id": "80786c6c-7cb0-4220-bf4d-1f4a8308e977",
   "metadata": {},
   "outputs": [],
   "source": []
  }
 ],
 "metadata": {
  "kernelspec": {
   "display_name": "Python [conda env:base] *",
   "language": "python",
   "name": "conda-base-py"
  },
  "language_info": {
   "codemirror_mode": {
    "name": "ipython",
    "version": 3
   },
   "file_extension": ".py",
   "mimetype": "text/x-python",
   "name": "python",
   "nbconvert_exporter": "python",
   "pygments_lexer": "ipython3",
   "version": "3.12.7"
  }
 },
 "nbformat": 4,
 "nbformat_minor": 5
}
