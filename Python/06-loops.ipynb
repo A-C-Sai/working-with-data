{
 "cells": [
  {
   "cell_type": "markdown",
   "id": "2306458b-320a-4378-8ce8-a4e574857fbf",
   "metadata": {},
   "source": [
    "# Loops"
   ]
  },
  {
   "cell_type": "markdown",
   "id": "1b659a39-4dfb-404e-8a87-5bf0fe8e7c9e",
   "metadata": {},
   "source": [
    "Nested loop and combinations of loops are possible"
   ]
  },
  {
   "cell_type": "markdown",
   "id": "6f6fdbf5-9ada-481c-b8b0-27ac677d6e9c",
   "metadata": {},
   "source": [
    "## 1) while loop "
   ]
  },
  {
   "cell_type": "code",
   "execution_count": 2,
   "id": "a14fd0c7-85ec-4291-8fa6-a11af8aa3781",
   "metadata": {},
   "outputs": [
    {
     "name": "stdout",
     "output_type": "stream",
     "text": [
      "\n"
     ]
    }
   ],
   "source": [
    "'''\n",
    "\n",
    "- initialization part\n",
    "- conditional part\n",
    "- updation part\n",
    "\n",
    "while (test cond):\n",
    "\t-------\n",
    "\t-------\n",
    "\n",
    "while (test cond):\n",
    "\t-------\n",
    "\t-------\n",
    "else:\n",
    "\t-------\n",
    "\t-------\n",
    "\n",
    "while (True) -------> infinite loops can also be useful\n",
    "\n",
    "'''\n",
    "print()"
   ]
  },
  {
   "cell_type": "code",
   "execution_count": null,
   "id": "35501182-042f-4915-b517-694dfb12befe",
   "metadata": {},
   "outputs": [],
   "source": []
  },
  {
   "cell_type": "markdown",
   "id": "07256638-6bc2-4828-8298-04e61c3375af",
   "metadata": {},
   "source": [
    "## 2) for loop"
   ]
  },
  {
   "cell_type": "code",
   "execution_count": 1,
   "id": "7e3f6dd7-a274-48a0-821e-3a4888779969",
   "metadata": {},
   "outputs": [
    {
     "name": "stdout",
     "output_type": "stream",
     "text": [
      "\n"
     ]
    }
   ],
   "source": [
    "'''\n",
    "\n",
    "for varname in iterable_obj:\n",
    "\t--------\n",
    "\t--------\n",
    "\n",
    "for varname in iterable_obj:\n",
    "\t--------\n",
    "\t--------\n",
    "else:\n",
    "\t--------\n",
    "\t--------\n",
    "\n",
    "'''\n",
    "print()"
   ]
  },
  {
   "cell_type": "code",
   "execution_count": 2,
   "id": "3bb03695-a5bb-465e-a57d-263cb0b4ba0d",
   "metadata": {},
   "outputs": [
    {
     "name": "stdout",
     "output_type": "stream",
     "text": [
      "2\n"
     ]
    }
   ],
   "source": [
    "a = [1, '2', 3, 4]\n",
    "\n",
    "for i in a:\n",
    "    if type(i) is not int:\n",
    "        print(i)\n",
    "        break\n",
    "else:\n",
    "    print(\"no exception\")"
   ]
  },
  {
   "cell_type": "code",
   "execution_count": null,
   "id": "e2cb0774-0a4f-46ee-8789-da789523a7df",
   "metadata": {},
   "outputs": [],
   "source": []
  },
  {
   "cell_type": "code",
   "execution_count": 12,
   "id": "161d51be-11b1-48f0-bcd2-368fcd0e937d",
   "metadata": {},
   "outputs": [
    {
     "name": "stdin",
     "output_type": "stream",
     "text": [
      "Please Enter Your User Name:  \n"
     ]
    },
    {
     "name": "stdout",
     "output_type": "stream",
     "text": [
      "\n"
     ]
    },
    {
     "name": "stdin",
     "output_type": "stream",
     "text": [
      "Please Enter Your User Name:  \n"
     ]
    },
    {
     "name": "stdout",
     "output_type": "stream",
     "text": [
      "\n"
     ]
    },
    {
     "name": "stdin",
     "output_type": "stream",
     "text": [
      "Please Enter Your User Name:  \n"
     ]
    },
    {
     "name": "stdout",
     "output_type": "stream",
     "text": [
      "\n"
     ]
    },
    {
     "name": "stdin",
     "output_type": "stream",
     "text": [
      "Please Enter Your User Name:  Valid Username\n"
     ]
    },
    {
     "name": "stdout",
     "output_type": "stream",
     "text": [
      "Valid Username\n",
      "Done.\n"
     ]
    }
   ],
   "source": [
    "while True:\n",
    "    user_name = input(\"Please Enter Your User Name: \")\n",
    "    print(user_name)\n",
    "    if user_name:\n",
    "        break\n",
    "print(\"Done.\")"
   ]
  },
  {
   "cell_type": "code",
   "execution_count": null,
   "id": "0113ecc1-afad-473c-9f32-cd70ae983b86",
   "metadata": {},
   "outputs": [],
   "source": []
  },
  {
   "cell_type": "markdown",
   "id": "30a031cd-609d-44bb-afa1-bdb360ba7a80",
   "metadata": {},
   "source": [
    "## 4) control flow"
   ]
  },
  {
   "cell_type": "code",
   "execution_count": 8,
   "id": "9ef22349-35fd-49d6-a454-d78e5daf0f01",
   "metadata": {},
   "outputs": [
    {
     "name": "stdout",
     "output_type": "stream",
     "text": [
      "\n"
     ]
    }
   ],
   "source": [
    "'''\n",
    "\n",
    "break - we come out of the CORRESPONDING LOOP if condition is met. loop's else block block won't run.\n",
    "\n",
    "** Use return from within a function as a break. The return statement exits from a function completely.\n",
    "\n",
    "continue - we go to the top of the loop without executing the following statements \n",
    "           which are written after the continue statement for the CURRENT iteration only.\n",
    "\n",
    "break and continue can only appear inside loops, and operate on a single level of loop.\n",
    "\n",
    "pass - instructs PVM not to consider the indentation block.  This can be useful as a placeholder for code\n",
    "that is yet to be written.\n",
    "\n",
    "\n",
    "'''\n",
    "print()"
   ]
  },
  {
   "cell_type": "code",
   "execution_count": null,
   "id": "56d38304-6497-4e0f-a14c-171398c262f2",
   "metadata": {},
   "outputs": [],
   "source": []
  },
  {
   "cell_type": "markdown",
   "id": "05288930-8dad-4023-af91-f4d187920ab9",
   "metadata": {},
   "source": [
    "# Examples"
   ]
  },
  {
   "cell_type": "code",
   "execution_count": 5,
   "id": "d7eb1b83-18fe-4914-a1c4-fa90b9264d5b",
   "metadata": {},
   "outputs": [
    {
     "name": "stdout",
     "output_type": "stream",
     "text": [
      "* * * * * \n",
      "* * * * \n",
      "* * * \n",
      "* * \n",
      "* \n"
     ]
    }
   ],
   "source": [
    "def count():\n",
    "\t\ttry:\n",
    "\t\t\ta = int(input('Please enter a number: '))\n",
    "\t\texcept ValueError:\n",
    "\t\t\tprint('Please check your input')\n",
    "\t\telse:\n",
    "\t\t\tcounter=0\n",
    "\t\t\twhile (a>0):\n",
    "\t\t\t\ta = a//10\n",
    "\t\t\t\tcounter+=1\n",
    "\t\t\tprint('Total number of digits is {}'.format(counter))\n",
    "\n",
    "\n",
    "def customsum():\n",
    "\ttry:\n",
    "\t\ta = int(input('Enter as number: '))\n",
    "\texcept ValueError:\n",
    "\t\tprint('Please check your input')\n",
    "\telse:\n",
    "\t\tcounter=0\n",
    "\t\twhile a>0:\n",
    "\t\t\ttemp = a%10\n",
    "\t\t\ta = a//10\n",
    "\t\t\tcounter+=temp\n",
    "\t\tprint('sum = {}'.format(counter))\n",
    "\n",
    "\n",
    "def reverseNumber():\n",
    "\ttry:\n",
    "\t\ta = int(input('Enter as number: '))\n",
    "\texcept ValueError:\n",
    "\t\tprint('Please check your input')\n",
    "\telse:\n",
    "\t\trevNumber=0\n",
    "\t\twhile a>0:\n",
    "\t\t\ttemp = a%10\n",
    "\t\t\ta = a//10\n",
    "\t\t\trevNumber = revNumber*10 + temp\n",
    "\t\tprint('reversed number = {}'.format(revNumber))\n",
    "\n",
    "\n",
    "def numberPalindrome():\n",
    "\ttry:\n",
    "\t\ta = int(input('Enter as number: '))\n",
    "\t\tb = a\n",
    "\texcept ValueError:\n",
    "\t\tprint('Please check your input')\n",
    "\telse:\n",
    "\t\trevNumber=0\n",
    "\t\twhile a>0:\n",
    "\t\t\ttemp = a%10\n",
    "\t\t\ta = a//10\n",
    "\t\t\trevNumber = revNumber*10 + temp\n",
    "\n",
    "\t\tprint('is Palindrome = {}'.format(True if revNumber==b else False))\n",
    "\n",
    "\n",
    "def customsum2():\n",
    "\ttry:\n",
    "\t\tcounter =  0\n",
    "\t\tnumberofNum = int(input('How Many Numbers Would You Like To Enter: '))\n",
    "\t\t_sum = 0\n",
    "\n",
    "\t\twhile (counter < numberofNum):\n",
    "\t\t\t_sum += int(input(\"Enter a number: \"))\n",
    "\t\t\tcounter+=1\n",
    "\t\t\n",
    "\texcept ValueError:\n",
    "\t\tprint('Please check your input')\n",
    "\telse:\n",
    "\n",
    "\t\tprint('sum = {}'.format(_sum))\n",
    "\n",
    "\n",
    "def customMax():\n",
    "\ttry:\n",
    "\t\tcounter =  1\n",
    "\t\tnumberofNum = int(input('How Many Numbers Would You Like To Enter: '))\n",
    "\t\t_max = int(input(\"Enter a number: \"))\n",
    "\t\twhile (counter < numberofNum):\n",
    "\t\t\tn = int(input(\"Enter a number: \"))\n",
    "\t\t\tif n > _max:\n",
    "\t\t\t\t_max = n\n",
    "\t\t\tcounter+=1\n",
    "\t\t\n",
    "\texcept ValueError:\n",
    "\t\tprint('Please check your input')\n",
    "\telse:\n",
    "\n",
    "\t\tprint('max = {}'.format(_max))\n",
    "\n",
    "\n",
    "def dectoBin():\n",
    "\ttry:\n",
    "\t\ta = int(input('Enter as number: '))\n",
    "\texcept ValueError:\n",
    "\t\tprint('Please check your input')\n",
    "\telse:\n",
    "\t\t_bin=\"\"\n",
    "\t\twhile a>0:\n",
    "\t\t\ttemp = a%2\n",
    "\t\t\ta = a//2\n",
    "\t\t\t_bin = str(temp) + _bin\n",
    "\n",
    "\t\tprint('Binary = {}'.format(_bin))\n",
    "\n",
    "def mulfor():\n",
    "\ttry:\n",
    "\t\ta = int(input('Enter a number: '))\n",
    "\texcept ValueError:\n",
    "\t\tprint('Please check your input')\n",
    "\telse:\n",
    "\t\tfor i in range(1,11):\n",
    "\t\t\tprint('{}X{}={}'.format(a,i,a*i))\n",
    "\n",
    "def fact():\n",
    "\ttry:\n",
    "\t\ta = int(input('Enter a number: '))\n",
    "\t\tresult = 1\n",
    "\texcept ValueError:\n",
    "\t\tprint('Please check your input')\n",
    "\telse:\n",
    "\t\tfor i in range(1,a+1):\n",
    "\t\t\tresult *= i\n",
    "\t\t\t\n",
    "\t\tprint('factorial = {}'.format(result))\n",
    "\n",
    "\n",
    "# Arithmetic Progression \n",
    "def AP():\n",
    "\ttry:\n",
    "\t\ta = int(input('Enter initial number: ')) # initial term\n",
    "\t\td = int(input('Enter common difference number: ')) # common difference\n",
    "\t\tn = int(input('How many terms: ')) # how many terms\n",
    "\texcept ValueError:\n",
    "\t\tprint('Please check your input')\n",
    "\telse:\n",
    "\t\t\n",
    "\t\tfor i in range(a,a+((n-1)*d)+1,d):\n",
    "\t\t\tprint(i)\n",
    "\t\t\n",
    "\t\t'''\n",
    "\t\tfor i in range(a,a+n*d,d):\n",
    "\t\t\tprint(i)\n",
    "\t\t'''\n",
    "\n",
    "def fib():\n",
    "\ttry:\n",
    "\t\tn = int(input('How many numbers would you like to print: '))\n",
    "\texcept ValueError:\n",
    "\t\tprint('Please check your input')\n",
    "\telse:\n",
    "\n",
    "\t\tn0 = 0\n",
    "\t\tn1 = 1\n",
    "\n",
    "\t\tfor _ in range(0,n):\n",
    "\t\t\tprint(n0)\n",
    "\t\t\tn3 = n0+n1\n",
    "\t\t\tn0 = n1\n",
    "\t\t\tn1 = n3\n",
    "\n",
    "def factors():\n",
    "\ttry:\n",
    "\t\tn = int(input('Enter a number: '))\n",
    "\texcept ValueError:\n",
    "\t\tprint('Please check your input')\n",
    "\telse:\n",
    "\n",
    "\t\tfor i in range(1,n+1):\n",
    "\t\t\tif (n%i==0):\n",
    "\t\t\t\tprint(i)\n",
    "\n",
    "\n",
    "def primeOrNot():\n",
    "\ttry:\n",
    "\t\tn = int(input('Enter your number: '))\n",
    "\texcept ValueError:\n",
    "\t\tprint('Please check your input')\n",
    "\telse:\n",
    "\n",
    "\t\tif n == 1:\n",
    "\t\t\tprint('NOT PRIME')\n",
    "\t\telif n == 2:\n",
    "\t\t\tprint('PRIME')\n",
    "\t\telse:\n",
    "\t\t\tfor i in range(2,n):\n",
    "\t\t\t\tif (n%i==0):\n",
    "\t\t\t\t\tprint('NOT PRIME')\n",
    "\t\t\t\t\tbreak\n",
    "\t\t\telse:\n",
    "\t\t\t\tprint(\"PRIME\")\n",
    "\n",
    "\n",
    "def prime100():\n",
    "\tfor n in range(1,101):\n",
    "\t\tcount = 0\n",
    "\t\tfor i in range(1,n+1):\n",
    "\t\t\tif n%i==0:\n",
    "\t\t\t\tcount+=1\n",
    "\t\tif count == 2:\n",
    "\t\t\tprint(n)\n",
    "\n",
    "def pattern():\n",
    "\tfor i in range(5):\n",
    "\t\tprint('* '*5)\n",
    "\n",
    "def pattern1():\n",
    "\tfor i in range(5):\n",
    "\t\tprint('* ' * (i+1))\n",
    "\n",
    "def pattern2():\n",
    "\tfor i in range(5,0,-1):\n",
    "\t\tprint('* ' * (i))\n",
    "\n",
    "\n",
    "\n",
    "if __name__ == '__main__':\n",
    "\t#count()\n",
    "\t#customsum()\n",
    "\t#reverseNumber()\n",
    "\t#numberPalindrome()\n",
    "\t#customsum2()\n",
    "\t#customMax()\n",
    "\t#dectoBin()\n",
    "\t#mulfor()\n",
    "\t#fact()\n",
    "\t#AP()\n",
    "\t#fib()\n",
    "\t#factors()\n",
    "\t#primeOrNot()\n",
    "\t#prime100()\n",
    "\t#pattern()\n",
    "\t#pattern1()\n",
    "\tpattern2()"
   ]
  },
  {
   "cell_type": "code",
   "execution_count": null,
   "id": "9b13a74a-c192-4f84-b5b8-3052ef49d990",
   "metadata": {},
   "outputs": [],
   "source": []
  },
  {
   "cell_type": "code",
   "execution_count": 6,
   "id": "ba6aa9c2-ea5f-4da7-9c9d-4e60cb85cf06",
   "metadata": {},
   "outputs": [
    {
     "name": "stdin",
     "output_type": "stream",
     "text": [
      "Enter a number:  6\n"
     ]
    },
    {
     "name": "stdout",
     "output_type": "stream",
     "text": [
      "********************\n",
      "6X1 = 6\n",
      "6X2 = 12\n",
      "6X3 = 18\n",
      "6X4 = 24\n",
      "6X5 = 30\n",
      "6X6 = 36\n",
      "6X7 = 42\n",
      "6X8 = 48\n",
      "6X9 = 54\n",
      "6X10 = 60\n",
      "********************\n"
     ]
    }
   ],
   "source": [
    "if __name__ == '__main__':\n",
    "\n",
    "\ttry:\n",
    "\t\ta = int(input(\"Enter a number: \"))\n",
    "\texcept ValueError:\n",
    "\t\tprint('Please check your input')\n",
    "\telse:\n",
    "\t\tcounter = 1\n",
    "\t\tprint('*'*20)\n",
    "\t\twhile (counter<=10):\n",
    "\t\t\tprint('{}X{} = {}'.format(a,counter,a*counter))\n",
    "\t\t\tcounter+=1\n",
    "\t\tprint('*'*20)"
   ]
  },
  {
   "cell_type": "code",
   "execution_count": null,
   "id": "568be79e-5d05-4861-8831-82593edc490d",
   "metadata": {},
   "outputs": [],
   "source": []
  },
  {
   "cell_type": "code",
   "execution_count": 7,
   "id": "7f529011-d0b2-49cd-81eb-24e0ef7c4c9a",
   "metadata": {},
   "outputs": [
    {
     "name": "stdin",
     "output_type": "stream",
     "text": [
      "Enter a number:  2540\n"
     ]
    },
    {
     "name": "stdout",
     "output_type": "stream",
     "text": [
      "Reverse of your number is: \n",
      "0452\n"
     ]
    }
   ],
   "source": [
    "if __name__ == '__main__':\n",
    "\n",
    "\ttry:\n",
    "\t\ta = int(input(\"Enter a number: \"))\n",
    "\texcept ValueError:\n",
    "\t\tprint('Please check your input')\n",
    "\telse:\n",
    "\t\tprint('Reverse of your number is: ')\n",
    "\t\twhile(a>0):\n",
    "\t\t\ttemp = a%10\n",
    "\t\t\ta = a//10\n",
    "\t\t\tprint(temp,end=\"\")\n",
    "\n",
    "\t\tprint()"
   ]
  },
  {
   "cell_type": "code",
   "execution_count": null,
   "id": "4d8b8984-6ecb-4b5f-b970-9c304109ce5c",
   "metadata": {},
   "outputs": [],
   "source": []
  },
  {
   "cell_type": "code",
   "execution_count": 8,
   "id": "9857f26d-5225-4907-a5d9-09837220deaf",
   "metadata": {},
   "outputs": [
    {
     "name": "stdout",
     "output_type": "stream",
     "text": [
      "[2, 3, 5, 6, 1, 7, 8, 9]\n"
     ]
    }
   ],
   "source": [
    "lst= [1,2,3,3,5,6,1,7,8,9,9,9]\n",
    "\n",
    "\n",
    "for value in lst:\n",
    "\twhile (lst.count(value)>1):\n",
    "\t\tlst.remove(value)\n",
    "\n",
    "\n",
    "print(lst)"
   ]
  },
  {
   "cell_type": "code",
   "execution_count": null,
   "id": "4f22d7ce-02cc-4706-b667-9297cf166d1b",
   "metadata": {},
   "outputs": [],
   "source": []
  }
 ],
 "metadata": {
  "kernelspec": {
   "display_name": "Python 3 (ipykernel)",
   "language": "python",
   "name": "python3"
  },
  "language_info": {
   "codemirror_mode": {
    "name": "ipython",
    "version": 3
   },
   "file_extension": ".py",
   "mimetype": "text/x-python",
   "name": "python",
   "nbconvert_exporter": "python",
   "pygments_lexer": "ipython3",
   "version": "3.11.7"
  }
 },
 "nbformat": 4,
 "nbformat_minor": 5
}
