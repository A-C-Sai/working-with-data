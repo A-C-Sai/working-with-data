{
 "cells": [
  {
   "cell_type": "markdown",
   "id": "5ca0e8b6-b99f-465f-8a43-b024dd4c9760",
   "metadata": {},
   "source": [
    "# Files - Data Persistency"
   ]
  },
  {
   "cell_type": "code",
   "execution_count": 4,
   "id": "01e33488-fbbd-4875-a5c4-30e474510137",
   "metadata": {},
   "outputs": [
    {
     "name": "stdout",
     "output_type": "stream",
     "text": [
      "\n"
     ]
    }
   ],
   "source": [
    "'''\n",
    "Types of Files:\n",
    "\n",
    "\t- Text files --> in python, Text files are denoted by a letter 't' and it is by default.\n",
    "\t- Binary files --> in python, Binary files are denoted by a letter 'b'. (images, audio, videos)\n",
    "'''\n",
    "print()"
   ]
  },
  {
   "cell_type": "code",
   "execution_count": 9,
   "id": "5dcb1e30-8cd0-4815-9195-830c98df864a",
   "metadata": {},
   "outputs": [
    {
     "name": "stdout",
     "output_type": "stream",
     "text": [
      "\n"
     ]
    }
   ],
   "source": [
    "'''\n",
    "Operations on Files:\n",
    "\n",
    "\t- write operation\n",
    "\t\t- The purpose of write operation is to transfer Temp Data of MM (RAM) into file of SM\n",
    "\t\t\t1) choose the file name\n",
    "\t\t\t2) open file in write mode\n",
    "\t\t\t3) perform cycle of write operation\n",
    "\t\tExceptions:\n",
    "\t\t\t- IOError\n",
    "\t\t\t- FileExistError\n",
    "\t\t\t- OSError\n",
    "\n",
    "\t- read operation\n",
    "    \t- The purpose of read operation is to transfer records of files of SM into object of MM.\n",
    "\t\t\t1) choose the filename\n",
    "\t\t\t2) open the file in read mode\n",
    "\t\t\t3) perform cycle of read operations\n",
    "\t\tExceptions:\n",
    "\t\t\t- FileNotFoundError\n",
    "\t\t\t- EOFError\n",
    "'''\n",
    "print()"
   ]
  },
  {
   "cell_type": "code",
   "execution_count": 13,
   "id": "11a54cd1-158e-4915-acda-febdc924acbd",
   "metadata": {},
   "outputs": [
    {
     "name": "stdout",
     "output_type": "stream",
     "text": [
      "\n"
     ]
    }
   ],
   "source": [
    "'''\n",
    "-------------------------------------\n",
    "\tFile opening Modes - r,r+,w,w+,a,a+,x,x+\n",
    "-------------------------------------\n",
    "\n",
    "1. \n",
    "\tr, opening the file in read mode it is the DEFAULT file mode\n",
    "\tif the file doesn't exist we get FileNotFoundError\n",
    "\n",
    "2. \n",
    "\tw, this mode is used for calling a new file and open it in write mode always\n",
    "\twhen we open a new file in w mode the it will be created and opened in write mode\n",
    "\tif we open a existing file in w mode then it will be opened in write mode and existing data overwritten with new data.\n",
    "\n",
    "3.\n",
    "\ta, when we open a new file in a mode the it will be created newly and opened in write mode.\n",
    "\twhen opening existing file in a mode then it will be opened in write mode and existing data is appended with new data.\n",
    "\n",
    "4. \n",
    "\tr+, opening file in read mode.\n",
    "\twhen we open the file name in r+ mode the the file name opened in read mode and we can first read the data \n",
    "\tand later additional we can perform write operations (works like append) also. \n",
    "\twhen we open the file in r+ mode and if the file doesn't exist then we get FileNotFoundError.\n",
    "\n",
    "\t\t\t\t\t\t\t\t\t\t|\n",
    "\n",
    "\t\t\t\tDIFF EXCEPTIONS AND PRIORITY OF OPERATIONS ARE DIFF\n",
    "\n",
    "\t\t\t\t\t\t\t\t\t\t|\n",
    "\n",
    "5.\n",
    "\tw+, this mode is used for creating a new file and open it in write mode always.\n",
    "\twhen we open a new file in w+ mode the it will be created and opened in write mode\n",
    "\tif we open a existing file in w+ mode then it will be opened in write mode and existing data overwritten with new data.\n",
    "\tadditionally with this mode first we can perform write operation and later we can perform read operation.\n",
    "\tthere is possibility of getting IOError, OSError\n",
    "\n",
    "\n",
    "6. \n",
    "\ta+, when we open new file in a+ mode then it will be created newly and opened in write mode.\n",
    "\twhen opening existing file in a+ mode, then it will be opened in write mode and existing data appened with new data.\n",
    "\tAdditionally with this mode first we can perform write operation with appending and later we can perform read operation\n",
    "\tand there is possibility of getting IOError, OSError.\n",
    "\n",
    "7. \n",
    "\tx, this mode is used for opening the new file name exclusively in write mode and we can perform write operations.\n",
    "\tif we open existing file in 'x' mode then we get FileExistError.\n",
    "\n",
    "8. \n",
    "\tx+, this mode is used for opening the new file name exclusively in write mode and first we can perform write operation\n",
    "\tand later additionally we can perform read operation.\n",
    "\tif we open existing file in x+ mode we get FileExistError.\n",
    "\n",
    "'''\n",
    "print()"
   ]
  },
  {
   "cell_type": "code",
   "execution_count": 1,
   "id": "7620582f-bce3-4c89-bf59-669df914f9bb",
   "metadata": {},
   "outputs": [
    {
     "name": "stdout",
     "output_type": "stream",
     "text": [
      "\n"
     ]
    }
   ],
   "source": [
    "'''\n",
    "---------------------------------------------------------\n",
    "\tApproaches to open file - open() OR with open() as\n",
    "---------------------------------------------------------\n",
    "\n",
    "1. syntax: \n",
    "\tfile_pointer = open(\"ABSOLUTE PATH TO FILE\",\"FILE MODE(b)\")\n",
    "    ...\n",
    "    ...\n",
    "    ...\n",
    "\tfile_pointer.close()\n",
    "\n",
    "2. syntax: \n",
    "\twith open(\"ABSOLUTE PATH TO FILE\",\"FILE MODE\") as file_pointer:\n",
    "\t\t-----------------------------------\n",
    "\t\t-----------------------------------\n",
    "\n",
    "\n",
    "-> FILE VS FOLDER: \n",
    "\tFOLDER DOESN'T CONTAIN MEMORY SPACE\n",
    "\tFILES CONTAIN MEMORY SPACE\n",
    "\n",
    "\n",
    "\tfile_pointer.name\n",
    "\t\t\t\t.mode\n",
    "\t\t\t\t.closed\n",
    "\t\t\t\t.readable()\n",
    "\t\t\t\t.writable()\n",
    "                .flush()\n",
    "\t\n",
    "'''\n",
    "print()"
   ]
  },
  {
   "cell_type": "code",
   "execution_count": 2,
   "id": "f2b214d7-59ca-4b41-a38b-6e244df300ec",
   "metadata": {},
   "outputs": [
    {
     "name": "stdout",
     "output_type": "stream",
     "text": [
      "\n"
     ]
    }
   ],
   "source": [
    "'''\n",
    "--------------------------------------------------\n",
    "\t\tWRITING DATA TO THE FILE\n",
    "--------------------------------------------------\n",
    "\n",
    "-> fp.write(str Data) ---> newline character has to be specified explicitly\n",
    "-> fp.writelines(Iterable Obj) ----> if elements in iterable obj is str it ok but if not use str.\n",
    "\n",
    "'''\n",
    "print()"
   ]
  },
  {
   "cell_type": "code",
   "execution_count": 3,
   "id": "b6916bd2-91c8-4421-a048-e1bca59c08f6",
   "metadata": {},
   "outputs": [
    {
     "name": "stdout",
     "output_type": "stream",
     "text": [
      "\n"
     ]
    }
   ],
   "source": [
    "'''\n",
    "--------------------------------------------------\n",
    "\t\tREADING THE DATA FROM THE FILE\n",
    "--------------------------------------------------\n",
    "\n",
    "-> varname = fp.read()/.read(size) ---> starts from 0 to value-1 ---> all data 'str'\n",
    "-> varname = fp.readlines()/readlines(sizehint) ----> all data list\n",
    "-> varname = fp.readline()/readline(size) ----> line by line as 'str'\n",
    "-> can use for loop to iterate line by line\n",
    "-> fp.tell()\n",
    "-> fp.seek(index) ---> provided we know what is at which index -> index = 0\n",
    "-> processing data from files is complex, to process more easily --> database environment.\n",
    "\n",
    "'''\n",
    "print()"
   ]
  },
  {
   "cell_type": "code",
   "execution_count": 2,
   "id": "f63d0829-8764-431f-a4fb-62d5375531a1",
   "metadata": {},
   "outputs": [
    {
     "name": "stdout",
     "output_type": "stream",
     "text": [
      "\n"
     ]
    }
   ],
   "source": [
    "'''\n",
    "--------------------------------------------------------------------------\n",
    "\t\t\t\tPickling & Un-pickling / Serializing & De-Serializing\n",
    "---------------------------------------------------------------------------\n",
    "\n",
    "NOTE: PICKLING AND UN-PICKLING CONCEPT ALWAYS TAKES THE FILE IN BINARY FORMAT\n",
    "\n",
    "pickling - with a single write operation, we can save or write entire obj data of main memory\n",
    "into the file of secondary memory\n",
    "\n",
    "1) import pickle module\n",
    "2) choose the file name and open it in write mode\n",
    "3) create an object with collection of values (iterable)\n",
    "4) use dump() of pickle module\n",
    "\n",
    "syntax: pickle.dump(obj, file_pointer)\n",
    "\n",
    "un-pickling - with a single read operation, we can read entire record content from the file of SM into the object of MM.\n",
    "\n",
    "1) import pickle module\n",
    "2) choose the file name and open it in read mode\n",
    "4) use load() of pickle module.\n",
    "\n",
    "syntax: objname = pickle.load(file_pointer)\n",
    "\n",
    "Exception: EOFERROR\n",
    "\n",
    ".pickle or .pkl\n",
    "'''\n",
    "print()"
   ]
  },
  {
   "cell_type": "code",
   "execution_count": 6,
   "id": "d1ee8668-188e-4314-a0c9-cac5a7f8e5ab",
   "metadata": {},
   "outputs": [
    {
     "name": "stdout",
     "output_type": "stream",
     "text": [
      "\n"
     ]
    }
   ],
   "source": [
    "'''\n",
    "--------------------------------------\n",
    "\t\t\tCSV MODULE\n",
    "--------------------------------------\n",
    "\n",
    "import csv\n",
    "\n",
    "--------------------------------------------------\n",
    "\t\tReading the data from CSV file\n",
    "--------------------------------------------------\n",
    "\n",
    "The csv module provides classes for reading information from a csv file.\n",
    "\n",
    "1) csv.reader\n",
    "   Obj of 'csv.reader' class\n",
    "   syntax: csv_reader = csv.reader(file_pointer) --> iterable obj; each record in the form of a list\n",
    "\n",
    "2) csv.DictReader\n",
    "   Obj of 'csv.DictReader' class\n",
    "   syntax: csv_DictReader = csv.DictReader(file_pointer)\n",
    "\n",
    "\n",
    "\n",
    "--------------------------------------------------\n",
    "\t\tWriting the data from CSV file\n",
    "--------------------------------------------------\n",
    "\n",
    "The csv module provided classes for writing information to a csv file.\n",
    "\n",
    "1) csv.writer\n",
    "   Obj of 'csv.writer' class\n",
    "   syntax: csv_writer = csv.writer(file_pointer)\n",
    "   The 'csv.writer' class provides two functions for writing to csv file.\n",
    "    - csv_writer.writerow(list)      \n",
    "    - csv_writer.writerows(list in list)  \n",
    "\n",
    "2) csv.DictWriter\n",
    "   Obj of 'csv.DictReader' class\n",
    "   syntax: csv_dw = csv.DictReader(file_pointer,fieldnames=[],delimiter=)\n",
    "   The 'csv.DictReader' class provides two functions for writing to csv file.\n",
    "    - csv_dw.writeheader()\n",
    "    - csv_dw.writerows(list of dictObjs) --> key, value pairs; writes only values not keys\n",
    "    - csv_dw.writerow(dictObj)\n",
    "\n",
    "'''\n",
    "print()"
   ]
  },
  {
   "cell_type": "code",
   "execution_count": null,
   "id": "923e2f94-82c9-4b21-aeed-bdc714bda2a9",
   "metadata": {},
   "outputs": [],
   "source": []
  }
 ],
 "metadata": {
  "kernelspec": {
   "display_name": "Python [conda env:base] *",
   "language": "python",
   "name": "conda-base-py"
  },
  "language_info": {
   "codemirror_mode": {
    "name": "ipython",
    "version": 3
   },
   "file_extension": ".py",
   "mimetype": "text/x-python",
   "name": "python",
   "nbconvert_exporter": "python",
   "pygments_lexer": "ipython3",
   "version": "3.12.7"
  }
 },
 "nbformat": 4,
 "nbformat_minor": 5
}
