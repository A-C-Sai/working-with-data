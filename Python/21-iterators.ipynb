{
 "cells": [
  {
   "cell_type": "markdown",
   "id": "630dbbce-1c54-47e9-9d4e-bc4670482692",
   "metadata": {},
   "source": [
    "# Iterators"
   ]
  },
  {
   "cell_type": "code",
   "execution_count": 2,
   "id": "cb53efd2-45bc-4675-b63e-4c4d7db7b086",
   "metadata": {},
   "outputs": [
    {
     "name": "stdout",
     "output_type": "stream",
     "text": [
      "\n"
     ]
    }
   ],
   "source": [
    "'''\n",
    "Iterators vs Iterables \n",
    "\n",
    "Iterable - can be looped over, object needs to return an iterator object from it's __iter__ method\n",
    "\t\t   and the iterator that is returned must define a __next__ method which accesses elements in the container\n",
    "\t\t   one at a time.\n",
    "\n",
    "- Just because something is iterable doesn't make it an iterator.\n",
    "- Iterator - its an object with a state; so it remembers where it is at during it's iteration\n",
    "             and it knows how to fetch it's next value using the __next__ method. When it doesnt have\n",
    "             a next value it raises StopIteration error. Can go forever but fetches one value at a time\n",
    "\n",
    "- The iterator object is initialized using the iter() method. Used to converting iterable onj into iterator\n",
    "- next() is used for obtaining the next element of the iterator object.\n",
    "\n",
    "- Exception: StopIteration\n",
    "\n",
    "- On the object of iterator we can't peform indexing or slicing b/c they supply the value on demand.\n",
    "\n",
    "- reversed()\n",
    "'''\n",
    "print()"
   ]
  },
  {
   "cell_type": "code",
   "execution_count": 4,
   "id": "5d423c5a-4897-49b1-aaa4-5aa972fb247a",
   "metadata": {},
   "outputs": [
    {
     "name": "stdout",
     "output_type": "stream",
     "text": [
      "<__main__.Range object at 0x1364049e0>\n"
     ]
    }
   ],
   "source": [
    "class Range:\n",
    "\n",
    "\tdef __init__(self,stop,start=0,step=1):\n",
    "\t\tself.start = start\n",
    "\t\tself.stop = stop\n",
    "\t\tself.step = step\n",
    "\n",
    "\tdef __iter__(self):\n",
    "\t\treturn self\n",
    "\n",
    "\tdef __next__(self):\n",
    "\t\tif self.start < self.stop:\n",
    "\t\t\tcurrent = self.start\n",
    "\t\t\tself.start += self.step\n",
    "\t\t\treturn current\n",
    "\t\telse:\n",
    "\t\t\traise StopIteration\n",
    "\n",
    "_range = Range(5)\n",
    "print(_range)"
   ]
  },
  {
   "cell_type": "code",
   "execution_count": 6,
   "id": "9c9068fc-d975-4ce5-9ce1-48b57b0b66a1",
   "metadata": {},
   "outputs": [
    {
     "name": "stdout",
     "output_type": "stream",
     "text": [
      "0\n",
      "1\n",
      "2\n",
      "3\n",
      "4\n"
     ]
    }
   ],
   "source": [
    "for val in _range:\n",
    "\tprint(val)"
   ]
  },
  {
   "cell_type": "code",
   "execution_count": 8,
   "id": "5d838735-abc6-4389-bd59-9dd29b093984",
   "metadata": {},
   "outputs": [
    {
     "ename": "StopIteration",
     "evalue": "",
     "output_type": "error",
     "traceback": [
      "\u001b[0;31m---------------------------------------------------------------------------\u001b[0m",
      "\u001b[0;31mStopIteration\u001b[0m                             Traceback (most recent call last)",
      "Cell \u001b[0;32mIn[8], line 1\u001b[0m\n\u001b[0;32m----> 1\u001b[0m \u001b[38;5;28mprint\u001b[39m(\u001b[38;5;28mnext\u001b[39m(_range))\n\u001b[1;32m      2\u001b[0m \u001b[38;5;28mprint\u001b[39m(\u001b[38;5;28mnext\u001b[39m(_range))\n\u001b[1;32m      3\u001b[0m \u001b[38;5;28mprint\u001b[39m(\u001b[38;5;28mnext\u001b[39m(_range))\n",
      "Cell \u001b[0;32mIn[4], line 17\u001b[0m, in \u001b[0;36mRange.__next__\u001b[0;34m(self)\u001b[0m\n\u001b[1;32m     15\u001b[0m \t\u001b[38;5;28;01mreturn\u001b[39;00m current\n\u001b[1;32m     16\u001b[0m \u001b[38;5;28;01melse\u001b[39;00m:\n\u001b[0;32m---> 17\u001b[0m \t\u001b[38;5;28;01mraise\u001b[39;00m \u001b[38;5;167;01mStopIteration\u001b[39;00m\n",
      "\u001b[0;31mStopIteration\u001b[0m: "
     ]
    }
   ],
   "source": [
    "print(next(_range))\n",
    "print(next(_range))\n",
    "print(next(_range))\n",
    "print(next(_range))\n",
    "print(next(_range))\n",
    "# print(next(_range))"
   ]
  },
  {
   "cell_type": "code",
   "execution_count": 10,
   "id": "115cf10a-ee4b-4043-b33d-8fc1486c9b1c",
   "metadata": {},
   "outputs": [
    {
     "name": "stdout",
     "output_type": "stream",
     "text": [
      "This\n",
      "is\n",
      "a\n",
      "test\n"
     ]
    }
   ],
   "source": [
    "class Sentence:\n",
    "\tdef __init__(self,sentence):\n",
    "\t\tself.sentence = sentence.split()\n",
    "\t\tself.index = 0\n",
    "\n",
    "\tdef __iter__(self):\n",
    "\t\treturn self\n",
    "\n",
    "\tdef __next__(self):\n",
    "\t\tif self.index < len(self.sentence):\n",
    "\t\t\tcurrent_index = self.index\n",
    "\t\t\tself.index += 1\n",
    "\t\t\treturn self.sentence[current_index]\n",
    "\t\telse:\n",
    "\t\t\traise StopIteration\n",
    "\n",
    "my_sen = Sentence(\"This is a test\")\n",
    "\n",
    "for word in my_sen:\n",
    "\tprint(word)\n",
    "\t"
   ]
  },
  {
   "cell_type": "code",
   "execution_count": 12,
   "id": "54002ee2-762b-499d-8546-603ba027c9f4",
   "metadata": {},
   "outputs": [
    {
     "name": "stdout",
     "output_type": "stream",
     "text": [
      "\n"
     ]
    }
   ],
   "source": [
    "'''\n",
    "The iterator protocol is a way in which an object should behave to conform to the rules \n",
    "imposed by the context of the for and in statements. \n",
    "An object conforming to the iterator protocol is called an iterator.\n",
    "\n",
    "An iterator must provide two methods:\n",
    "\n",
    "__iter__() which should return the object itself and which is invoked once \n",
    "(it's needed for Python to successfully start the iteration)\n",
    "\n",
    "__next__() which is intended to return the next value \n",
    "(first, second, and so on) of the desired series - \n",
    "it will be invoked by the for/in statements in order to pass through the next iteration; \n",
    "if there are no more values to provide, the method should raise the StopIteration exception.\n",
    "'''\n",
    "print()"
   ]
  },
  {
   "cell_type": "code",
   "execution_count": 16,
   "id": "312133fc-06f5-44e3-81eb-02f33f99e0f3",
   "metadata": {},
   "outputs": [],
   "source": [
    "class Fib:\n",
    "    def __init__(self, nn):\n",
    "        print(\"__init__\")\n",
    "        self.__n = nn\n",
    "        self.__i = 0\n",
    "        self.__p1 = self.__p2 = 1\n",
    "\n",
    "    def __iter__(self):\n",
    "        print(\"__iter__\")\n",
    "        return self\n",
    "\n",
    "    def __next__(self):\n",
    "        print(\"__next__\")\t\t\t\t\n",
    "        self.__i += 1\n",
    "        if self.__i > self.__n:\n",
    "            raise StopIteration\n",
    "        if self.__i in [1, 2]:\n",
    "            return 1\n",
    "        ret = self.__p1 + self.__p2\n",
    "        self.__p1, self.__p2 = self.__p2, ret\n",
    "        return ret"
   ]
  },
  {
   "cell_type": "code",
   "execution_count": 18,
   "id": "2dd324af-e9d0-4e11-9c1f-8074abc07ff8",
   "metadata": {},
   "outputs": [
    {
     "name": "stdout",
     "output_type": "stream",
     "text": [
      "abc"
     ]
    }
   ],
   "source": [
    "class I:\n",
    "    def __init__(self):\n",
    "    \tself.s = 'abc'\n",
    "    \tself.i = 0\n",
    "\n",
    "    def __iter__(self):\n",
    "    \treturn self\n",
    "\n",
    "    def __next__(self):\n",
    "    \tif self.i == len(self.s):\n",
    "       \t\traise StopIteration\n",
    "    \tv = self.s[self.i]\n",
    "    \tself.i += 1\n",
    "    \treturn v\n",
    "\n",
    "\n",
    "for x in I():\n",
    "    print(x, end='')"
   ]
  },
  {
   "cell_type": "code",
   "execution_count": null,
   "id": "9d0a9c8f-c5c1-42c4-a937-f912339af5c3",
   "metadata": {},
   "outputs": [],
   "source": []
  }
 ],
 "metadata": {
  "kernelspec": {
   "display_name": "Python [conda env:base] *",
   "language": "python",
   "name": "conda-base-py"
  },
  "language_info": {
   "codemirror_mode": {
    "name": "ipython",
    "version": 3
   },
   "file_extension": ".py",
   "mimetype": "text/x-python",
   "name": "python",
   "nbconvert_exporter": "python",
   "pygments_lexer": "ipython3",
   "version": "3.12.7"
  }
 },
 "nbformat": 4,
 "nbformat_minor": 5
}
