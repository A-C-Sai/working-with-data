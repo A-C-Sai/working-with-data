{
 "cells": [
  {
   "cell_type": "markdown",
   "id": "51880071-1cc4-47a7-8288-ac9d131076c8",
   "metadata": {},
   "source": [
    "# Miscellaneous"
   ]
  },
  {
   "cell_type": "code",
   "execution_count": null,
   "id": "fb281c8a-b234-4e2b-8474-a48ed3d839ae",
   "metadata": {},
   "outputs": [],
   "source": []
  },
  {
   "cell_type": "markdown",
   "id": "6aa5b0ef-dff4-4a5c-8f96-14709cc655fb",
   "metadata": {},
   "source": [
    "## all() and any()"
   ]
  },
  {
   "cell_type": "code",
   "execution_count": 1,
   "id": "c333ab86-c3da-4768-8846-e08af6d602c3",
   "metadata": {},
   "outputs": [
    {
     "name": "stdout",
     "output_type": "stream",
     "text": [
      "\n"
     ]
    }
   ],
   "source": [
    "'''\n",
    "You can use all() to determine if all the values in an iterable evaluate to True\n",
    "any() determines if one or more values in an iterable evaluate to True\n",
    "'''\n",
    "print()"
   ]
  },
  {
   "cell_type": "code",
   "execution_count": null,
   "id": "43d2fd71-7500-448c-81b0-9c8d650cd8e4",
   "metadata": {},
   "outputs": [],
   "source": []
  },
  {
   "cell_type": "markdown",
   "id": "bbbbca14-7eed-4b5c-9ce8-6272a27ce768",
   "metadata": {},
   "source": [
    "#  Initializing a List to a Fixed Number of Elements"
   ]
  },
  {
   "cell_type": "code",
   "execution_count": 2,
   "id": "7e37664d-360f-4c05-b238-ec8b6c9f2b0b",
   "metadata": {},
   "outputs": [],
   "source": [
    "# immutable elements\n",
    "my_list = [None] * 10"
   ]
  },
  {
   "cell_type": "code",
   "execution_count": 3,
   "id": "7857996d-ae7b-4bfa-b7b4-7a73326a8dc3",
   "metadata": {},
   "outputs": [],
   "source": [
    "# For mutable elements, the same construct will result in all elements of the list referring to the same object.\n",
    "my_list=[{1}] * 10"
   ]
  },
  {
   "cell_type": "code",
   "execution_count": 4,
   "id": "e3bfb203-2361-4d45-aa57-9d08633e7132",
   "metadata": {},
   "outputs": [],
   "source": [
    "my_list[0].add(2)"
   ]
  },
  {
   "cell_type": "code",
   "execution_count": 6,
   "id": "47be0f6f-6f07-4385-9d3b-db1912a67097",
   "metadata": {},
   "outputs": [
    {
     "name": "stdout",
     "output_type": "stream",
     "text": [
      "[{1, 2}, {1, 2}, {1, 2}, {1, 2}, {1, 2}, {1, 2}, {1, 2}, {1, 2}, {1, 2}, {1, 2}]\n"
     ]
    }
   ],
   "source": [
    "print(my_list)"
   ]
  },
  {
   "cell_type": "code",
   "execution_count": 7,
   "id": "c4de633d-5b92-434d-9b37-398080598a91",
   "metadata": {},
   "outputs": [],
   "source": [
    "# insted for mutable objects\n",
    "my_list = [{1} for _ in range(10)]"
   ]
  },
  {
   "cell_type": "code",
   "execution_count": null,
   "id": "7b3d156a-baeb-4866-86cf-6d3fc5f069f8",
   "metadata": {},
   "outputs": [],
   "source": []
  },
  {
   "cell_type": "code",
   "execution_count": null,
   "id": "2836d946-807d-466a-925a-c1f356439d9f",
   "metadata": {},
   "outputs": [],
   "source": []
  },
  {
   "cell_type": "markdown",
   "id": "dcde3d65-fabb-4870-ad97-815f89c37745",
   "metadata": {},
   "source": [
    "# Comprehensions"
   ]
  },
  {
   "cell_type": "code",
   "execution_count": 2,
   "id": "695b2440-240d-45a6-9952-ecd44cd54660",
   "metadata": {},
   "outputs": [
    {
     "name": "stdout",
     "output_type": "stream",
     "text": [
      "\n"
     ]
    }
   ],
   "source": [
    "'''\n",
    "[ <expression> for <element> in <iterable> ]\n",
    "\n",
    "[ <expression> for <element> in <iterable> if <condition> ] ---> Conditional List Comprehensions\n",
    "you can append one or more if conditions to filter values.\n",
    "\n",
    "else can be used in List comprehension constructs, but be careful regarding the syntax. \n",
    "The if/else clauses should be used before for loop, not after.\n",
    "\n",
    "Double Iteration - [... for x in ... for y in ...] \n",
    "\n",
    "\n",
    "{expression for varname, varname in iterableObj Conditional Statement}\n",
    "{a:b for varname in iterableObj Conditional Statement}\n",
    "tuple(expression for varname in iterableObj Conditional Statement)\n",
    "(*(expression for varname in iterableObj Conditional Statement),)\n",
    "\n",
    "\n",
    "Generator expressions are very similar to list comprehensions. The main difference is that it does not create a full\n",
    "set of results at once; it creates a generator object which can then be iterated over.\n",
    "\n",
    "(expression for varname in iterableObj Conditional Statement) -----> Generator\n",
    "\n",
    "generator objects cannot be indexed and makes use of the next function to get items in order.\n",
    "\n",
    "Generator expressions are lazily evaluated, which means that they generate and return each value only when the\n",
    "generator is iterated. This is often useful when iterating through large datasets, avoiding the need to create a\n",
    "duplicate of the dataset in memory\n",
    "\n",
    "\n",
    "Refactoring:\n",
    "\n",
    "    Map: map(F, S) == [F(x) for x in S]\n",
    "    Filter: filter(P, S) == [x for x in S if P(x)]\n",
    "\n",
    "\n",
    "NOTE:\n",
    "    if the expression that begins the comprehension is a tuple then it must be parenthesized\n",
    "    [x, y for x, y in [(1, 2), (3, 4), (5, 6)]] WRONG\n",
    "    [(x, y) for x, y in [(1, 2), (3, 4), (5, 6)]] CORRECT\n",
    "\n",
    "\n",
    "\n",
    "Nested list comprehensions, unlike list comprehensions with nested loops, are List comprehensions within a list\n",
    "comprehension.\n",
    "\n",
    "#Nested List Comprehension\n",
    "[[x + y for x in [1, 2, 3]] for y in [3, 4, 5]]\n",
    "#Out: [[4, 5, 6], [5, 6, 7], [6, 7, 8]]\n",
    "\n",
    "'''\n",
    "print()"
   ]
  },
  {
   "cell_type": "code",
   "execution_count": 3,
   "id": "fe1d729f-cd39-4972-b57e-5025d25dac68",
   "metadata": {},
   "outputs": [
    {
     "data": {
      "text/plain": [
       "['*', 'u', 'i', '*', '*', 'i', '*', '*']"
      ]
     },
     "execution_count": 3,
     "metadata": {},
     "output_type": "execute_result"
    }
   ],
   "source": [
    "[x if x in 'aeiou' else '*' for x in 'building']"
   ]
  },
  {
   "cell_type": "code",
   "execution_count": 21,
   "id": "56a119e1-6afa-4e6b-a84b-9b29854f7652",
   "metadata": {},
   "outputs": [],
   "source": [
    "''' transpose of a matrix'''\n",
    "matrix = [\n",
    "    [1,2,3],\n",
    "    [4,5,6],\n",
    "    [7,8,9]\n",
    "]"
   ]
  },
  {
   "cell_type": "code",
   "execution_count": 22,
   "id": "1ebd80b8-145d-4d5f-885e-47c5512149a6",
   "metadata": {},
   "outputs": [
    {
     "data": {
      "text/plain": [
       "[[1, 4, 7], [2, 5, 8], [3, 6, 9]]"
      ]
     },
     "execution_count": 22,
     "metadata": {},
     "output_type": "execute_result"
    }
   ],
   "source": [
    "[[row[i] for row in matrix] for i in range(len(matrix))]"
   ]
  },
  {
   "cell_type": "code",
   "execution_count": null,
   "id": "e36ee5be-52d5-46b7-91d4-1736edf101e1",
   "metadata": {},
   "outputs": [],
   "source": []
  },
  {
   "cell_type": "code",
   "execution_count": null,
   "id": "2adfddd4-5b88-4f80-97fb-991de66ebdfd",
   "metadata": {},
   "outputs": [],
   "source": []
  },
  {
   "cell_type": "markdown",
   "id": "27c73172-a41a-4c9f-940d-f03707086b85",
   "metadata": {},
   "source": [
    "## Reserved Keywords"
   ]
  },
  {
   "cell_type": "code",
   "execution_count": 1,
   "id": "5718187c-295e-4a51-a71c-d226629dab78",
   "metadata": {},
   "outputs": [
    {
     "name": "stdout",
     "output_type": "stream",
     "text": [
      "['False', 'None', 'True', 'and', 'as', 'assert', 'async', 'await', 'break', 'class', 'continue', 'def', 'del', 'elif', 'else', 'except', 'finally', 'for', 'from', 'global', 'if', 'import', 'in', 'is', 'lambda', 'nonlocal', 'not', 'or', 'pass', 'raise', 'return', 'try', 'while', 'with', 'yield']\n"
     ]
    }
   ],
   "source": [
    "import keyword\n",
    "print(keyword.kwlist)"
   ]
  },
  {
   "cell_type": "code",
   "execution_count": null,
   "id": "68c00587-6239-4a42-ac01-2e74ddb45c9e",
   "metadata": {},
   "outputs": [],
   "source": []
  },
  {
   "cell_type": "markdown",
   "id": "061f16a5-c17f-4d73-8897-814bec18af18",
   "metadata": {},
   "source": [
    "## Per-defined Modules"
   ]
  },
  {
   "cell_type": "code",
   "execution_count": 2,
   "id": "ece8b342-28d0-4f4d-a8df-66b3d3a9e236",
   "metadata": {},
   "outputs": [
    {
     "name": "stdout",
     "output_type": "stream",
     "text": [
      "\n",
      "Please wait a moment while I gather a list of all available modules...\n",
      "\n"
     ]
    },
    {
     "name": "stderr",
     "output_type": "stream",
     "text": [
      "/opt/anaconda3/lib/python3.11/site-packages/nltk/twitter/__init__.py:20: UserWarning: The twython library has not been installed. Some functionality from the twitter package will not be available.\n",
      "  warnings.warn(\n",
      "/opt/anaconda3/lib/python3.11/pkgutil.py:92: UserWarning: The numpy.array_api submodule is still experimental. See NEP 47.\n",
      "  __import__(info.name)\n",
      "/opt/anaconda3/lib/python3.11/site-packages/_distutils_hack/__init__.py:33: UserWarning: Setuptools is replacing distutils.\n",
      "  warnings.warn(\"Setuptools is replacing distutils.\")\n",
      "No QCoreApplication instance found. Application patches not applied. You have to call load_stylesheet function after instantiation of QApplication to take effect. \n"
     ]
    },
    {
     "name": "stdout",
     "output_type": "stream",
     "text": [
      "6c7190bc8b55ffe67f57__mypyc bz2                 jupyterlab_plotly   readline\n",
      "AppKit              cProfile            jupyterlab_pygments referencing\n",
      "Cocoa               cachetools          jupyterlab_server   regex\n",
      "CoreFoundation      calendar            jupyterlab_widgets  reloadModuleData\n",
      "CoreServices        category_encoders   jwt                 repo_cli\n",
      "FSEvents            certifi             kaggle              reprlib\n",
      "Foundation          cffi                keyring             requests\n",
      "IPython             cgi                 keyword             requests_file\n",
      "OpenSSL             cgitb               kiwisolver          requests_toolbelt\n",
      "PIL                 chardet             lazy_loader         resource\n",
      "PyQt5               charset_normalizer  lazy_object_proxy   rfc3339_validator\n",
      "__future__          chunk               lckr_jupyterlab_variableinspector rfc3986_validator\n",
      "__hello__           click               lib2to3             rich\n",
      "__phello__          cloudpickle         libarchive          rlcompleter\n",
      "_abc                clyent              libfuturize         rope\n",
      "_aix_support        cmath               libmambapy          rpds\n",
      "_argon2_cffi_bindings cmd                 libpasteurize       rtree\n",
      "_ast                code                lief                ruamel_yaml\n",
      "_asyncio            codecs              linecache           runpy\n",
      "_bisect             codeop              linkify_it          s3fs\n",
      "_black_version      collections         llvmlite            sched\n",
      "_blake2             colorama            lmdb                scipy\n",
      "_bootsubprocess     colorcet            locale              scrapy\n",
      "_brotli             colorsys            locket              seaborn\n",
      "_bz2                comm                logging             secrets\n",
      "_cffi_backend       compileall          lxml                select\n",
      "_codecs             concurrent          lz4                 selectors\n",
      "_codecs_cn          conda               lzma                semver\n",
      "_codecs_hk          conda_build         mactypes            send2trash\n",
      "_codecs_iso2022     conda_content_trust mailbox             service_identity\n",
      "_codecs_jp          conda_env           mailcap             setuptools\n",
      "_codecs_kr          conda_index         markdown            shelve\n",
      "_codecs_tw          conda_libmamba_solver markdown_it         shlex\n",
      "_collections        conda_pack          markupsafe          shutil\n",
      "_collections_abc    conda_package_handling marshal             signal\n",
      "_compat_pickle      conda_package_streaming math                sipbuild\n",
      "_compression        conda_token         matplotlib          site\n",
      "_contextvars        conda_verify        matplotlib_inline   six\n",
      "_crypt              configparser        mccabe              skimage\n",
      "_csv                constantly          mdit_py_plugins     sklearn\n",
      "_ctypes             contextlib          mdurl               slugify\n",
      "_ctypes_test        contextvars         menuinst            smart_open\n",
      "_curses             contourpy           mimetypes           smmap\n",
      "_curses_panel       cookiecutter        mistune             smtpd\n",
      "_datetime           copy                mmap                smtplib\n",
      "_dbm                copyreg             modulefinder        snappy\n",
      "_decimal            cpuinfo             more_itertools      sndhdr\n",
      "_distutils_hack     crypt               mpmath              sniffio\n",
      "_elementtree        cryptography        msgpack             snowballstemmer\n",
      "_functools          cssselect           multidict           socket\n",
      "_hashlib            csv                 multipledispatch    socketserver\n",
      "_heapq              ctypes              multiprocessing     socks\n",
      "_imp                curl                munkres             sockshandler\n",
      "_io                 curses              mypy                sortedcontainers\n",
      "_json               cycler              mypy_extensions     soupsieve\n",
      "_locale             cytoolz             mypyc               sphinx\n",
      "_lsprof             dask                mysql               spyder\n",
      "_lzma               dataclasses         navigator_updater   spyder_kernels\n",
      "_markupbase         datashader          nbclient            sqlalchemy\n",
      "_md5                datetime            nbconvert           sqlite3\n",
      "_multibytecodec     dateutil            nbformat            sre_compile\n",
      "_multiprocessing    dbm                 nest_asyncio        sre_constants\n",
      "_opcode             debugpy             netrc               sre_parse\n",
      "_operator           decimal             networkx            ssl\n",
      "_osx_support        decorator           nis                 stack_data\n",
      "_pickle             defusedxml          nltk                stat\n",
      "_plotly_future_     diff_match_patch    nntplib             statistics\n",
      "_plotly_utils       difflib             notebook            statsmodels\n",
      "_posixshmem         dill                notebook_shim       streamlit\n",
      "_posixsubprocess    dis                 ntpath              string\n",
      "_py_abc             distributed         nturl2path          stringprep\n",
      "_pydecimal          distro              numba               struct\n",
      "_pyio               distutils           numbergen           subprocess\n",
      "_pytest             docstring_to_markdown numbers             sunau\n",
      "_queue              doctest             numexpr             sympy\n",
      "_random             docutils            numpy               symtable\n",
      "_scproxy            dotenv              numpydoc            sys\n",
      "_sha1               email               objc                sysconfig\n",
      "_sha256             encodings           opcode              syslog\n",
      "_sha3               ensurepip           opendatasets        tables\n",
      "_sha512             entrypoints         openpyxl            tabnanny\n",
      "_signal             enum                operator            tabulate\n",
      "_sitebuiltins       erfa                optparse            tarfile\n",
      "_socket             errno               os                  tblib\n",
      "_sqlite3            et_xmlfile          osax                telnetlib\n",
      "_sre                executing           overrides           tempfile\n",
      "_ssl                fastjsonschema      packaging           tenacity\n",
      "_stat               faulthandler        pandas              terminado\n",
      "_statistics         fcntl               pandas_flavor       termios\n",
      "_string             filecmp             pandocfilters       test\n",
      "_strptime           fileinput           panel               test_pycosat\n",
      "_struct             filelock            param               text_unidecode\n",
      "_symtable           flake8              parsel              textdistance\n",
      "_sysconfigdata__darwin_darwin flask               parso               textwrap\n",
      "_sysconfigdata_x86_64_apple_darwin13_4_0 fnmatch             partd               this\n",
      "_testbuffer         fontTools           past                threading\n",
      "_testcapi           fractions           pathlib             threadpoolctl\n",
      "_testclinic         frozendict          pathspec            three_merge\n",
      "_testimportmultiple frozenlist          patsy               tifffile\n",
      "_testinternalcapi   fsspec              pdb                 time\n",
      "_testmultiphase     ftplib              pexpect             timeit\n",
      "_thread             functools           pickle              tinycss2\n",
      "_threading_local    future              pickleshare         tkinter\n",
      "_tkinter            gc                  pickletools         tldextract\n",
      "_tokenize           genericpath         pingouin            tlz\n",
      "_tracemalloc        gensim              pip                 token\n",
      "_typing             getopt              pipes               tokenize\n",
      "_uuid               getpass             pkce                toml\n",
      "_warnings           gettext             pkg_resources       tomlkit\n",
      "_watchdog_fsevents  git                 pkginfo             tomllib\n",
      "_weakref            gitdb               pkgutil             toolz\n",
      "_weakrefset         glob                platform            tornado\n",
      "_xxsubinterpreters  gmpy2               platformdirs        tqdm\n",
      "_xxtestfuzz         graphlib            plistlib            trace\n",
      "_yaml               greenlet            plotly              traceback\n",
      "_zoneinfo           grp                 pluggy              tracemalloc\n",
      "abc                 gzip                ply                 traitlets\n",
      "aem                 h5py                poplib              truststore\n",
      "aifc                hashlib             posix               tty\n",
      "aiobotocore         heapdict            posixpath           turtle\n",
      "aiohttp             heapq               pprint              turtledemo\n",
      "aioitertools        hmac                profile             twisted\n",
      "aiosignal           holoviews           prometheus_client   types\n",
      "alabaster           html                prompt_toolkit      typing\n",
      "altair              http                protego             typing_extensions\n",
      "anaconda_anon_usage hvplot              pstats              tzdata\n",
      "anaconda_catalogs   hyperlink           psutil              tzlocal\n",
      "anaconda_cloud_auth idlelib             pty                 uc_micro\n",
      "anaconda_navigator  idna                ptyprocess          ujson\n",
      "anaconda_project    imagecodecs         pure_eval           unicodedata\n",
      "antigravity         imageio             pwd                 unidecode\n",
      "anyio               imagesize           py                  unittest\n",
      "appdirs             imaplib             py_compile          urllib\n",
      "applaunchservices   imblearn            pyarrow             urllib3\n",
      "appnope             imghdr              pyasn1              uu\n",
      "appscript           imp                 pyasn1_modules      uuid\n",
      "archspec            importlib           pyclbr              validators\n",
      "argon2              importlib_metadata  pycodestyle         venv\n",
      "argparse            incremental         pycosat             w3lib\n",
      "array               inflection          pycparser           warnings\n",
      "arrow               iniconfig           pyct                watchdog\n",
      "ast                 inspect             pycurl              wave\n",
      "astroid             intake              pydantic            wcwidth\n",
      "astropy             intervaltree        pydeck              weakref\n",
      "asttokens           io                  pydispatch          webbrowser\n",
      "async_lru           ipaddress           pydoc               webencodings\n",
      "asynchat            ipykernel           pydoc_data          websocket\n",
      "asyncio             ipykernel_launcher  pydocstyle          werkzeug\n",
      "asyncore            ipython_genutils    pyexpat             whatthepatch\n",
      "atexit              ipywidgets          pyflakes            wheel\n",
      "atomicwrites        isort               pygments            widgetsnbextension\n",
      "attr                isympy              pylab               wrapt\n",
      "attrs               itemadapter         pylint              wsgiref\n",
      "audioop             itemloaders         pylint_venv         wurlitzer\n",
      "automat             itertools           pyls_spyder         xarray\n",
      "autopep8            itsdangerous        pylsp               xdrlib\n",
      "babel               jedi                pylsp_black         xlwings\n",
      "backports           jellyfish           pylsp_jsonrpc       xml\n",
      "base64              jinja2              pymysql             xmlrpc\n",
      "bcrypt              jmespath            pyodbc              xxlimited\n",
      "bdb                 joblib              pyparsing           xxlimited_35\n",
      "binaryornot         json                pytest              xxsubtype\n",
      "binascii            json5               pythonjsonlogger    xyzservices\n",
      "binstar_client      jsonpatch           pytoolconfig        yaml\n",
      "bisect              jsonpointer         pytz                yapf\n",
      "black               jsonschema          pyviz_comms         yapftests\n",
      "blackd              jsonschema_specifications pywt                yarl\n",
      "bleach              jupyter             qdarkstyle          zict\n",
      "blib2to3            jupyter_c_kernel    qstylizer           zipapp\n",
      "blinker             jupyter_client      qtawesome           zipfile\n",
      "bokeh               jupyter_console     qtconsole           zipimport\n",
      "boltons             jupyter_core        qtpy                zipp\n",
      "botocore            jupyter_events      queue               zlib\n",
      "bottleneck          jupyter_lsp         queuelib            zmq\n",
      "brotli              jupyter_server      quopri              zoneinfo\n",
      "bs4                 jupyter_server_terminals random              zope\n",
      "builtins            jupyterlab          re                  zstandard\n",
      "\n",
      "Enter any module name to get more help.  Or, type \"modules spam\" to search\n",
      "for modules whose name or summary contain the string \"spam\".\n",
      "\n"
     ]
    }
   ],
   "source": [
    "help('modules')"
   ]
  },
  {
   "cell_type": "code",
   "execution_count": null,
   "id": "13dd2324-d955-4e45-b033-74c0f9a31d18",
   "metadata": {},
   "outputs": [],
   "source": []
  },
  {
   "cell_type": "markdown",
   "id": "5c5c4bbc-405e-4425-ba32-eec9118c9b67",
   "metadata": {},
   "source": [
    "## List built-in objects"
   ]
  },
  {
   "cell_type": "code",
   "execution_count": 3,
   "id": "2bb582d4-a5d4-447b-afa0-e2378f819ccd",
   "metadata": {
    "scrolled": true
   },
   "outputs": [
    {
     "data": {
      "text/plain": [
       "['ArithmeticError',\n",
       " 'AssertionError',\n",
       " 'AttributeError',\n",
       " 'BaseException',\n",
       " 'BaseExceptionGroup',\n",
       " 'BlockingIOError',\n",
       " 'BrokenPipeError',\n",
       " 'BufferError',\n",
       " 'BytesWarning',\n",
       " 'ChildProcessError',\n",
       " 'ConnectionAbortedError',\n",
       " 'ConnectionError',\n",
       " 'ConnectionRefusedError',\n",
       " 'ConnectionResetError',\n",
       " 'DeprecationWarning',\n",
       " 'EOFError',\n",
       " 'Ellipsis',\n",
       " 'EncodingWarning',\n",
       " 'EnvironmentError',\n",
       " 'Exception',\n",
       " 'ExceptionGroup',\n",
       " 'False',\n",
       " 'FileExistsError',\n",
       " 'FileNotFoundError',\n",
       " 'FloatingPointError',\n",
       " 'FutureWarning',\n",
       " 'GeneratorExit',\n",
       " 'IOError',\n",
       " 'ImportError',\n",
       " 'ImportWarning',\n",
       " 'IndentationError',\n",
       " 'IndexError',\n",
       " 'InterruptedError',\n",
       " 'IsADirectoryError',\n",
       " 'KeyError',\n",
       " 'KeyboardInterrupt',\n",
       " 'LookupError',\n",
       " 'MemoryError',\n",
       " 'ModuleNotFoundError',\n",
       " 'NameError',\n",
       " 'None',\n",
       " 'NotADirectoryError',\n",
       " 'NotImplemented',\n",
       " 'NotImplementedError',\n",
       " 'OSError',\n",
       " 'OverflowError',\n",
       " 'PendingDeprecationWarning',\n",
       " 'PermissionError',\n",
       " 'ProcessLookupError',\n",
       " 'RecursionError',\n",
       " 'ReferenceError',\n",
       " 'ResourceWarning',\n",
       " 'RuntimeError',\n",
       " 'RuntimeWarning',\n",
       " 'StopAsyncIteration',\n",
       " 'StopIteration',\n",
       " 'SyntaxError',\n",
       " 'SyntaxWarning',\n",
       " 'SystemError',\n",
       " 'SystemExit',\n",
       " 'TabError',\n",
       " 'TimeoutError',\n",
       " 'True',\n",
       " 'TypeError',\n",
       " 'UnboundLocalError',\n",
       " 'UnicodeDecodeError',\n",
       " 'UnicodeEncodeError',\n",
       " 'UnicodeError',\n",
       " 'UnicodeTranslateError',\n",
       " 'UnicodeWarning',\n",
       " 'UserWarning',\n",
       " 'ValueError',\n",
       " 'Warning',\n",
       " 'ZeroDivisionError',\n",
       " '__IPYTHON__',\n",
       " '__build_class__',\n",
       " '__debug__',\n",
       " '__doc__',\n",
       " '__import__',\n",
       " '__loader__',\n",
       " '__name__',\n",
       " '__package__',\n",
       " '__pybind11_internals_v4_clang_libcpp_cxxabi1002__',\n",
       " '__spec__',\n",
       " 'abs',\n",
       " 'aiter',\n",
       " 'all',\n",
       " 'anext',\n",
       " 'any',\n",
       " 'ascii',\n",
       " 'bin',\n",
       " 'bool',\n",
       " 'breakpoint',\n",
       " 'bytearray',\n",
       " 'bytes',\n",
       " 'callable',\n",
       " 'chr',\n",
       " 'classmethod',\n",
       " 'compile',\n",
       " 'complex',\n",
       " 'copyright',\n",
       " 'credits',\n",
       " 'delattr',\n",
       " 'dict',\n",
       " 'dir',\n",
       " 'display',\n",
       " 'divmod',\n",
       " 'enumerate',\n",
       " 'eval',\n",
       " 'exec',\n",
       " 'execfile',\n",
       " 'filter',\n",
       " 'float',\n",
       " 'format',\n",
       " 'frozenset',\n",
       " 'get_ipython',\n",
       " 'getattr',\n",
       " 'globals',\n",
       " 'hasattr',\n",
       " 'hash',\n",
       " 'help',\n",
       " 'hex',\n",
       " 'id',\n",
       " 'input',\n",
       " 'int',\n",
       " 'isinstance',\n",
       " 'issubclass',\n",
       " 'iter',\n",
       " 'len',\n",
       " 'license',\n",
       " 'list',\n",
       " 'locals',\n",
       " 'map',\n",
       " 'max',\n",
       " 'memoryview',\n",
       " 'min',\n",
       " 'next',\n",
       " 'object',\n",
       " 'oct',\n",
       " 'open',\n",
       " 'ord',\n",
       " 'pow',\n",
       " 'print',\n",
       " 'property',\n",
       " 'range',\n",
       " 'repr',\n",
       " 'reversed',\n",
       " 'round',\n",
       " 'runfile',\n",
       " 'set',\n",
       " 'setattr',\n",
       " 'slice',\n",
       " 'sorted',\n",
       " 'staticmethod',\n",
       " 'str',\n",
       " 'sum',\n",
       " 'super',\n",
       " 'tuple',\n",
       " 'type',\n",
       " 'vars',\n",
       " 'zip']"
      ]
     },
     "execution_count": 3,
     "metadata": {},
     "output_type": "execute_result"
    }
   ],
   "source": [
    "dir(__builtins__)"
   ]
  },
  {
   "cell_type": "code",
   "execution_count": null,
   "id": "cc05ff68-2718-4785-a5ff-df58cf450a1e",
   "metadata": {},
   "outputs": [],
   "source": []
  },
  {
   "cell_type": "markdown",
   "id": "86062d58-b6f0-488e-b137-9ad6e45c69a2",
   "metadata": {},
   "source": [
    "## Finding DataType"
   ]
  },
  {
   "cell_type": "code",
   "execution_count": 4,
   "id": "9596ed03-26a2-4161-ba58-1665a1872a87",
   "metadata": {},
   "outputs": [
    {
     "data": {
      "text/plain": [
       "int"
      ]
     },
     "execution_count": 4,
     "metadata": {},
     "output_type": "execute_result"
    }
   ],
   "source": [
    "type(23)"
   ]
  },
  {
   "cell_type": "code",
   "execution_count": null,
   "id": "eed5e43f-1d7b-438a-abec-926ef6924dfb",
   "metadata": {},
   "outputs": [],
   "source": []
  },
  {
   "cell_type": "markdown",
   "id": "b116fa28-605d-4243-8fcb-a6f1cfd34055",
   "metadata": {},
   "source": [
    "## Finding Address of an Object"
   ]
  },
  {
   "cell_type": "code",
   "execution_count": 1,
   "id": "3dff978a-ff20-44ef-9cac-1700070eed56",
   "metadata": {},
   "outputs": [
    {
     "data": {
      "text/plain": [
       "4353464232"
      ]
     },
     "execution_count": 1,
     "metadata": {},
     "output_type": "execute_result"
    }
   ],
   "source": [
    "a = 23\n",
    "id(a)"
   ]
  },
  {
   "cell_type": "code",
   "execution_count": null,
   "id": "140c6a9c-3201-4e60-8ae6-69a4b1f12668",
   "metadata": {},
   "outputs": [],
   "source": []
  },
  {
   "cell_type": "markdown",
   "id": "349ec8c8-9696-4e83-b07a-25c0214843aa",
   "metadata": {},
   "source": [
    "## Finding the lenght of an Object"
   ]
  },
  {
   "cell_type": "code",
   "execution_count": 1,
   "id": "435bb0e2-6437-4083-8c83-695e058fa714",
   "metadata": {},
   "outputs": [],
   "source": [
    "# len(Obj)"
   ]
  },
  {
   "cell_type": "code",
   "execution_count": null,
   "id": "4a92d7c8-ab11-4093-b43e-ecaa2d6177c7",
   "metadata": {},
   "outputs": [],
   "source": []
  },
  {
   "cell_type": "markdown",
   "id": "f2935cdf-1ee7-448a-a86d-fd90012c1240",
   "metadata": {},
   "source": [
    "## Displaying output"
   ]
  },
  {
   "cell_type": "code",
   "execution_count": 5,
   "id": "6e705c06-2714-4764-88b5-de2c0afa83d8",
   "metadata": {},
   "outputs": [],
   "source": [
    "# print(val)\n",
    "# print(val-1,val-2,...,val-n)\n",
    "# print(\"...{}...\".format(val))\n",
    "# print(f'...{val}...')\n",
    "# Format Specifiers: %d %f %s\n",
    "# print(\"...%d..%0.2f...%s...\" %(val-1,val-2,val3))\n",
    "# print(....., end=\"\\n\", sep=\" \")"
   ]
  },
  {
   "cell_type": "code",
   "execution_count": null,
   "id": "7e6895eb-f3bc-4e60-8094-76a12215a692",
   "metadata": {},
   "outputs": [],
   "source": []
  },
  {
   "cell_type": "markdown",
   "id": "e8ee3ecb-4dc8-49c9-9d0a-738006802e75",
   "metadata": {},
   "source": [
    "## Reading data"
   ]
  },
  {
   "cell_type": "code",
   "execution_count": 8,
   "id": "526bd7ed-8c6c-4cff-849a-2f6722f0d23c",
   "metadata": {},
   "outputs": [],
   "source": [
    "# input(\".....\")\n",
    "# data is always stored in the form of a str object."
   ]
  },
  {
   "cell_type": "code",
   "execution_count": null,
   "id": "7193ded9-8dd1-4c89-85bb-a99269949616",
   "metadata": {},
   "outputs": [],
   "source": []
  },
  {
   "cell_type": "markdown",
   "id": "987d49ae-1fa1-4d3b-bf88-eef5bfd6a7cc",
   "metadata": {},
   "source": [
    "## Check if an Object is and Instance of a particular Class"
   ]
  },
  {
   "cell_type": "code",
   "execution_count": 6,
   "id": "f7d4dd3b-bf79-405b-b2ad-da5eaf137a50",
   "metadata": {},
   "outputs": [],
   "source": [
    "#isinstance() --> handy function"
   ]
  },
  {
   "cell_type": "code",
   "execution_count": null,
   "id": "231ba8f5-590b-48a6-80ce-812cadebbd68",
   "metadata": {},
   "outputs": [],
   "source": []
  },
  {
   "cell_type": "markdown",
   "id": "e6b96e24-739e-4d62-b755-64cc709b879b",
   "metadata": {},
   "source": [
    "## Zip and Unzip Files"
   ]
  },
  {
   "cell_type": "code",
   "execution_count": 7,
   "id": "60a611ff-2888-426c-9dbb-13733429f4a6",
   "metadata": {},
   "outputs": [
    {
     "name": "stdout",
     "output_type": "stream",
     "text": [
      "\n"
     ]
    }
   ],
   "source": [
    "'''\n",
    "------------------------------------\n",
    "\t\tZip and Unzip Files\n",
    "------------------------------------\n",
    "\n",
    "-> import zipfile \n",
    "\n",
    "\n",
    "COMPRESS\n",
    "-----------\n",
    "-> fp = zipfile.ZipFile('images.zip','w',ZIP_DEFLATED)\n",
    "-> fp.write('cpp.png') ....\n",
    "-> fp.close()\n",
    "\n",
    "\n",
    "DECOMPRESS\n",
    "-----------\n",
    "-> fp = zipfile.ZipFile('images.zip','r')\n",
    "-> fp.extractall()\n",
    "-> fp.close()\n",
    "'''\n",
    "print()"
   ]
  },
  {
   "cell_type": "code",
   "execution_count": null,
   "id": "957371fe-8442-4af7-bc31-776c30893430",
   "metadata": {},
   "outputs": [],
   "source": []
  },
  {
   "cell_type": "markdown",
   "id": "1c9893ef-ceb4-4110-b30e-4b7cc7ef5351",
   "metadata": {},
   "source": [
    "## Installing 3rd Party Software"
   ]
  },
  {
   "cell_type": "code",
   "execution_count": 9,
   "id": "4346456d-18a0-43b8-8300-5be81f08aa06",
   "metadata": {},
   "outputs": [
    {
     "name": "stdout",
     "output_type": "stream",
     "text": [
      "\n"
     ]
    }
   ],
   "source": [
    "'''\n",
    "pip - tool used to install Third party software modules in python\n",
    "\tpip install [package]\n",
    "\tpip show [package]\n",
    "\tpip list\n",
    "'''\n",
    "print()"
   ]
  },
  {
   "cell_type": "code",
   "execution_count": null,
   "id": "a313c13b-c902-4432-bf20-9202a6aa4485",
   "metadata": {},
   "outputs": [],
   "source": []
  },
  {
   "cell_type": "code",
   "execution_count": null,
   "id": "db45f52c-283b-44c7-a8d5-759e75cb693c",
   "metadata": {},
   "outputs": [],
   "source": []
  },
  {
   "cell_type": "markdown",
   "id": "98befcfd-61ed-4a26-9907-a0dd97dc825b",
   "metadata": {},
   "source": [
    "## Misc"
   ]
  },
  {
   "cell_type": "code",
   "execution_count": 2,
   "id": "5f6bcbc5-679d-4632-b281-d5573dea09c9",
   "metadata": {},
   "outputs": [],
   "source": [
    "# sys.exit()\n",
    "# getpass\n",
    "# itertools"
   ]
  },
  {
   "cell_type": "code",
   "execution_count": 3,
   "id": "af5a163a-2956-48da-a941-a845a6e734ac",
   "metadata": {},
   "outputs": [
    {
     "name": "stdout",
     "output_type": "stream",
     "text": [
      "\n"
     ]
    }
   ],
   "source": [
    "'''\n",
    "varname = zip(Iterable_obj, Iterable_obj)\n",
    "- if we have unequal sizes only equal values are packed\n",
    "- if needed we can typecast to dict\n",
    "'''\n",
    "print()"
   ]
  },
  {
   "cell_type": "code",
   "execution_count": 4,
   "id": "15d39cf6-d7be-4350-9b52-5c4901921ceb",
   "metadata": {},
   "outputs": [
    {
     "name": "stdout",
     "output_type": "stream",
     "text": [
      "\n"
     ]
    }
   ],
   "source": [
    "'''\n",
    "%10 to extract last number\n",
    "//10 to remove the last digit\n",
    "'''\n",
    "print()"
   ]
  },
  {
   "cell_type": "code",
   "execution_count": null,
   "id": "eb858976-ff14-46e7-a1e2-178f21c53edd",
   "metadata": {},
   "outputs": [],
   "source": []
  }
 ],
 "metadata": {
  "kernelspec": {
   "display_name": "Python 3 (ipykernel)",
   "language": "python",
   "name": "python3"
  },
  "language_info": {
   "codemirror_mode": {
    "name": "ipython",
    "version": 3
   },
   "file_extension": ".py",
   "mimetype": "text/x-python",
   "name": "python",
   "nbconvert_exporter": "python",
   "pygments_lexer": "ipython3",
   "version": "3.11.7"
  }
 },
 "nbformat": 4,
 "nbformat_minor": 5
}
