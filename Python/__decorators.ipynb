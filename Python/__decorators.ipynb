{
 "cells": [
  {
   "cell_type": "markdown",
   "id": "a72303c2-6c80-4104-9b07-763facbf7fd4",
   "metadata": {},
   "source": [
    "# Decorators"
   ]
  },
  {
   "cell_type": "markdown",
   "id": "a099a404-e853-4da1-8ecf-644a86e0d844",
   "metadata": {},
   "source": [
    "## First-class Functions"
   ]
  },
  {
   "cell_type": "code",
   "execution_count": 1,
   "id": "b8218f09-e1bb-4740-98f2-a717a4315d40",
   "metadata": {},
   "outputs": [
    {
     "name": "stdout",
     "output_type": "stream",
     "text": [
      "\n"
     ]
    }
   ],
   "source": [
    "'''\n",
    "\n",
    "def square():\n",
    "\t-----\n",
    "\t-----\n",
    "\n",
    "f = square\n",
    "\n",
    "f() --> same as square() assigning function to a variable\n",
    "\n",
    "-> we can also pass functions as arguments and return functions as a result of other functions.\n",
    "\n",
    "'''\n",
    "print()"
   ]
  },
  {
   "cell_type": "markdown",
   "id": "e2fdc802-d3cf-4330-9da1-346b29a320b9",
   "metadata": {},
   "source": [
    "## Closures"
   ]
  },
  {
   "cell_type": "code",
   "execution_count": 2,
   "id": "fee91e1c-785a-4a4a-8899-86b013a0bba9",
   "metadata": {},
   "outputs": [
    {
     "name": "stdout",
     "output_type": "stream",
     "text": [
      "\n"
     ]
    }
   ],
   "source": [
    "'''\n",
    "-> nested function\n",
    "-> accessing non-local variables\n",
    "-> return nested function\n",
    "-> caller class\n",
    "\n",
    "-> Closure is an inner function that remembers and has access to variables in the local scope \n",
    "   in which it was created, even after the outer function has finished executing.\n",
    "\n",
    "-> enclosed function has only read access to the inherited variables but cannot make assignments to them\n",
    "\n",
    "'''\n",
    "print()"
   ]
  },
  {
   "cell_type": "code",
   "execution_count": 6,
   "id": "e94aa9a8-18ac-48c5-9ed4-a76e6789d065",
   "metadata": {},
   "outputs": [
    {
     "name": "stdout",
     "output_type": "stream",
     "text": [
      "********************\n",
      "-------Hello--------\n",
      "********************\n"
     ]
    }
   ],
   "source": [
    "def closure():\n",
    "\tmsg = \"Hello\"\n",
    "\tdef display():\n",
    "\t\tprint('*'*20)\n",
    "\t\tprint(msg.center(20,'-'))\n",
    "\t\tprint('*'*20)\n",
    "\treturn display\n",
    "\t\n",
    "d = closure()\n",
    "d()"
   ]
  },
  {
   "cell_type": "code",
   "execution_count": 7,
   "id": "79aa490a-7d87-4615-b388-0e941141ddf8",
   "metadata": {},
   "outputs": [
    {
     "name": "stdout",
     "output_type": "stream",
     "text": [
      "Computer Science\n"
     ]
    }
   ],
   "source": [
    "class Dept:\n",
    "\tdef __init__(self):\n",
    "\t\tself.dept = {\n",
    "\t\t\t\t'cs':\"Computer Science\",\n",
    "\t\t\t\t'm':\"Maths\",\n",
    "\t\t\t\t'e':\"English\"\n",
    "\t\t}\n",
    "\t\n",
    "\tdef __call__(self,dept):\n",
    "\t\treturn self.dept[dept]\n",
    "\t\t\n",
    "\n",
    "d = Dept()\n",
    "department = d('cs')\n",
    "\n",
    "print(department)"
   ]
  },
  {
   "cell_type": "code",
   "execution_count": 9,
   "id": "5a6158e8-0b07-4cb1-a0e4-36a039d89f63",
   "metadata": {},
   "outputs": [
    {
     "name": "stdout",
     "output_type": "stream",
     "text": [
      "Computer Science\n"
     ]
    }
   ],
   "source": [
    "def dept():\n",
    "\tdept = {\n",
    "\t\t\t\t'cs':\"Computer Science\",\n",
    "\t\t\t\t'm':\"Maths\",\n",
    "\t\t\t\t'e':\"English\"\n",
    "\t\t}\n",
    "\t\t\n",
    "\tdef dname(code):\n",
    "\t\treturn dept[code]\n",
    "\treturn dname\n",
    "\t\n",
    "\t\n",
    "d = dept()\n",
    "name = d('cs')\n",
    "\n",
    "print(name)"
   ]
  },
  {
   "cell_type": "markdown",
   "id": "245b7b6f-f7fb-4bb3-88d3-b5c2d3d6b654",
   "metadata": {},
   "source": [
    "## Decorators"
   ]
  },
  {
   "cell_type": "code",
   "execution_count": 11,
   "id": "95e7a3a6-65bd-44e3-8c31-c81784a99e68",
   "metadata": {},
   "outputs": [
    {
     "name": "stdout",
     "output_type": "stream",
     "text": [
      "\n"
     ]
    }
   ],
   "source": [
    "'''\n",
    "-> Is a function that takes another function as an argument, adds some kind of functionality and \n",
    "    returns another function. all of this without altering the source code of the function we passed in.\n",
    "\n",
    "-> Why? decorating functions allows us to easily add functionaily to our existing functions. \n",
    "   Logic for additional functionality is in the wrapper function.\n",
    "\n",
    "-> uses: logging, timing how long functions run\n",
    "\n",
    "-> we can chain decorators, inner decorators are executed first\n",
    "\n",
    "-> passing function as parameter\n",
    "-> nested function calling parameter function\n",
    "-> return nested function\n",
    "-> @ for decoration\n",
    "\n",
    "'''\n",
    "print()\n"
   ]
  },
  {
   "cell_type": "code",
   "execution_count": 23,
   "id": "061051da-8c02-408d-82e8-8af55c8143f0",
   "metadata": {},
   "outputs": [
    {
     "name": "stdout",
     "output_type": "stream",
     "text": [
      "\n"
     ]
    }
   ],
   "source": [
    "'''\n",
    "e.g.\n",
    "\t\t\n",
    "\t\tdef decorator(func):\n",
    "\t\t\tdef wrapper():\n",
    "\t\t\t\t# do something\n",
    "\t\t\t\tfunc()\n",
    "\t\t\t\t# do something\n",
    "\t\t\treturn wrapper\n",
    "\t\t\n",
    "\t\t@decorator ---> myfunc = decorator(myfunc) ---> modifies our function and converts it into a wrapper\n",
    "\t\tdef myfunc():\n",
    "\t\t\t------\n",
    "\t\t\t------\n",
    "\t\t\t\n",
    "\t\tmyfunc() --> will run the wrapper function becuase of @decorator\n",
    "\n",
    "'''\n",
    "print()"
   ]
  },
  {
   "cell_type": "code",
   "execution_count": 16,
   "id": "4a9ab2a9-4da2-4b6c-b5f1-507403cde423",
   "metadata": {},
   "outputs": [
    {
     "name": "stdout",
     "output_type": "stream",
     "text": [
      "<function which_func.<locals>.what_parameters at 0x133663740>\n",
      "5\n"
     ]
    }
   ],
   "source": [
    "def which_func(func):\n",
    "\tdef what_parameters(*args):\n",
    "\t\tprint(func(*args))\n",
    "\treturn what_parameters\n",
    "\n",
    "\n",
    "def add(x,y):\n",
    "\treturn x+y\n",
    "\n",
    "which_func_add = which_func(add)\n",
    "print(which_func_add)\n",
    "which_func_add(2,3)"
   ]
  },
  {
   "cell_type": "code",
   "execution_count": 17,
   "id": "6403851a-f797-4c63-9060-5e2fc1e588bf",
   "metadata": {},
   "outputs": [
    {
     "name": "stdout",
     "output_type": "stream",
     "text": [
      "person's details:\n",
      "Name:Sam\n",
      "Age:30\n"
     ]
    }
   ],
   "source": [
    "def decorator_function(original_function):\n",
    "\tdef wrapper_function(*args,**kwargs):\n",
    "\t\tprint('person\\'s details:')\n",
    "\t\treturn original_function(*args,**kwargs)\n",
    "\treturn wrapper_function\n",
    "\n",
    "# @decorator_function # implies display_info = decorator_function(display_info)\n",
    "def display_info(name,age):\n",
    "\tprint('Name:{}\\nAge:{}'.format(name,age))\n",
    "\n",
    "\n",
    "display_info = decorator_function(display_info)\n",
    "display_info(age=30,name='Sam')"
   ]
  },
  {
   "cell_type": "code",
   "execution_count": null,
   "id": "9abf554f-e37b-4a9a-a09c-15537daf71b2",
   "metadata": {},
   "outputs": [],
   "source": []
  }
 ],
 "metadata": {
  "kernelspec": {
   "display_name": "Python 3 (ipykernel)",
   "language": "python",
   "name": "python3"
  },
  "language_info": {
   "codemirror_mode": {
    "name": "ipython",
    "version": 3
   },
   "file_extension": ".py",
   "mimetype": "text/x-python",
   "name": "python",
   "nbconvert_exporter": "python",
   "pygments_lexer": "ipython3",
   "version": "3.11.7"
  }
 },
 "nbformat": 4,
 "nbformat_minor": 5
}
