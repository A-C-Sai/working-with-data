{
 "cells": [
  {
   "cell_type": "markdown",
   "id": "a5263bd1-7667-466f-ac06-fd06dd61534b",
   "metadata": {},
   "source": [
    "# Functions"
   ]
  },
  {
   "cell_type": "markdown",
   "id": "d24f98f8-1da6-4c0b-8ed9-fd3137e1ac77",
   "metadata": {},
   "source": [
    "Code re-usability within the same program."
   ]
  },
  {
   "cell_type": "code",
   "execution_count": 1,
   "id": "4f57b237-9bd0-4ae5-b59f-71564fd14b7f",
   "metadata": {},
   "outputs": [
    {
     "name": "stdout",
     "output_type": "stream",
     "text": [
      "\n"
     ]
    }
   ],
   "source": [
    "'''\n",
    "\n",
    "Function Definition\n",
    "------------------------\n",
    "\n",
    "ENFORCING POSITIONAL OR KEYBORD ARGUMENTS:\n",
    "\t\n",
    "\tdef func(a,b)\n",
    "\tdef func(a,b,/)\n",
    "\tdef func(*,a=defauleValue,b=defaultValue)\n",
    "\tdef func(a,/,c,d,*,d,e,f)\n",
    " \n",
    "-> All parameters specified after the first asterisk in the function signature are keyword-only.\n",
    "-> An argument can be an expression BUT a parameter is like a variable definition. It cannot be an expression.\n",
    "\n",
    "def functionName(\n",
    "    positional paramaters e.g. a ,\n",
    "    variable length parameters *args tuple, \n",
    "    default parameters e.g. a=value, \n",
    "    keyword variable length parameters **kwargs dict\n",
    "    ):\n",
    "\t\n",
    "    # DOCSTRING\n",
    "\t-------------------\n",
    "\t-------------------\n",
    "\n",
    "\treturn _____ ---------> optional, here we can return multiple values which we can unpack\n",
    "\n",
    "\n",
    "Function CALL\n",
    "------------------------\n",
    "\n",
    "functionName(positional arguments, variable length arguments, default arguments, keyword variable length arguments)\n",
    "functionName(positional arguments, variable length arguments, keyword variable length arguments, default arguments)\n",
    "\n",
    "\n",
    "- for every function call, there must exist a function defition otherwise we get NameError\n",
    "\n",
    "- keyword arguments used in function call\n",
    "\n",
    "\n",
    "- functionName is a valid VARIABLE NAME => function as object => can assign them to variables\n",
    "\n",
    "- nested function: the inner function can only be called inside the outer function. It is not visible\n",
    "\t\t\t\t\t\t\t\t\t outside the outside fucntion.\n",
    "\t\t\t\t\t\t\t\t\t \n",
    "- can pass function as a parameter\n",
    "\n",
    "- function can return another function\n",
    "\n",
    "'''\n",
    "print()"
   ]
  },
  {
   "cell_type": "code",
   "execution_count": 6,
   "id": "eadacbb3-aaf9-497a-8c3f-20386a38a198",
   "metadata": {},
   "outputs": [
    {
     "name": "stdout",
     "output_type": "stream",
     "text": [
      "\n"
     ]
    }
   ],
   "source": [
    "'''\n",
    "\n",
    "NOTE:\n",
    "\t- Defaults are created only once\n",
    "\t \n",
    "\t\te.g. def addItem(item, l=[]):\n",
    "\t\t\t\t\tl.append(item)\n",
    "\t\t\t\t\tprint(l)\n",
    "     \n",
    "\t\t\t-> having default value as [] might not be the best idea (mutable types), None might be better\n",
    "\n",
    "\n",
    "__defaults__\n",
    "\n",
    "-> In Python, arguments are passed by assignment:\n",
    "\n",
    "    Mutating a parameter will mutate the argument (if the argument's type is mutable).\n",
    "    Reassigning the parameter won’t reassign the argument.\n",
    "\n",
    "\n",
    "'''\n",
    "print()"
   ]
  },
  {
   "cell_type": "code",
   "execution_count": 2,
   "id": "e2f55f59-c629-4a9e-926e-52bb14379284",
   "metadata": {},
   "outputs": [
    {
     "name": "stdout",
     "output_type": "stream",
     "text": [
      "\n"
     ]
    }
   ],
   "source": [
    "'''\n",
    "def func(*args):\n",
    "    for i in args:\n",
    "        print(i)\n",
    "\n",
    "arguments = [1,2,3]\n",
    "func(*arguments)\n",
    "# 1\n",
    "# 2\n",
    "# 3\n",
    "'''\n",
    "print()"
   ]
  },
  {
   "cell_type": "code",
   "execution_count": null,
   "id": "2ff51efe-8500-4559-9191-0d737406fed6",
   "metadata": {},
   "outputs": [],
   "source": []
  },
  {
   "cell_type": "code",
   "execution_count": null,
   "id": "c3672324-3aac-462a-be39-138b5371ed9c",
   "metadata": {},
   "outputs": [],
   "source": []
  },
  {
   "cell_type": "code",
   "execution_count": 20,
   "id": "4ed4b84c-e7b1-426f-948e-b5391563c113",
   "metadata": {},
   "outputs": [
    {
     "name": "stdout",
     "output_type": "stream",
     "text": [
      "5\n",
      "1\n"
     ]
    }
   ],
   "source": [
    "def sum(x,y):\n",
    "\treturn x+y \n",
    "\n",
    "def sub(x,y):\n",
    "\treturn x-y\n",
    "\n",
    "def perform(func,x,y,/):\n",
    "\treturn func(x,y)\n",
    "\n",
    "\n",
    "adder = perform(sum,2,3)\n",
    "subtract = perform(sub,3,2)\n",
    "\n",
    "print(adder)\n",
    "print(subtract)"
   ]
  },
  {
   "cell_type": "code",
   "execution_count": 21,
   "id": "9b86b3b3-a7db-49aa-a097-07fd25113549",
   "metadata": {},
   "outputs": [
    {
     "name": "stdout",
     "output_type": "stream",
     "text": [
      "Hello World!\n"
     ]
    }
   ],
   "source": [
    "def outer(): # acts as a factory for functions\n",
    "\tdef inner():\n",
    "\t\tprint(\"Hello World!\")\n",
    "\treturn inner\n",
    "\t\n",
    "\n",
    "d = outer()\n",
    "d()"
   ]
  },
  {
   "cell_type": "code",
   "execution_count": 8,
   "id": "2cc293c9-45e8-49ef-b123-c0d31033c5cc",
   "metadata": {},
   "outputs": [
    {
     "name": "stdout",
     "output_type": "stream",
     "text": [
      "\n"
     ]
    }
   ],
   "source": [
    "'''\n",
    "- When we want to modify global variables inside function body, that modification must be preceded with: \n",
    "  global global_variable,....,global_variable-n\n",
    "  \n",
    "- UnboundLocalError\n",
    "\n",
    "- When globals and local variables share the same variable name PVM only remembers latest values. \n",
    "  To access global variables we use globals() function which is of dict type.\n",
    "\n",
    "'''\n",
    "print()"
   ]
  },
  {
   "cell_type": "code",
   "execution_count": 2,
   "id": "704ed9da-26b2-408c-8a17-917fbd10951c",
   "metadata": {},
   "outputs": [
    {
     "name": "stdout",
     "output_type": "stream",
     "text": [
      "\n"
     ]
    }
   ],
   "source": [
    "'''\n",
    "- Anonymous/Lambda functions does not contain any name explicitly. To perform instant operations. \n",
    "- lambda keyword\n",
    "- contains single executable statement only\n",
    "- no need for return statement\n",
    "\n",
    "syntax: varname = lambda param-list: Expression\n",
    "      : varname = (lambda param-list: Expression)(arguments)\n",
    "\n",
    "'''\n",
    "print()"
   ]
  },
  {
   "cell_type": "code",
   "execution_count": 11,
   "id": "e13b1168-b810-48cb-868e-798a1429d733",
   "metadata": {},
   "outputs": [
    {
     "name": "stdout",
     "output_type": "stream",
     "text": [
      "\n"
     ]
    }
   ],
   "source": [
    "'''\n",
    "import sys \n",
    "\n",
    "It is possible to change the recursion depth limit by using sys.setrecursionlimit(limit) and check this limit by\n",
    "sys.getrecursionlimit().\n",
    "'''\n",
    "print()"
   ]
  },
  {
   "cell_type": "code",
   "execution_count": null,
   "id": "569a16dc-2844-449a-9fae-0d06270478d4",
   "metadata": {},
   "outputs": [],
   "source": []
  },
  {
   "cell_type": "code",
   "execution_count": 7,
   "id": "1906a206-a87b-477f-b156-93cf278982f2",
   "metadata": {},
   "outputs": [
    {
     "name": "stdout",
     "output_type": "stream",
     "text": [
      "\n"
     ]
    }
   ],
   "source": [
    "'''\n",
    "varname = filter(functionName,Iterable_obj)\n",
    "- Filters only true values\n",
    "- functionName represents either Normal function or anonymous functions\n",
    "- if needed we can typecast\n",
    "\n",
    "varname = map(mapFunc,Iterable_obj)\n",
    "- if needed we can typecast\n",
    "\n",
    "import functools\n",
    "varname = functools.reduce(reduceFunc, iterable_obj)\n",
    "- varname is of fundamental datatype\n",
    "\n",
    "- Every function belongs to a MODULE. The default module in Python is \"builtins\".\n",
    "  Out of many pre-defined modules, in python programming one implicit pre-defined \n",
    "  module is imported to every python program called \"builtins\"\n",
    "\n",
    "'''\n",
    "print()"
   ]
  },
  {
   "cell_type": "code",
   "execution_count": null,
   "id": "2ee27f3f-825d-4c79-a250-1acefbddf02c",
   "metadata": {},
   "outputs": [],
   "source": []
  },
  {
   "cell_type": "markdown",
   "id": "dc9e4de1-f839-48da-8375-4b1085743a46",
   "metadata": {},
   "source": [
    "# Examples"
   ]
  },
  {
   "cell_type": "code",
   "execution_count": 25,
   "id": "ce481d47-a839-4e77-a01f-e90305362dbe",
   "metadata": {},
   "outputs": [
    {
     "name": "stdout",
     "output_type": "stream",
     "text": [
      "120\n"
     ]
    }
   ],
   "source": [
    "'''\n",
    "3! = 3x2x1\n",
    "   = 3x2!\n",
    "   = 3*2*1!\n",
    "   = 3*2*1*0!\n",
    "'''\n",
    "\n",
    "# fact is called n+1 times\n",
    "# pyhton has recursive limit set to 1000 calls\n",
    "\n",
    "def fact(n):\n",
    "\t\n",
    "\tif n==0: # base case\n",
    "\t\treturn 1\n",
    "\telse: # recursive case\n",
    "\t\treturn n*fact(n-1)\n",
    "\n",
    "\n",
    "fact3 = fact(5)\n",
    "\n",
    "print(fact3)"
   ]
  },
  {
   "cell_type": "code",
   "execution_count": 10,
   "id": "6c50ec1a-890a-4e53-a4ec-13b39c7aa2a2",
   "metadata": {},
   "outputs": [
    {
     "data": {
      "text/plain": [
       "1"
      ]
     },
     "execution_count": 10,
     "metadata": {},
     "output_type": "execute_result"
    }
   ],
   "source": [
    "def counter():\n",
    "    num = 0\n",
    "\n",
    "    def increment():\n",
    "        #num +=1\n",
    "        nonlocal num\n",
    "        num += 1\n",
    "        return num\n",
    "        \n",
    "    return increment\n",
    "\n",
    "c = counter()\n",
    "c() #1"
   ]
  },
  {
   "cell_type": "code",
   "execution_count": 20,
   "id": "ac1b4afc-ac74-4187-b7c9-9464dbb11586",
   "metadata": {},
   "outputs": [],
   "source": [
    "def shift_elements(array, shift_by):\n",
    "    \n",
    "    # calculate actual amount to shift by\n",
    "    shift_by = shift_by%len(array)\n",
    "\n",
    "    #reverse the shift direction to be more intuitive\n",
    "    shift_by *= -1\n",
    "\n",
    "    # shift array\n",
    "    shifted_array = array[shift_by:]+array[:shift_by]\n",
    "\n",
    "    return shifted_array\n"
   ]
  },
  {
   "cell_type": "code",
   "execution_count": 21,
   "id": "6e67ec17-1893-4b13-859d-dcbcfbd049cb",
   "metadata": {},
   "outputs": [
    {
     "data": {
      "text/plain": [
       "[2, 3, 4, 5, 1]"
      ]
     },
     "execution_count": 21,
     "metadata": {},
     "output_type": "execute_result"
    }
   ],
   "source": [
    "shift_elements([1,2,3,4,5],-1)"
   ]
  },
  {
   "cell_type": "code",
   "execution_count": null,
   "id": "309fa017-2086-4d41-8d7b-c543bbc7bc92",
   "metadata": {},
   "outputs": [],
   "source": []
  }
 ],
 "metadata": {
  "kernelspec": {
   "display_name": "Python [conda env:base] *",
   "language": "python",
   "name": "conda-base-py"
  },
  "language_info": {
   "codemirror_mode": {
    "name": "ipython",
    "version": 3
   },
   "file_extension": ".py",
   "mimetype": "text/x-python",
   "name": "python",
   "nbconvert_exporter": "python",
   "pygments_lexer": "ipython3",
   "version": "3.12.7"
  }
 },
 "nbformat": 4,
 "nbformat_minor": 5
}
