{
 "cells": [
  {
   "cell_type": "markdown",
   "id": "b822a393-c227-4c6d-b79e-f19300a8cf6d",
   "metadata": {},
   "source": [
    "# Python Database Communication"
   ]
  },
  {
   "cell_type": "code",
   "execution_count": 1,
   "id": "295fd420-9f0e-4ae5-8cdf-74eb09c4afdd",
   "metadata": {},
   "outputs": [
    {
     "name": "stdout",
     "output_type": "stream",
     "text": [
      "\n"
     ]
    }
   ],
   "source": [
    "'''\n",
    "Files\n",
    "\t- un-secured, unauthorized access, manipulation and deletion.\n",
    "\t  no user name and password.\n",
    "\n",
    "\t- limited amount of data\n",
    "\t- complex process to retrieve data/query data (indicies)\n",
    "\t- file archicture differs form OS to OS\n",
    "\t- don't contain col names (except csv files)\n",
    "\n",
    "RDBMS\n",
    "\t- Security; RDBMS database software considers user names and passwords\n",
    "\t- able to store large amounts of data\n",
    "\t- software arch remains same on all types of OSes\n",
    "\t- querying and processing the data from all RDBMS database softwares is very simple b/c\n",
    "\t  data of all RDBMS softwares organized in the form of tables with column names.\n",
    "'''\n",
    "print()"
   ]
  },
  {
   "cell_type": "code",
   "execution_count": 4,
   "id": "5dee9c26-80bb-496f-991a-7e7f7c3dbbb4",
   "metadata": {},
   "outputs": [],
   "source": [
    "# Database ----> Collection of Tables ----> Collection of Records\n",
    "# https://dev.mysql.com/doc/connector-python/en/connector-python-installation-binary.html"
   ]
  },
  {
   "cell_type": "code",
   "execution_count": null,
   "id": "fe311378-ec19-4206-ab4a-79e76f1a53a2",
   "metadata": {},
   "outputs": [],
   "source": []
  },
  {
   "cell_type": "code",
   "execution_count": 2,
   "id": "8e09fca1-aa3d-4cc6-b648-0f7b24f003ef",
   "metadata": {},
   "outputs": [
    {
     "name": "stdout",
     "output_type": "stream",
     "text": [
      "\n"
     ]
    }
   ],
   "source": [
    "'''\n",
    "STEPS FOR DEVELOPING PDBC APPLICATIONS\n",
    "____________________________________________\n",
    "\n",
    "1. Import third part modules related database software\n",
    "2. every python program must connect from database software\n",
    "3. every pyhton program must create an object of CURSOR\n",
    "4. Design a Query, send and execute Query in Database software\n",
    "5. every python program must process the result of query \n",
    "6. close the connection\n",
    "'''\n",
    "print()"
   ]
  },
  {
   "cell_type": "code",
   "execution_count": 9,
   "id": "44599838-bbca-4634-a15a-fde427a25317",
   "metadata": {},
   "outputs": [
    {
     "name": "stdout",
     "output_type": "stream",
     "text": [
      "\n"
     ]
    }
   ],
   "source": [
    "'''\n",
    "import mysql.connector OR mysql-connector-python\n",
    "\n",
    "con = mysql.connector.connect(host = 'DNS/IP ADDRESS',user=' ',passwd= ' ', database = ' ')\n",
    "\n",
    "mysql.connector.DatabaseError\n",
    "\n",
    "Domain Naming Service - it is the name of physical machine where database software installed. default - 'localhost'\n",
    "\n",
    "Internet Protocol Address - it is the address of physical machine where database software installed. default '127.0.0.1' ; loop back address\n",
    "\n",
    "\n",
    "\n",
    "3) \n",
    "\tTo create an object of cursor we use a function called cursor() which is present in connection object\n",
    "\n",
    "\t\tsyntax:\n",
    "\n",
    "\t\t\tvarname = connectionObj.cursor()\n",
    "\n",
    "\t\tpurpose:\n",
    "\n",
    "\t\t\tTo carry python program request or Query  to the database software and bring results of database software to python program.\n",
    "\n",
    "            curObj.execute(query)\n",
    "\n",
    "            connectionObj.commit()\n",
    "\t\t\t\t\t\t .rollback()\n",
    "\t\t\tcur.rowcount ----> attribute\n",
    "\n",
    "\n",
    "4)\n",
    "\tQuery is one of the request to DB software\n",
    "\tQuery(DDL,DML,DRL) (physical,logical,view level)\n",
    "\tTo execute any type of query, we use execute() which is present in cursor obj.\n",
    "\n",
    "\t\tsyntax:\n",
    "\t\t\tquery = \"\"\"\n",
    "\t\t\t\t\t----------------\n",
    "\t\t\t\t\t----SQL CODE----\n",
    "\t\t\t\t\t----------------\n",
    "\n",
    "\t\t\t\t\t\t\"\"\"\"\n",
    "\n",
    "'''\n",
    "print()"
   ]
  },
  {
   "cell_type": "code",
   "execution_count": 14,
   "id": "cc63c7ec-5066-43df-a557-991955e94b85",
   "metadata": {},
   "outputs": [
    {
     "name": "stdout",
     "output_type": "stream",
     "text": [
      "\n"
     ]
    }
   ],
   "source": [
    "'''\n",
    "TYPES OF QUERIES:\n",
    "\tDDL (DATA DEFINITION LANGUAGE) - create, drop, alter\n",
    "\tDML (DATA MANIPULATION LANGUAGE) - insert, delete, update\n",
    "\tDRL (DATA RETRIVAL LANGUAGE) - select\n",
    "\n",
    "\n",
    "    DDL - to deal with physical level of tables such as table creation with col names, dropping tables and restructring cols of table\n",
    "\n",
    "DML - to insert records, delete records and update records of any table. \n",
    "\t  After performing any DML operation through python program\n",
    "\t  we muct commit the database by using commit() to make changes permanent.\n",
    "\t  befor using commit() the changes are just marked but arent permanent we can revert by using rollback().\n",
    "\t  revert changes use rollback using rollback().\n",
    "\n",
    "\n",
    "DRL - used for reading the records from table\n",
    "\t  once the select query executed, all records are present\n",
    "\t  in the object of cursor in Python.\n",
    "\n",
    "\t  1) cur.fetchone()\n",
    "\n",
    "\t  \t\t- used for obtaining one record at a time, where cursor object is pointing.\n",
    "\t  \t\t  it returns either tuple or None.\n",
    "\n",
    "\n",
    "\n",
    "\t  2) cur.fetchmany(# of records)\n",
    "\n",
    "\t  \t\t- used for obtaining specified # of records.\n",
    "\n",
    "\t  \t\t\t\t# records == 0 ---> all records\n",
    "\t  \t\t\t\t0 < # records <= Total ---> specifiec # records\n",
    "\t  \t\t\t\t# records > Total ---> all records\n",
    "\t  \t\t\t\t# records < 0 -----> never give any result (NO result)\n",
    "\t  \t\t\t\tList of TUPLES\n",
    "\n",
    "\t  3) cur.fetchall()\n",
    "\n",
    "\t  \t\t- used for obtaining all the records from cursor object\n",
    "\t  \t\t  in the form list of tuples.\n",
    "\n",
    "\n",
    "\t  cur.description ---> list of tuples.\n",
    "\n",
    "'''\n",
    "print()"
   ]
  },
  {
   "cell_type": "code",
   "execution_count": null,
   "id": "f6e61bb7-2c89-4529-bee8-41ae9a23a3cf",
   "metadata": {},
   "outputs": [],
   "source": []
  },
  {
   "cell_type": "code",
   "execution_count": 1,
   "id": "c7811153-5476-4630-88a7-d32a95a8a02e",
   "metadata": {},
   "outputs": [],
   "source": [
    "# explore ORM like SQLAlchemy"
   ]
  },
  {
   "cell_type": "code",
   "execution_count": null,
   "id": "efc71c58-5146-45d2-b6cb-558a5163620c",
   "metadata": {},
   "outputs": [],
   "source": []
  }
 ],
 "metadata": {
  "kernelspec": {
   "display_name": "Python [conda env:base] *",
   "language": "python",
   "name": "conda-base-py"
  },
  "language_info": {
   "codemirror_mode": {
    "name": "ipython",
    "version": 3
   },
   "file_extension": ".py",
   "mimetype": "text/x-python",
   "name": "python",
   "nbconvert_exporter": "python",
   "pygments_lexer": "ipython3",
   "version": "3.12.7"
  }
 },
 "nbformat": 4,
 "nbformat_minor": 5
}
