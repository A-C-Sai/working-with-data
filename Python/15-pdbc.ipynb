{
 "cells": [
  {
   "cell_type": "markdown",
   "id": "b822a393-c227-4c6d-b79e-f19300a8cf6d",
   "metadata": {},
   "source": [
    "# Python Database Communication"
   ]
  },
  {
   "cell_type": "code",
   "execution_count": 1,
   "id": "295fd420-9f0e-4ae5-8cdf-74eb09c4afdd",
   "metadata": {},
   "outputs": [
    {
     "name": "stdout",
     "output_type": "stream",
     "text": [
      "\n"
     ]
    }
   ],
   "source": [
    "'''\n",
    "Files\n",
    "\t- un-secured, unauthorized access, manipulation and deletion.\n",
    "\t  no user name and password.\n",
    "\n",
    "\t- limited amount of data\n",
    "\t- complex process to retrieve data/query data (indicies)\n",
    "\t- file archicture differs form OS to OS\n",
    "\t- don't contain col names (except csv files)\n",
    "\n",
    "RDBMS\n",
    "\t- Security; RDBMS database software considers user names and passwords\n",
    "\t- able to store large amounts of data\n",
    "\t- software arch remains same on all types of OSes\n",
    "\t- querying and processing the data from all RDBMS database softwares is very simple b/c\n",
    "\t  data of all RDBMS softwares organized in the form of tables with column names.\n",
    "'''\n",
    "print()"
   ]
  },
  {
   "cell_type": "code",
   "execution_count": 4,
   "id": "5dee9c26-80bb-496f-991a-7e7f7c3dbbb4",
   "metadata": {},
   "outputs": [],
   "source": [
    "# Database ----> Collection of Tables ----> Collection of Records\n",
    "# https://dev.mysql.com/doc/connector-python/en/connector-python-installation-binary.html"
   ]
  },
  {
   "cell_type": "code",
   "execution_count": null,
   "id": "fe311378-ec19-4206-ab4a-79e76f1a53a2",
   "metadata": {},
   "outputs": [],
   "source": []
  },
  {
   "cell_type": "code",
   "execution_count": 7,
   "id": "8e09fca1-aa3d-4cc6-b648-0f7b24f003ef",
   "metadata": {},
   "outputs": [
    {
     "name": "stdout",
     "output_type": "stream",
     "text": [
      "\n"
     ]
    }
   ],
   "source": [
    "'''\n",
    "STEPS FOR DEVELOPING PDBC APPLICATIONS\n",
    "____________________________________________\n",
    "\n",
    "1. Import third part modules related database software\n",
    "2. every python program must connect from database software\n",
    "3. every pyhton program must create an object of CURSOR\n",
    "4. Design a Query, send and execute Query in Database software\n",
    "5. every python program must process the result of query \n",
    "6. close the connection\n",
    "\n",
    "'''\n",
    "print()"
   ]
  },
  {
   "cell_type": "code",
   "execution_count": null,
   "id": "44599838-bbca-4634-a15a-fde427a25317",
   "metadata": {},
   "outputs": [],
   "source": []
  }
 ],
 "metadata": {
  "kernelspec": {
   "display_name": "Python 3 (ipykernel)",
   "language": "python",
   "name": "python3"
  },
  "language_info": {
   "codemirror_mode": {
    "name": "ipython",
    "version": 3
   },
   "file_extension": ".py",
   "mimetype": "text/x-python",
   "name": "python",
   "nbconvert_exporter": "python",
   "pygments_lexer": "ipython3",
   "version": "3.11.7"
  }
 },
 "nbformat": 4,
 "nbformat_minor": 5
}
