{
 "cells": [
  {
   "cell_type": "markdown",
   "id": "4606b402-868e-4ed5-ab17-dbe9574a98c9",
   "metadata": {},
   "source": [
    "# OOPS "
   ]
  },
  {
   "cell_type": "code",
   "execution_count": 3,
   "id": "854d6a14-82d5-4894-803e-2e6e29ff7cba",
   "metadata": {},
   "outputs": [],
   "source": [
    "# Python belongs to functional and OOPL."
   ]
  },
  {
   "cell_type": "code",
   "execution_count": 11,
   "id": "8b13f4bd-c2d5-4e33-8cc3-15c13d2b3243",
   "metadata": {},
   "outputs": [
    {
     "name": "stdout",
     "output_type": "stream",
     "text": [
      "\n"
     ]
    }
   ],
   "source": [
    "'''\n",
    "--------------------------------\n",
    "\t\tOOPS Principles\n",
    "--------------------------------\n",
    "1) classes\n",
    "2) object\n",
    "---------------\n",
    "3) Data encapulation\n",
    "4) Data abstraction\n",
    "--------------\n",
    "5) inheritance\n",
    "6) polymorphism\n",
    "---------------\n",
    "7) message passing\n",
    "8) dynamic binding\n",
    "'''\n",
    "print()"
   ]
  },
  {
   "cell_type": "code",
   "execution_count": 15,
   "id": "6c474303-700b-4dde-addb-684f67cc2b8a",
   "metadata": {},
   "outputs": [
    {
     "name": "stdout",
     "output_type": "stream",
     "text": [
      "\n"
     ]
    }
   ],
   "source": [
    "'''\n",
    "Classes - to develop programmer defined data type and to develop any real time application\n",
    "Purpose: the purpose of programmer defined data type is to store customized data and to perform customized operations\n",
    "Keyword: class\n",
    "Definition: a class is a collection of variables/data members/attributes and methods(functions). When we define a class,\n",
    "\t\t\tmemory space is not created for data members and methods but whose memory space is created when we create an object of that class.\n",
    "'''\n",
    "print()"
   ]
  },
  {
   "cell_type": "code",
   "execution_count": 1,
   "id": "82014511-29e4-42dd-84c3-fb31cbc68397",
   "metadata": {},
   "outputs": [
    {
     "name": "stdout",
     "output_type": "stream",
     "text": [
      "\n"
     ]
    }
   ],
   "source": [
    "'''\n",
    "Types of data members in a class:\n",
    "\n",
    "\t1) instance data members\n",
    "\n",
    "\t\tCan be specified in 3 ways:\n",
    "\t\t\t- by using object name\n",
    "\t\t\t- by using instance methods\n",
    "\t\t\t- by using constructors\n",
    "\n",
    "\t\tmust be accessed w.r.t:\n",
    "\t\t\t- object name; objectName.InstanceDataMember\n",
    "\t\t\t- self; self.InstanceDataMember\n",
    "\n",
    "\t2) class lvl data members\n",
    "\t\n",
    "\t\t-> Only one copy\n",
    "\n",
    "\t\tCan be specified in 2 ways:\n",
    "\t\t\t- inside class definition\n",
    "\t\t\t- by using class lvl methods\n",
    "\n",
    "\t\tmust be accessed w.r.t:\n",
    "\t\t\t- class name; className.ClassLvlDataMember\n",
    "\t\t\t- object name; objectName.ClassLvlDataMember ----> be careful when using this to modify the var, as it will become a instance var.\n",
    "\t\t\t- cls; cls.ClassLvlDataMember\n",
    "\t\t\t- self; self.ClassLvlDataMember ----> be careful when using this to modify the var, as it will become a instance var.\n",
    "\n",
    "'''\n",
    "print()"
   ]
  },
  {
   "cell_type": "code",
   "execution_count": null,
   "id": "f1f8f154-ebf1-4b13-8754-9473d46331c3",
   "metadata": {},
   "outputs": [],
   "source": []
  }
 ],
 "metadata": {
  "kernelspec": {
   "display_name": "Python [conda env:base] *",
   "language": "python",
   "name": "conda-base-py"
  },
  "language_info": {
   "codemirror_mode": {
    "name": "ipython",
    "version": 3
   },
   "file_extension": ".py",
   "mimetype": "text/x-python",
   "name": "python",
   "nbconvert_exporter": "python",
   "pygments_lexer": "ipython3",
   "version": "3.12.7"
  }
 },
 "nbformat": 4,
 "nbformat_minor": 5
}
