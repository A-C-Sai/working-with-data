{
 "cells": [
  {
   "cell_type": "markdown",
   "id": "4606b402-868e-4ed5-ab17-dbe9574a98c9",
   "metadata": {},
   "source": [
    "# OOPS "
   ]
  },
  {
   "cell_type": "code",
   "execution_count": 3,
   "id": "854d6a14-82d5-4894-803e-2e6e29ff7cba",
   "metadata": {},
   "outputs": [],
   "source": [
    "# Python belongs to functional and OOPL."
   ]
  },
  {
   "cell_type": "code",
   "execution_count": 11,
   "id": "8b13f4bd-c2d5-4e33-8cc3-15c13d2b3243",
   "metadata": {},
   "outputs": [
    {
     "name": "stdout",
     "output_type": "stream",
     "text": [
      "\n"
     ]
    }
   ],
   "source": [
    "'''\n",
    "--------------------------------\n",
    "\t\tOOPS Principles\n",
    "--------------------------------\n",
    "1) classes\n",
    "2) object\n",
    "---------------\n",
    "3) Data encapulation\n",
    "4) Data abstraction\n",
    "--------------\n",
    "5) inheritance\n",
    "6) polymorphism\n",
    "---------------\n",
    "7) message passing\n",
    "8) dynamic binding\n",
    "'''\n",
    "print()"
   ]
  },
  {
   "cell_type": "code",
   "execution_count": 15,
   "id": "6c474303-700b-4dde-addb-684f67cc2b8a",
   "metadata": {},
   "outputs": [
    {
     "name": "stdout",
     "output_type": "stream",
     "text": [
      "\n"
     ]
    }
   ],
   "source": [
    "'''\n",
    "Classes - to develop programmer defined data type and to develop any real time application\n",
    "Purpose: the purpose of programmer defined data type is to store customized data and to perform customized operations\n",
    "Keyword: class\n",
    "Definition: a class is a collection of variables/data members/attributes and methods(functions). When we define a class,\n",
    "\t\t\tmemory space is not created for data members and methods but whose memory space is created when we create an object of that class.\n",
    "'''\n",
    "print()"
   ]
  },
  {
   "cell_type": "code",
   "execution_count": 5,
   "id": "a9bfee1a-a419-4b89-87f0-b2f7ca9cdbb3",
   "metadata": {},
   "outputs": [
    {
     "name": "stdout",
     "output_type": "stream",
     "text": [
      "\n"
     ]
    }
   ],
   "source": [
    "'''\n",
    "Objects\n",
    "\n",
    "purpose: to store data\n",
    "\n",
    "To create an object there must exist a class definition otherwise we get NameError.\n",
    "\n",
    "Definition: instance of a class is called an object (instance is nothing but allocating sufficient memory space for the data members and methods of a class)\n",
    "\n",
    "syntax:\n",
    "\tvarname = className()\n",
    "\n",
    "During creating memory space and initilization done by constructor.\n",
    "And when the program is over, whose memory space is destroyed by the garbage collector by calling its destructor.\n",
    "\n",
    "'''\n",
    "print()"
   ]
  },
  {
   "cell_type": "code",
   "execution_count": 7,
   "id": "809067ab-8d82-4780-89b6-5eaf28e85f01",
   "metadata": {},
   "outputs": [
    {
     "name": "stdout",
     "output_type": "stream",
     "text": [
      "\n"
     ]
    }
   ],
   "source": [
    "'''\n",
    "class <className>:\n",
    "\tclass level data members\n",
    "\n",
    "\tdef __init__(self, list of formal params if any):\n",
    "\t\t--------------------\n",
    "\t\t--------------------\n",
    "\tdef instanceMethod(self,list of formal params if any):\n",
    "\t\t-------------------\n",
    "\t\t------------------\n",
    "\t@classmethod\n",
    "\tdef classLvlMethod(cls,list of formal params if any):\n",
    "\t\t-------------------\n",
    "\t\t------------------\n",
    "\t@staticmethod\n",
    "\tdef staticMethod(list of formal params if any):\n",
    "\t\t-------------------\n",
    "\t\t------------------\n",
    "\tdef __del__(self):\n",
    "\t\t---------------\n",
    "\t\t---------------\n",
    "\t\t\n",
    "\t-> we can have nested/inner classes. make sure to use 'self' to initilize the inner class obj.\n",
    "\n",
    "'''\n",
    "print()"
   ]
  },
  {
   "cell_type": "code",
   "execution_count": 1,
   "id": "82014511-29e4-42dd-84c3-fb31cbc68397",
   "metadata": {},
   "outputs": [
    {
     "name": "stdout",
     "output_type": "stream",
     "text": [
      "\n"
     ]
    }
   ],
   "source": [
    "'''\n",
    "Types of data members in a class:\n",
    "\n",
    "\t1) instance data members\n",
    "\n",
    "\t\tCan be specified in 3 ways:\n",
    "\t\t\t- by using object name\n",
    "\t\t\t- by using instance methods\n",
    "\t\t\t- by using constructors\n",
    "\n",
    "\t\tmust be accessed w.r.t:\n",
    "\t\t\t- object name; objectName.InstanceDataMember\n",
    "\t\t\t- self; self.InstanceDataMember\n",
    "\n",
    "\t2) class lvl data members\n",
    "\t\n",
    "\t\t-> Only one copy\n",
    "\n",
    "\t\tCan be specified in 2 ways:\n",
    "\t\t\t- inside class definition\n",
    "\t\t\t- by using class lvl methods\n",
    "\n",
    "\t\tmust be accessed w.r.t:\n",
    "\t\t\t- class name; className.ClassLvlDataMember\n",
    "\t\t\t- object name; objectName.ClassLvlDataMember ----> be careful when using this to modify the var, as it will become a instance var.\n",
    "\t\t\t- cls; cls.ClassLvlDataMember\n",
    "\t\t\t- self; self.ClassLvlDataMember ----> be careful when using this to modify the var, as it will become a instance var.\n",
    "\n",
    "'''\n",
    "print()"
   ]
  },
  {
   "cell_type": "code",
   "execution_count": 4,
   "id": "f1f8f154-ebf1-4b13-8754-9473d46331c3",
   "metadata": {},
   "outputs": [
    {
     "name": "stdout",
     "output_type": "stream",
     "text": [
      "\n"
     ]
    }
   ],
   "source": [
    "'''\n",
    "Types of Methods in a class:\n",
    "\n",
    "\t1) Instance methods\n",
    "\n",
    "\t\tuse: \n",
    "\t\t\tfor performing specific operations on objects\n",
    "\t\t\n",
    "\t\tsyntax:\n",
    "\t\t\tdef InstanceMethodName(self,list of formal params if any):\n",
    "\t\t\t\tspecify instance data members\n",
    "\t\t\t\tperform specific operations\n",
    "\n",
    "\t\tInstance methods must be accessed w.r.t:\n",
    "\t\t\t- object; objectName.InstanceMethodName() ------> Internally: className.InstanceMethodName(objectName)\n",
    "\t\t\t- self; self.InstanceMethodName()\n",
    "\n",
    "\t\tWHAT IS self?:\n",
    "\t\t\t- 'self' is one of the implicit object and it contains the address of current object\n",
    "\t\t\t- reference to the current object\n",
    "\t\t\t- 'self' always to be used as first formal parameter in instance method\n",
    "\t\t\t- it is not a keyword, we can change the name but it is recommened to use self\n",
    "\t\t\t- it can be accessed inside of the corresponding instance method only\n",
    "\t\t\t- regular methods in a class take the instance as the first argument\n",
    "\t\t\t\n",
    "\n",
    "\n",
    "\n",
    "\t2) class lvl methods\n",
    "\n",
    "\t\tuse:\n",
    "\t\t\tfor performing common operations for objects of \n",
    "\t\t\tcorresponding class and specifies class lvl data members.\n",
    "\t\n",
    "\t\tsyntax:\n",
    "\t\t\t@classmethod -----> pre-defined decorator\n",
    "\t\t\tdef classLvlMethodName(cls,list of formal params if any):\n",
    "\t\t\t\tspecify class lvl data members\n",
    "\t\t\t\tperform common operations for all objects of corresponding class\n",
    "\n",
    "\t\tClass methods must be accessed w.r.t:\n",
    "\t\t\t- className; className.classLvlMethod()\n",
    "\t\t\t- cls; cls.classLvlMethod()\n",
    "\t\t\t- object; objectName.ClassMethodName() \n",
    "\t\t\t- self; self.ClassMethodName()\n",
    "\n",
    "\t\tWHAT IS cls?:\n",
    "\t\t\t- 'cls' is one of the implicit object and it contains the current class name\n",
    "\t\t\t- 'cls' always to be used as first formal parameter in class method\n",
    "\t\t\t- it can be accessed inside of the corresponding class lvl method definition only\n",
    "\t\t\n",
    "\t\t- we can use class methods as alternative constructors.\n",
    "\n",
    "\n",
    "\t3) static methods\n",
    "\n",
    "\t\tuse:\n",
    "\t\t\tfor performing universal operations or utility operations.\n",
    "\t\t\tif you aren't using self or cls in your function body can use instead use a static method?\n",
    "\t\n",
    "\t\tsyntax:\n",
    "\t\t\t@staticmethod -----> pre-defined decorator\n",
    "\t\t\tdef staticMethodName(list of formal params if any):\n",
    "\t\t\t\tutility/universal operations\n",
    "\n",
    "\t\t\t- Static methods never take cls or self but always takes object of other classes\n",
    "\n",
    "\t\tStatic methods must be accessed w.r.t:\n",
    "\t\t\t- className; className.staticMethod()\n",
    "\t\t\t- object; objectName.staticMethodName() \n",
    "\t\t\t- cls; cls.staticLvlMethod()\n",
    "\t\t\t- self; self.staticMethodName()\n",
    "'''\n",
    "print()"
   ]
  },
  {
   "cell_type": "code",
   "execution_count": 1,
   "id": "7b6fcf2d-a3fa-402c-9447-634e64c43902",
   "metadata": {},
   "outputs": [
    {
     "name": "stdout",
     "output_type": "stream",
     "text": [
      "\n"
     ]
    }
   ],
   "source": [
    "'''\n",
    "Constructors\n",
    "\n",
    "purpose: to initilize (placing our own data in object without leaving object empty) the object\n",
    "Definition: is a special method which is automatically called by PVM during object creation.\n",
    "\n",
    "Syntax: \n",
    "\tdef __init__(self,list of formal params if any):\n",
    "\t\tblock of statements \n",
    "\t\tperforms initilization\n",
    "\n",
    "Note: \n",
    "\t- Constructors WILL NOT return any value expect None.\n",
    "\t- Constructors can participate in Inheritance Process\n",
    "\t- Constructors can be overriden\n",
    "\n",
    "IMPORTANT:\n",
    "\tCONSTRUCTORS CANNOT BE OVERLOADED\n",
    "\tin a class of python we cant define both default and parameterized constructors [multiple constructors in 1 class] \n",
    "\tb/c PVM can remember only the latest constructor (due to its interpretation process). \n",
    "\tTo fulfill the need of both default and parameterized constructors, \n",
    "\twe define single constructor with default parameter mechanism.\n",
    "\n",
    "'''\n",
    "print()"
   ]
  },
  {
   "cell_type": "code",
   "execution_count": 3,
   "id": "69154e86-f4f1-4b07-a8f1-905d78d2291c",
   "metadata": {},
   "outputs": [
    {
     "name": "stdout",
     "output_type": "stream",
     "text": [
      "\n"
     ]
    }
   ],
   "source": [
    "'''\n",
    "Destructors & Garbage Collector\n",
    "\n",
    "- Garbage collector is one of the in-built program \n",
    "  in python which is running behind of every pyhton \n",
    "  program and whose role is to collect un-used memory\n",
    "  space and it improves performance of python based\n",
    "  applications.\n",
    "\n",
    "- every garbage collect program is internally\n",
    "  calling its own destructor program.\n",
    "\n",
    "- destructor function name in python is def __del__(self)\n",
    "\n",
    "- by default the destructor always called by garbage collector\n",
    "  when the program execution is completed for de-allocating the memory space \n",
    "  of objects which are used in that program. Where as constructor called \n",
    "  by PVM automatically when object is created for initilizing the object.\n",
    "\n",
    "- when the program execution is completed, GC calls its own destructor\n",
    "  to de-allocate the memory space of objects present in program and it \n",
    "  is called automatic garbage collection.\n",
    "\n",
    "\n",
    "There are 3 programming conditions for calling GC and to make the garbage collector to call destroctor function:\n",
    "\t1) by default, when program execution is completed\n",
    "\t2) object = None ----> forceful\n",
    "\t3) delete the object using the del operator. del objectName ------> forceful\n",
    "\n",
    "There is no need to write destroctor in class of python b/c GC contains its own destructor. \"We have fake powers\"\n",
    "\n",
    "gc module\n",
    "\t- isenabled()\n",
    "\t- enable()\n",
    "\t- disable()\n",
    "\n",
    "GC is not under control of programmers but always maintained and managed by OS and PVM.\n",
    "\n",
    "Try creating one obj, let 2 other objs be deep copies of 1st obj. destructor won't run as long as there is atleast one object point to the data.\n",
    "\n",
    "sys.getsizeof()\n",
    "\n",
    "'''\n",
    "print()"
   ]
  },
  {
   "cell_type": "code",
   "execution_count": 13,
   "id": "9e4041a4-5057-4318-b437-300e974f86ab",
   "metadata": {},
   "outputs": [
    {
     "name": "stdout",
     "output_type": "stream",
     "text": [
      "\n"
     ]
    }
   ],
   "source": [
    "'''\n",
    "Data Encapsulation and Data Abstraction\n",
    "\n",
    "DE: the process of hiding the confidential information, data/methods from extrenal programmers/ end users.\n",
    "\n",
    "DE can be applied on 2 levels:\n",
    "\t\n",
    "\tTo implement data encapulation in python, the data members/Methods must be preceded with double underscore (__)\n",
    "\n",
    "\n",
    "\t- at data members level\n",
    "\n",
    "\t\tclass <className>:\n",
    "\t\t\tdef methodname(self):\n",
    "\t\t\t\tself.__datamembername1 = value1\n",
    "\n",
    "\t\tclass <className>:\n",
    "\t\t\tdef __init__(self):\n",
    "\t\t\t\tself.__datamembername1 = value1\n",
    "\n",
    "\n",
    "\n",
    "\t- at methods level\n",
    "\t\t\t\n",
    "\t\tclass <className>:\n",
    "\t\t\tdef __methodname(self):\n",
    "\t\t\t\tself.datamembername1 = value1\n",
    "\t\t\n",
    "\n",
    "\n",
    "DA: the process of retrieving/extracting/usin essential details/methods without considering hidden details.\n",
    "\n",
    "NOTE: we can't apply data encapulation on constructors in python but whose data members can be encapsulated.\n",
    "'''\n",
    "print()"
   ]
  },
  {
   "cell_type": "code",
   "execution_count": 17,
   "id": "ee0993d6-f904-4210-aad6-cdb26536879c",
   "metadata": {},
   "outputs": [
    {
     "name": "stdout",
     "output_type": "stream",
     "text": [
      "\n"
     ]
    }
   ],
   "source": [
    "'''\n",
    "INHERITANCE\n",
    "\n",
    "Purpose: to build re-usable applications in python oop.\n",
    "Definition: \n",
    "\tThe process of obtaining data members, methods and constructors (features)\n",
    "\tof one class into another class.\n",
    "\n",
    "\tSuper/Base/Parent class\n",
    "\tSub/Derived/Child Class\n",
    "\n",
    "Types:\n",
    "\t- single : 1BC + 1DC\n",
    "\t- multi-level : 1BC + M.IBC + 1DC\n",
    "\t- hierarchical : 1B + M. IBC\n",
    "\t- multiple : M.BC + 1DC\n",
    "\t- hybrid : Combination of above inheritance types\n",
    "\n",
    "To inherit the features of Base class into derived class:\n",
    "\n",
    "\tclass <cls-1>:\n",
    "\t\t----\n",
    "\t\t----\n",
    "\tclass <cls-n>:\n",
    "\t\t------\n",
    "\t\t------\n",
    "\tclass <cls-n+1> (cls-1,cls-2.....,cls-n):\n",
    "\t\t------\n",
    "\t\t------\n",
    "\n",
    "The features of base class are inherited logically in derived class and \n",
    "we can assess them either by using object name or by using class name.\n",
    "\n",
    "Always recommended to create object of bottom most derived class b/c\n",
    "it contains features of intermediate base classes and top most base class.\n",
    "\n",
    "For every class in python there exists an implicit pre-defind superclass called \"object\"\n",
    "and it provides garbage collection facility to its sub classes.\n",
    "\n",
    "AttributeError\n",
    "\n",
    "-> When we are writing a child class constructor, either we include the properties of the parent class\n",
    "\t in the child class constructor or else we can call the constructor of the parent class using the function\n",
    "\t super(). Whenever we write a constructor for a child class the parent class constructor will be shadowed/hidden.\n",
    "\t It won't be called implicitly.\n",
    "\n",
    "Nameless object : \n",
    "\tco = child()\n",
    "\tco.totprop\n",
    "\n",
    "\t\tOR\n",
    "\n",
    "\tchild().totprop\n",
    "'''\n",
    "print()"
   ]
  },
  {
   "cell_type": "code",
   "execution_count": null,
   "id": "fa804107-2f97-444e-8c44-d6d5f97dbe89",
   "metadata": {},
   "outputs": [],
   "source": []
  }
 ],
 "metadata": {
  "kernelspec": {
   "display_name": "Python [conda env:base] *",
   "language": "python",
   "name": "conda-base-py"
  },
  "language_info": {
   "codemirror_mode": {
    "name": "ipython",
    "version": 3
   },
   "file_extension": ".py",
   "mimetype": "text/x-python",
   "name": "python",
   "nbconvert_exporter": "python",
   "pygments_lexer": "ipython3",
   "version": "3.12.7"
  }
 },
 "nbformat": 4,
 "nbformat_minor": 5
}
