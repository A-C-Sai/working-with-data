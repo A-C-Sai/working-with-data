{
 "cells": [
  {
   "cell_type": "markdown",
   "id": "4606b402-868e-4ed5-ab17-dbe9574a98c9",
   "metadata": {},
   "source": [
    "# OOPS "
   ]
  },
  {
   "cell_type": "code",
   "execution_count": 3,
   "id": "854d6a14-82d5-4894-803e-2e6e29ff7cba",
   "metadata": {},
   "outputs": [],
   "source": [
    "# Python belongs to functional and OOPL."
   ]
  },
  {
   "cell_type": "code",
   "execution_count": 11,
   "id": "8b13f4bd-c2d5-4e33-8cc3-15c13d2b3243",
   "metadata": {},
   "outputs": [
    {
     "name": "stdout",
     "output_type": "stream",
     "text": [
      "\n"
     ]
    }
   ],
   "source": [
    "'''\n",
    "--------------------------------\n",
    "\t\tOOPS Principles\n",
    "--------------------------------\n",
    "1) classes\n",
    "2) object\n",
    "---------------\n",
    "3) Data encapulation\n",
    "4) Data abstraction\n",
    "--------------\n",
    "5) inheritance\n",
    "6) polymorphism\n",
    "---------------\n",
    "7) message passing\n",
    "8) dynamic binding\n",
    "'''\n",
    "print()"
   ]
  },
  {
   "cell_type": "code",
   "execution_count": 15,
   "id": "6c474303-700b-4dde-addb-684f67cc2b8a",
   "metadata": {},
   "outputs": [
    {
     "name": "stdout",
     "output_type": "stream",
     "text": [
      "\n"
     ]
    }
   ],
   "source": [
    "'''\n",
    "Classes - to develop programmer defined data type and to develop any real time application\n",
    "Purpose: the purpose of programmer defined data type is to store customized data and to perform customized operations\n",
    "Keyword: class\n",
    "Definition: a class is a collection of variables/data members/attributes and methods(functions). When we define a class,\n",
    "\t\t\tmemory space is not created for data members and methods but whose memory space is created when we create an object of that class.\n",
    "'''\n",
    "print()"
   ]
  },
  {
   "cell_type": "code",
   "execution_count": 1,
   "id": "82014511-29e4-42dd-84c3-fb31cbc68397",
   "metadata": {},
   "outputs": [
    {
     "name": "stdout",
     "output_type": "stream",
     "text": [
      "\n"
     ]
    }
   ],
   "source": [
    "'''\n",
    "Types of data members in a class:\n",
    "\n",
    "\t1) instance data members\n",
    "\n",
    "\t\tCan be specified in 3 ways:\n",
    "\t\t\t- by using object name\n",
    "\t\t\t- by using instance methods\n",
    "\t\t\t- by using constructors\n",
    "\n",
    "\t\tmust be accessed w.r.t:\n",
    "\t\t\t- object name; objectName.InstanceDataMember\n",
    "\t\t\t- self; self.InstanceDataMember\n",
    "\n",
    "\t2) class lvl data members\n",
    "\t\n",
    "\t\t-> Only one copy\n",
    "\n",
    "\t\tCan be specified in 2 ways:\n",
    "\t\t\t- inside class definition\n",
    "\t\t\t- by using class lvl methods\n",
    "\n",
    "\t\tmust be accessed w.r.t:\n",
    "\t\t\t- class name; className.ClassLvlDataMember\n",
    "\t\t\t- object name; objectName.ClassLvlDataMember ----> be careful when using this to modify the var, as it will become a instance var.\n",
    "\t\t\t- cls; cls.ClassLvlDataMember\n",
    "\t\t\t- self; self.ClassLvlDataMember ----> be careful when using this to modify the var, as it will become a instance var.\n",
    "\n",
    "'''\n",
    "print()"
   ]
  },
  {
   "cell_type": "code",
   "execution_count": 4,
   "id": "f1f8f154-ebf1-4b13-8754-9473d46331c3",
   "metadata": {},
   "outputs": [
    {
     "name": "stdout",
     "output_type": "stream",
     "text": [
      "\n"
     ]
    }
   ],
   "source": [
    "'''\n",
    "Types of Methods in a class:\n",
    "\n",
    "\t1) Instance methods\n",
    "\n",
    "\t\tuse: \n",
    "\t\t\tfor performing specific operations on objects\n",
    "\t\t\n",
    "\t\tsyntax:\n",
    "\t\t\tdef InstanceMethodName(self,list of formal params if any):\n",
    "\t\t\t\tspecify instance data members\n",
    "\t\t\t\tperform specific operations\n",
    "\n",
    "\t\tInstance methods must be accessed w.r.t:\n",
    "\t\t\t- object; objectName.InstanceMethodName() ------> Internally: className.InstanceMethodName(objectName)\n",
    "\t\t\t- self; self.InstanceMethodName()\n",
    "\n",
    "\t\tWHAT IS self?:\n",
    "\t\t\t- 'self' is one of the implicit object and it contains the address of current object\n",
    "\t\t\t- reference to the current object\n",
    "\t\t\t- 'self' always to be used as first formal parameter in instance method\n",
    "\t\t\t- it is not a keyword, we can change the name but it is recommened to use self\n",
    "\t\t\t- it can be accessed inside of the corresponding instance method only\n",
    "\t\t\t- regular methods in a class take the instance as the first argument\n",
    "\t\t\t\n",
    "\n",
    "\n",
    "\n",
    "\t2) class lvl methods\n",
    "\n",
    "\t\tuse:\n",
    "\t\t\tfor performing common operations for objects of \n",
    "\t\t\tcorresponding class and specifies class lvl data members.\n",
    "\t\n",
    "\t\tsyntax:\n",
    "\t\t\t@classmethod -----> pre-defined decorator\n",
    "\t\t\tdef classLvlMethodName(cls,list of formal params if any):\n",
    "\t\t\t\tspecify class lvl data members\n",
    "\t\t\t\tperform common operations for all objects of corresponding class\n",
    "\n",
    "\t\tClass methods must be accessed w.r.t:\n",
    "\t\t\t- className; className.classLvlMethod()\n",
    "\t\t\t- cls; cls.classLvlMethod()\n",
    "\t\t\t- object; objectName.ClassMethodName() \n",
    "\t\t\t- self; self.ClassMethodName()\n",
    "\n",
    "\t\tWHAT IS cls?:\n",
    "\t\t\t- 'cls' is one of the implicit object and it contains the current class name\n",
    "\t\t\t- 'cls' always to be used as first formal parameter in class method\n",
    "\t\t\t- it can be accessed inside of the corresponding class lvl method definition only\n",
    "\t\t\n",
    "\t\t- we can use class methods as alternative constructors.\n",
    "\n",
    "\n",
    "\t3) static methods\n",
    "\n",
    "\t\tuse:\n",
    "\t\t\tfor performing universal operations or utility operations.\n",
    "\t\t\tif you aren't using self or cls in your function body can use instead use a static method?\n",
    "\t\n",
    "\t\tsyntax:\n",
    "\t\t\t@staticmethod -----> pre-defined decorator\n",
    "\t\t\tdef staticMethodName(list of formal params if any):\n",
    "\t\t\t\tutility/universal operations\n",
    "\n",
    "\t\t\t- Static methods never take cls or self but always takes object of other classes\n",
    "\n",
    "\t\tStatic methods must be accessed w.r.t:\n",
    "\t\t\t- className; className.staticMethod()\n",
    "\t\t\t- object; objectName.staticMethodName() \n",
    "\t\t\t- cls; cls.staticLvlMethod()\n",
    "\t\t\t- self; self.staticMethodName()\n",
    "'''\n",
    "print()"
   ]
  },
  {
   "cell_type": "code",
   "execution_count": 1,
   "id": "7b6fcf2d-a3fa-402c-9447-634e64c43902",
   "metadata": {},
   "outputs": [
    {
     "name": "stdout",
     "output_type": "stream",
     "text": [
      "\n"
     ]
    }
   ],
   "source": [
    "'''\n",
    "Constructors\n",
    "\n",
    "purpose: to initilize (placing our own data in object without leaving object empty) the object\n",
    "Definition: is a special method which is automatically called by PVM during object creation.\n",
    "\n",
    "Syntax: \n",
    "\tdef __init__(self,list of formal params if any):\n",
    "\t\tblock of statements \n",
    "\t\tperforms initilization\n",
    "\n",
    "Note: \n",
    "\t- Constructors WILL NOT return any value expect None.\n",
    "\t- Constructors can participate in Inheritance Process\n",
    "\t- Constructors can be overriden\n",
    "\n",
    "IMPORTANT:\n",
    "\tCONSTRUCTORS CANNOT BE OVERLOADED\n",
    "\tin a class of python we cant define both default and parameterized constructors [multiple constructors in 1 class] \n",
    "\tb/c PVM can remember only the latest constructor (due to its interpretation process). \n",
    "\tTo fulfill the need of both default and parameterized constructors, \n",
    "\twe define single constructor with default parameter mechanism.\n",
    "\n",
    "'''\n",
    "print()"
   ]
  },
  {
   "cell_type": "code",
   "execution_count": null,
   "id": "69154e86-f4f1-4b07-a8f1-905d78d2291c",
   "metadata": {},
   "outputs": [],
   "source": []
  }
 ],
 "metadata": {
  "kernelspec": {
   "display_name": "Python [conda env:base] *",
   "language": "python",
   "name": "conda-base-py"
  },
  "language_info": {
   "codemirror_mode": {
    "name": "ipython",
    "version": 3
   },
   "file_extension": ".py",
   "mimetype": "text/x-python",
   "name": "python",
   "nbconvert_exporter": "python",
   "pygments_lexer": "ipython3",
   "version": "3.12.7"
  }
 },
 "nbformat": 4,
 "nbformat_minor": 5
}
