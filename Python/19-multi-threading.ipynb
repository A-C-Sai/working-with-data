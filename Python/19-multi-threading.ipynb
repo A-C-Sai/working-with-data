{
 "cells": [
  {
   "cell_type": "markdown",
   "id": "f7fe5eec-c24b-4a56-aaba-17ed0ba6b417",
   "metadata": {},
   "source": [
    "# Multi-Threading"
   ]
  },
  {
   "cell_type": "code",
   "execution_count": 2,
   "id": "d547f493-3f55-4f44-98b3-8c679082d2b6",
   "metadata": {},
   "outputs": [
    {
     "name": "stdout",
     "output_type": "stream",
     "text": [
      "\n"
     ]
    }
   ],
   "source": [
    "'''\n",
    "-> The purpose of multi threading is to provide 'concurrent execution'. (execution the operations all at once)\n",
    "\n",
    "-> Two types of applications;\n",
    "\t1) process based applications\n",
    "\t\t- contains single thread\n",
    "\t\t- provides sequential execution\n",
    "\t\t- takes more execution time\n",
    "\t\t- are treated as heavy weight components\n",
    "\n",
    "\t2) thread based applications\n",
    "\t\t- contains by default single thread and programatically\n",
    "\t\t  we can create multiple threads.\n",
    "\t\t- provide both sequential and concurrent execution\n",
    "\t\t- takes less execution time\n",
    "\t\t- are treated as light weight components\n",
    "'''\n",
    "print()"
   ]
  },
  {
   "cell_type": "code",
   "execution_count": 4,
   "id": "0ca84557-d964-42df-b394-638ce23f7d35",
   "metadata": {},
   "outputs": [
    {
     "name": "stdout",
     "output_type": "stream",
     "text": [
      "\n"
     ]
    }
   ],
   "source": [
    "'''\n",
    "Thread:\n",
    "\t- a flow of control is called thread\n",
    "\t- the purpose of thread is that to perform certain operation\n",
    "\t  whose logic developed in functions/methods concurrently.\n",
    "\n",
    "- By default every python contains single thread and whos name is 'MainThread' and it provides sequential execution.\n",
    "\n",
    "- Programatically, we can create multiple sub/child threads.\n",
    "\n",
    "- MainThread is created by PVM, when execution starts and the role of MainThread is to execute main program statements\n",
    "  and monitor the execution status of sub threads (if present).\n",
    "'''\n",
    "print()"
   ]
  },
  {
   "cell_type": "code",
   "execution_count": 6,
   "id": "417b40af-c6cf-4e09-9dc6-cc760f1533ee",
   "metadata": {},
   "outputs": [
    {
     "name": "stdout",
     "output_type": "stream",
     "text": [
      "\n"
     ]
    }
   ],
   "source": [
    "'''\n",
    "import threading\n",
    "\n",
    "1) varname = threading.current_thread().name\n",
    "   varname.name = ' ' -------> can set our own name.\n",
    "\n",
    "2) varname = threading.active_count() -----> this function is used to obtain number of threads which are running/active\n",
    "\n",
    "\n",
    "- Class Name in 'threading' module: 'Thread'\n",
    "'''\n",
    "print()"
   ]
  },
  {
   "cell_type": "code",
   "execution_count": 1,
   "id": "d6a2993a-4b5d-49b2-9dbc-365908095104",
   "metadata": {},
   "outputs": [
    {
     "name": "stdout",
     "output_type": "stream",
     "text": [
      "\n"
     ]
    }
   ],
   "source": [
    "'''\n",
    "------------------------------------------\n",
    "\t\tMethods in Thread Class\n",
    "------------------------------------------\n",
    "\n",
    "1) varname = threading.Thread(target=FunctionName,args=(val1,val2,...,val-n))\n",
    "   Here varname is an object of Thread class and treated as sub thread \n",
    "\n",
    "2) subthreadObj.isalive() -----------------> used for checking if the sub thread is under execution or not.\n",
    "\n",
    "3) subthreadObj.start() -------------> used for dispatching sub threads to the corresponding target functions.\n",
    "\n",
    "4) subthread.join() -------> used for making subthreads join with main thread.\n",
    "\t\t\t\t\t\t\t when subthread object class join() the main thread will\n",
    "\t\t\t\t\t\t\t wait until subthreads complete their execution.\n",
    "'''\n",
    "print()"
   ]
  },
  {
   "cell_type": "code",
   "execution_count": 3,
   "id": "fd6e66d3-c0ea-45fe-88fb-568d0adc85c7",
   "metadata": {},
   "outputs": [
    {
     "name": "stdout",
     "output_type": "stream",
     "text": [
      "\n"
     ]
    }
   ],
   "source": [
    "'''\n",
    "NUMBER OF APPROACHES TO DEVELOP THREAD BASED APPLICATION:\n",
    "\n",
    "1) using functional approach\n",
    "\t- import threading module\n",
    "\t- define function which is containing logic for performing\n",
    "\t  operation by the sub thread.\n",
    "\t- create sub thread by using Thread class of threading moduce\n",
    "\t- dispatch the sub thread for executing target function.\n",
    "\n",
    "\n",
    "2) using object oriented approach\n",
    "\t- import threading module\n",
    "\t- define a programmer-defined class\n",
    "\t- define Instance method in a class\n",
    "\t- create an object of programmer defined class\n",
    "\t- create sub thread by using Thread class of threading moduce\n",
    "\t- dispatch the sub thread for executing target function.\n",
    "\t\n",
    "'''\n",
    "print()"
   ]
  },
  {
   "cell_type": "code",
   "execution_count": 5,
   "id": "f5c696d4-9ac1-411a-8e9a-5f5d9cca706d",
   "metadata": {},
   "outputs": [
    {
     "name": "stdout",
     "output_type": "stream",
     "text": [
      "\n"
     ]
    }
   ],
   "source": [
    "'''\n",
    "NUMBER OF APPROACHES TO DEVELOP THREAD BASED APPLICATION:\n",
    "\n",
    "1) using functional approach\n",
    "\t- import threading module\n",
    "\t- define function which is containing logic for performing\n",
    "\t  operation by the sub thread.\n",
    "\t- create sub thread by using Thread class of threading moduce\n",
    "\t- dispatch the sub thread for executing target function.\n",
    "\n",
    "\n",
    "2) using object oriented approach\n",
    "\t- import threading module\n",
    "\t- define a programmer-defined class\n",
    "\t- define Instance method in a class\n",
    "\t- create an object of programmer defined class\n",
    "\t- create sub thread by using Thread class of threading moduce\n",
    "\t- dispatch the sub thread for executing target function.\n",
    "'''\n",
    "print()"
   ]
  },
  {
   "cell_type": "code",
   "execution_count": 7,
   "id": "afac6c98-0db6-45bc-87cb-610cedde041c",
   "metadata": {},
   "outputs": [
    {
     "name": "stdout",
     "output_type": "stream",
     "text": [
      "\n"
     ]
    }
   ],
   "source": [
    "'''\n",
    "-----------------------------------------------------------------------\n",
    "\n",
    "STEPS FOR IMPLEMENTING SYNCHRONIZATION CONCEPT/AVOIDING DEADLOCK\n",
    "\n",
    "-----------------------------------------------------------------------\n",
    "\n",
    "1) obtain.create an object of Lock class, which is present in threading module.\n",
    "\t\n",
    "\tsyntax: \n",
    "\t\tlockObj = threading.Lock()\n",
    "\n",
    "2) To obtaing the lock on the sharable resource, we much use acquire()\n",
    "\t\n",
    "\tsyntax:\n",
    "\t\tlockObj.acquire()\n",
    "\n",
    "\t\tonce current object acquired the lock, other thread objects are made to wait\n",
    "\t\tuntil current thread object releases the lock.\n",
    "\n",
    "3) To un-lock the sharable resource/current object, we muct use release()\n",
    "\n",
    "\tsyntax:\n",
    "\t\tlockObj.release()\n",
    "\t\t\n",
    "\t\tonce current object releases the lock, other objects are permitter\n",
    "\t\tinto sharable resource. This process of acquiring and releasing the lock will be continued until all the thread objects completed their execution.\n",
    "'''\n",
    "print()"
   ]
  },
  {
   "cell_type": "code",
   "execution_count": 11,
   "id": "6c3448a2-584d-42b1-8c68-7a488bb0e330",
   "metadata": {},
   "outputs": [
    {
     "name": "stdout",
     "output_type": "stream",
     "text": [
      "\n"
     ]
    }
   ],
   "source": [
    "'''\n",
    "-> How many CPU (Cores) does python  use for MultiThreading ?\n",
    "\t\tPython does not allow to use multiple CPU cores. Python threading is restricted to single CPU core at a time.\n",
    "-> GIL\n",
    "'''\n",
    "print()"
   ]
  },
  {
   "cell_type": "code",
   "execution_count": 13,
   "id": "4a7a7de0-bf21-4d61-9b59-9a6512c4632b",
   "metadata": {},
   "outputs": [
    {
     "name": "stdout",
     "output_type": "stream",
     "text": [
      "\n"
     ]
    }
   ],
   "source": [
    "'''\n",
    "-> multiprocessing\n",
    "-> Semaphore\n",
    "-> IPC\n",
    "'''\n",
    "print()"
   ]
  },
  {
   "cell_type": "code",
   "execution_count": null,
   "id": "8835c287-f709-45bc-b608-7010e008f4e3",
   "metadata": {},
   "outputs": [],
   "source": []
  }
 ],
 "metadata": {
  "kernelspec": {
   "display_name": "Python [conda env:base] *",
   "language": "python",
   "name": "conda-base-py"
  },
  "language_info": {
   "codemirror_mode": {
    "name": "ipython",
    "version": 3
   },
   "file_extension": ".py",
   "mimetype": "text/x-python",
   "name": "python",
   "nbconvert_exporter": "python",
   "pygments_lexer": "ipython3",
   "version": "3.12.7"
  }
 },
 "nbformat": 4,
 "nbformat_minor": 5
}
