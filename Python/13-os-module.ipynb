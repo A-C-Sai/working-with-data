{
 "cells": [
  {
   "cell_type": "markdown",
   "id": "51c288e8-343c-4c19-889b-94c4e32a229a",
   "metadata": {},
   "source": [
    "# OS Module"
   ]
  },
  {
   "cell_type": "code",
   "execution_count": 3,
   "id": "5e9e2261-0f59-4d2d-be89-4abd3e184d27",
   "metadata": {},
   "outputs": [
    {
     "name": "stdout",
     "output_type": "stream",
     "text": [
      "\n"
     ]
    }
   ],
   "source": [
    "'''\n",
    "---------------------------------------\n",
    "\t\t\tOS MODULE\n",
    "---------------------------------------\n",
    "\n",
    "\n",
    "-> OS one of the software component and acts as resource allocation and resource deallocation manager\n",
    "-> interface b/w program and computer hardware\n",
    "\n",
    "import os\n",
    "\n",
    "1. os.getcwd()\n",
    "2. os.chdir() ----> changing current directory; \n",
    "\n",
    "3. os.mkdir('FolderName')\n",
    "\t- it will create one folder at a time, i.e. not folders Hierarchy\n",
    "\t- FileExisrError\n",
    "\t- FileNotFoundError\n",
    "\t- if we specify any folder name with escape sequence then we get OSError\n",
    "\n",
    "4. os.makedirs('FoldersHierarchy')\n",
    "\t- it will create one folder/folders hierarchy\n",
    "\t- FileExistError\n",
    "\t- if we specify any folder name with escape sequence then we get OSError\n",
    "\n",
    "\n",
    "5. os.rmdir('FolderName')\n",
    "\t - remove one folder at a time provided folder is empty\n",
    "\t - PermissionError (Removing current working directory)\n",
    "\t - OSError (Folder is not empty)\n",
    "\t - FileNotFoundError\n",
    "\t - if we specify any folder name with escape sequence then we get OSError\n",
    "\n",
    "6. os.removedirs('FoldersHierarcy')\n",
    "\t- it will remove one folder/folders hierarchy at a time provided folders must be empty\n",
    "\t- OSError. FileNotFoundError, PermissionError\n",
    "\t- if we specify any folder name with escape sequence then we get OSError\n",
    "\n",
    "7. os.remove('fileName')\n",
    "\t- remove file name\n",
    "\t- FileNotFoundError\n",
    "\t- if the current points to itself it will delete itself PERMANENTLY (MAYBE BUILD AN EXCEPTION)\n",
    "\n",
    "\n",
    "8. os.rename('OldName','NewName')\n",
    "\t- it will rename old folder namr -> new folder name\n",
    "\t- FileNotFoundError\n",
    "\n",
    "9. os.listdir('FolderName') --> list Obj\n",
    "\t- FileNotFoundError\n",
    "\n",
    "10. os.walk('Starting point Path') -> yields a 3-tuple dirpath, dirnames, filenames\n",
    "\n",
    "'''\n",
    "print()"
   ]
  },
  {
   "cell_type": "code",
   "execution_count": null,
   "id": "8b7090ab-2914-42f6-a397-c177bd4fc25a",
   "metadata": {},
   "outputs": [],
   "source": []
  }
 ],
 "metadata": {
  "kernelspec": {
   "display_name": "Python [conda env:base] *",
   "language": "python",
   "name": "conda-base-py"
  },
  "language_info": {
   "codemirror_mode": {
    "name": "ipython",
    "version": 3
   },
   "file_extension": ".py",
   "mimetype": "text/x-python",
   "name": "python",
   "nbconvert_exporter": "python",
   "pygments_lexer": "ipython3",
   "version": "3.12.7"
  }
 },
 "nbformat": 4,
 "nbformat_minor": 5
}
