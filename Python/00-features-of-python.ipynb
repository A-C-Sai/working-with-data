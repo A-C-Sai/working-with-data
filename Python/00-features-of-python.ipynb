{
 "cells": [
  {
   "cell_type": "markdown",
   "id": "82941127-eacc-488f-bdaa-2f5f0211e778",
   "metadata": {},
   "source": [
    "# Features of Python"
   ]
  },
  {
   "cell_type": "markdown",
   "id": "ca1ba521-01a5-4b9a-b2b4-f508c1bc5358",
   "metadata": {},
   "source": [
    "- ```Simple```\n",
    "- ```Platform Independent Language```\n",
    "- ```Dynamically Typed language```\n",
    "- ```High Level Language```\n",
    "- ```Intrepreted Programming Language```\n",
    "- ```Robust```\n",
    "- ```Freware & Open Source```\n",
    "- ```Embedded & Extensible```\n",
    "- ```Functional & OOP Language```\n",
    "- ```Supports Third Party APIs```\n",
    "<br>\n",
    "\n",
    "**EVERYTHING IN PYTHON IS AN OBJECT**"
   ]
  },
  {
   "cell_type": "code",
   "execution_count": 1,
   "id": "1e0a2010-dafe-4546-8557-89a27b4bb12f",
   "metadata": {},
   "outputs": [],
   "source": [
    "# KVR - 9849455293"
   ]
  },
  {
   "cell_type": "code",
   "execution_count": null,
   "id": "c16a4239-4c02-489d-8da0-b242cba25cf5",
   "metadata": {},
   "outputs": [],
   "source": []
  }
 ],
 "metadata": {
  "kernelspec": {
   "display_name": "Python [conda env:base] *",
   "language": "python",
   "name": "conda-base-py"
  },
  "language_info": {
   "codemirror_mode": {
    "name": "ipython",
    "version": 3
   },
   "file_extension": ".py",
   "mimetype": "text/x-python",
   "name": "python",
   "nbconvert_exporter": "python",
   "pygments_lexer": "ipython3",
   "version": "3.12.7"
  }
 },
 "nbformat": 4,
 "nbformat_minor": 5
}
