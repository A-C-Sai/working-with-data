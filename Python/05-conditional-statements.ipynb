{
 "cells": [
  {
   "cell_type": "markdown",
   "id": "6ba7d9fa-f906-4a0a-9a76-2c86c5f6a9fc",
   "metadata": {},
   "source": [
    "# Conditional Statements"
   ]
  },
  {
   "cell_type": "markdown",
   "id": "f93efb0a-b988-4153-a7d8-543ca583aec8",
   "metadata": {},
   "source": [
    "## 1) if statements"
   ]
  },
  {
   "cell_type": "code",
   "execution_count": 1,
   "id": "4edc4429-8f22-4268-8e99-201a37f04f96",
   "metadata": {},
   "outputs": [
    {
     "name": "stdout",
     "output_type": "stream",
     "text": [
      "\n"
     ]
    }
   ],
   "source": [
    "'''\n",
    "\n",
    "if (condition):\n",
    "\t----------\n",
    "\t----------\n",
    " \n",
    "****************************\n",
    "if (condition):\n",
    "\t----------\n",
    "\t----------\n",
    "else:\n",
    "\t----------\n",
    "\t----------\n",
    " \n",
    "*****************************\n",
    "if (condition):\n",
    "\t----------\n",
    "\t----------\n",
    "elif (condition):\n",
    "\t-----------\n",
    "\t-----------\n",
    "else:\n",
    "\t----------\n",
    "\t----------\n",
    "\n",
    "'''\n",
    "print()"
   ]
  },
  {
   "cell_type": "code",
   "execution_count": null,
   "id": "2992e5b2-b06c-4de0-9f02-714b1efb0283",
   "metadata": {},
   "outputs": [],
   "source": []
  },
  {
   "cell_type": "markdown",
   "id": "fd6d54f6-b9b2-4f54-9663-56b6f9ec3aa9",
   "metadata": {},
   "source": [
    "## 2) match case"
   ]
  },
  {
   "cell_type": "code",
   "execution_count": 1,
   "id": "e1f18fc8-ee71-4675-9475-87549f5413eb",
   "metadata": {},
   "outputs": [
    {
     "name": "stdout",
     "output_type": "stream",
     "text": [
      "\n"
     ]
    }
   ],
   "source": [
    "'''\n",
    "\n",
    "match(expr):\n",
    "\tcase choice_label_1:\n",
    "\t\t---------\n",
    "\t\t---------\n",
    "\tcase choice_label_n:\n",
    "\t\t---------\n",
    "\t\t---------\n",
    "\tcase _: ---------> optional bus must be written as the last case else we get SyntaxError\n",
    "\t\t---------\n",
    "\t\t---------\n",
    "  \n",
    "*******************************\n",
    "\n",
    "match(expr):\n",
    "\tcase option1 | option2.... | option-n:\n",
    "\t\t---------\n",
    "\t\t---------\n",
    "\n",
    "'''\n",
    "print()"
   ]
  },
  {
   "cell_type": "code",
   "execution_count": null,
   "id": "dee8b1ad-223a-4e73-b858-058bc9776cb2",
   "metadata": {},
   "outputs": [],
   "source": []
  },
  {
   "cell_type": "markdown",
   "id": "5ad1a697-5e23-4935-98e8-422db7c13a90",
   "metadata": {},
   "source": [
    "# Examples"
   ]
  },
  {
   "cell_type": "code",
   "execution_count": 4,
   "id": "98df1f3c-2fe5-4857-8dbc-4a72023b3163",
   "metadata": {},
   "outputs": [
    {
     "name": "stdin",
     "output_type": "stream",
     "text": [
      "Enter your marks for Maths, Pyhsics and Chemistry respectively separated by space:  10 30 50\n"
     ]
    },
    {
     "name": "stdout",
     "output_type": "stream",
     "text": [
      "Failed\n"
     ]
    }
   ],
   "source": [
    "marks = [float(i) for i in input(\"Enter your marks for Maths, Pyhsics and Chemistry respectively separated by space: \").split()]\n",
    "\n",
    "passed = True\n",
    "\n",
    "for mark in marks:\n",
    "\tif mark < 45:\n",
    "\t\tpassed = False\n",
    "\n",
    "print('Passed' if passed else 'Failed')"
   ]
  },
  {
   "cell_type": "code",
   "execution_count": null,
   "id": "69fc0217-d88f-4d0f-a66b-efd05fce934f",
   "metadata": {},
   "outputs": [],
   "source": []
  }
 ],
 "metadata": {
  "kernelspec": {
   "display_name": "Python 3 (ipykernel)",
   "language": "python",
   "name": "python3"
  },
  "language_info": {
   "codemirror_mode": {
    "name": "ipython",
    "version": 3
   },
   "file_extension": ".py",
   "mimetype": "text/x-python",
   "name": "python",
   "nbconvert_exporter": "python",
   "pygments_lexer": "ipython3",
   "version": "3.11.7"
  }
 },
 "nbformat": 4,
 "nbformat_minor": 5
}
