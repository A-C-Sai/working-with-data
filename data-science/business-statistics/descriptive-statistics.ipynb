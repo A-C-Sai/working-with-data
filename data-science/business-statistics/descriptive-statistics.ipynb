{
 "cells": [
  {
   "cell_type": "code",
   "execution_count": 1,
   "id": "e802aba0-00e6-4908-8220-cbe43d2352e3",
   "metadata": {},
   "outputs": [],
   "source": [
    "import numpy as np\n",
    "import pandas as pd\n",
    "import matplotlib.pyplot as plt\n",
    "import seaborn as sns\n",
    "from IPython.display import Image"
   ]
  },
  {
   "cell_type": "code",
   "execution_count": null,
   "id": "e903d0d9-4730-4b7e-bb9f-3379d506529d",
   "metadata": {},
   "outputs": [],
   "source": []
  },
  {
   "cell_type": "code",
   "execution_count": 6,
   "id": "fabcd262-a14f-4e49-867b-b21d88f7ee1f",
   "metadata": {},
   "outputs": [],
   "source": [
    "offer_prices = np.array([14.25,24.00,27.00,34.22,19.00,\n",
    "                         19.00,23.00,25.00,15.50,19.00,\n",
    "                         11.00,43.25,15.00,15.00,27.00,\n",
    "                         28.00,19.00,7.00,22.00,21.00])"
   ]
  },
  {
   "cell_type": "code",
   "execution_count": 8,
   "id": "e2ad5e7e-8a6d-4bf1-a9e2-9a9c71879747",
   "metadata": {},
   "outputs": [],
   "source": [
    "offer_prices.sort()"
   ]
  },
  {
   "cell_type": "code",
   "execution_count": 9,
   "id": "ccc1b18d-b596-497d-948c-f33b87c33661",
   "metadata": {},
   "outputs": [
    {
     "data": {
      "text/plain": [
       "array([ 7.  , 11.  , 14.25, 15.  , 15.  , 15.5 , 19.  , 19.  , 19.  ,\n",
       "       19.  , 21.  , 22.  , 23.  , 24.  , 25.  , 27.  , 27.  , 28.  ,\n",
       "       34.22, 43.25])"
      ]
     },
     "execution_count": 9,
     "metadata": {},
     "output_type": "execute_result"
    }
   ],
   "source": [
    "offer_prices"
   ]
  },
  {
   "cell_type": "code",
   "execution_count": 10,
   "id": "1cd6e880-1a8a-4d2d-8597-521defd1d069",
   "metadata": {},
   "outputs": [],
   "source": [
    "from scipy import stats as st"
   ]
  },
  {
   "cell_type": "code",
   "execution_count": 12,
   "id": "b81a5eb9-be45-49bb-81cf-251628c7ebbc",
   "metadata": {},
   "outputs": [
    {
     "data": {
      "text/plain": [
       "ModeResult(mode=19.0, count=4)"
      ]
     },
     "execution_count": 12,
     "metadata": {},
     "output_type": "execute_result"
    }
   ],
   "source": [
    "st.mode(offer_prices) # mode"
   ]
  },
  {
   "cell_type": "code",
   "execution_count": 14,
   "id": "cc9e16ae-29f8-4aff-9e7d-a3479e0581db",
   "metadata": {},
   "outputs": [
    {
     "data": {
      "text/plain": [
       "20.0"
      ]
     },
     "execution_count": 14,
     "metadata": {},
     "output_type": "execute_result"
    }
   ],
   "source": [
    "np.median(offer_prices) # median is the middle value in an ordered array of numbers"
   ]
  },
  {
   "cell_type": "code",
   "execution_count": 19,
   "id": "901f2b60-2279-4db3-8efc-99eecc4f286e",
   "metadata": {},
   "outputs": [
    {
     "name": "stdout",
     "output_type": "stream",
     "text": [
      "\n",
      "The median is the 10.5th term. The result\n",
      "indicates that the media is located halfway between\n",
      "the 10th and the 11th terms or the average of\n",
      "19.0 and 21.00\n"
     ]
    }
   ],
   "source": [
    "print('''\n",
    "The median is the {}th term. The result\n",
    "indicates that the media is located halfway between\n",
    "the 10th and the 11th terms or the average of\n",
    "19.0 and 21.00'''.format((offer_prices.shape[0]+1)/2))"
   ]
  },
  {
   "cell_type": "code",
   "execution_count": 21,
   "id": "f191bcd6-892a-4bf4-b783-817ba194e3ee",
   "metadata": {},
   "outputs": [
    {
     "data": {
      "text/plain": [
       "21.411"
      ]
     },
     "execution_count": 21,
     "metadata": {},
     "output_type": "execute_result"
    }
   ],
   "source": [
    "'''\n",
    "The arth,etic mean is the average of a group of numbers\n",
    "and is computed by summing all numbers and dividing \n",
    "by the number of numbers.\n",
    "'''\n",
    "np.mean(offer_prices) "
   ]
  },
  {
   "cell_type": "code",
   "execution_count": null,
   "id": "12ba0263-e8ec-4284-921b-664c2ffdf115",
   "metadata": {},
   "outputs": [],
   "source": []
  },
  {
   "cell_type": "code",
   "execution_count": 52,
   "id": "31add465-2e50-45c7-a26b-266eeabf7cab",
   "metadata": {},
   "outputs": [],
   "source": [
    "scores = np.array([14,12,19,23,5,13,28,17])"
   ]
  },
  {
   "cell_type": "code",
   "execution_count": 56,
   "id": "45420641-b92e-41e5-9124-8ad02cba839b",
   "metadata": {},
   "outputs": [
    {
     "data": {
      "text/plain": [
       "array([ 5, 12, 13, 14, 17, 19, 23, 28])"
      ]
     },
     "execution_count": 56,
     "metadata": {},
     "output_type": "execute_result"
    }
   ],
   "source": [
    "np.sort(scores)"
   ]
  },
  {
   "cell_type": "code",
   "execution_count": 60,
   "id": "d420973f-28c9-45dc-b6dc-0d9bad56cfb8",
   "metadata": {},
   "outputs": [
    {
     "name": "stdout",
     "output_type": "stream",
     "text": [
      "\n",
      "Q1:12.75\n",
      "Q2:15.5\n",
      "Q3:20.0\n",
      "\n"
     ]
    }
   ],
   "source": [
    "print(f'''\n",
    "Q1:{np.percentile(scores,25)}\n",
    "Q2:{np.percentile(scores,50)}\n",
    "Q3:{np.percentile(scores,75)}\n",
    "''')\n"
   ]
  },
  {
   "cell_type": "code",
   "execution_count": null,
   "id": "faf91ae2-238e-429f-aa22-ca00bc9ff713",
   "metadata": {},
   "outputs": [],
   "source": []
  },
  {
   "cell_type": "code",
   "execution_count": 125,
   "id": "6f78fb7d-99ef-4cb8-84c6-575457f77029",
   "metadata": {},
   "outputs": [],
   "source": [
    "# Range = Max(data) - Min(data)"
   ]
  },
  {
   "cell_type": "code",
   "execution_count": 126,
   "id": "e290c139-a9d8-4f0d-9982-d31d9de8761f",
   "metadata": {},
   "outputs": [],
   "source": [
    "# IQR = Q3 - Q1 ---> Range of the middle 50% of the data"
   ]
  },
  {
   "cell_type": "code",
   "execution_count": 127,
   "id": "bb564c28-ec68-45e0-b7ef-0065bfb23c1e",
   "metadata": {},
   "outputs": [],
   "source": [
    "# Sum of Deviations form the arithmetic mean is always zero"
   ]
  },
  {
   "cell_type": "code",
   "execution_count": 128,
   "id": "b9d1a910-90c3-41d9-8920-045c005bb1ad",
   "metadata": {},
   "outputs": [],
   "source": [
    "# MAD, Variance, Standard Deviation"
   ]
  },
  {
   "cell_type": "code",
   "execution_count": 2,
   "id": "3c13bf7a-13a2-475f-8f56-e604eae110e1",
   "metadata": {},
   "outputs": [
    {
     "name": "stdout",
     "output_type": "stream",
     "text": [
      "\n"
     ]
    }
   ],
   "source": [
    "'''\n",
    "Empirical Rule (68%-95%-99.7%) is an important rule of thumb that \n",
    "is used to stape the approximate percentage of values\n",
    "that lie within a given number of standard deviations \n",
    "from the mean. Based on the assumption that the data\n",
    "is approximately normally distributed\n",
    "'''\n",
    "\n",
    "'''\n",
    "Chebyshev's Theorem applies to all distributions regardless\n",
    "of their shape. It states that at least 1-(1/k^2) values will\n",
    "fall within +/- k standard deviations of the mean regardless of the shape \n",
    "of the distribution. Assumption k > 1.\n",
    "'''\n",
    "\n",
    "'''\n",
    "Both sample variance and sample standard deviation use n-1 in the\n",
    "denominator instead of n b/c using n in the denominator of a sample \n",
    "variance results in a statistic that tends to underestimate the \n",
    "population variance. One property of a good estimator is being \n",
    "unbiased, which is a desirable property in inferential statistics.\n",
    "'''\n",
    "\n",
    "\n",
    "'''\n",
    "A Z-Score represents the number of standard deviations a value\n",
    "is above or below the mean of a set of numbers when the data are\n",
    "normally distributed.\n",
    "'''\n",
    "print()"
   ]
  },
  {
   "cell_type": "code",
   "execution_count": null,
   "id": "6b77f4ef-0085-447a-a706-9c3a6214dd54",
   "metadata": {},
   "outputs": [],
   "source": []
  },
  {
   "cell_type": "markdown",
   "id": "757da85f-9202-448f-b696-3a3730ba5453",
   "metadata": {},
   "source": [
    "# Laundry Statistics"
   ]
  },
  {
   "cell_type": "code",
   "execution_count": 135,
   "id": "621a53cd-0c11-49bf-8968-7314c626b24c",
   "metadata": {},
   "outputs": [],
   "source": [
    "laundry_usage = np.array([\n",
    "    15, 17, 16, 15, 16, 17, 18, 15, 14, 15,\n",
    "    16, 16, 17, 16, 15, 15, 17, 14, 15, 16,\n",
    "    16, 17, 14, 15, 12, 15, 16, 14, 14, 16,\n",
    "    15, 13, 16, 17, 17, 15, 16, 16, 16, 14,\n",
    "    17, 16, 17, 14, 16, 13, 16, 15, 16, 15])"
   ]
  },
  {
   "cell_type": "code",
   "execution_count": 139,
   "id": "58a8ee2a-9bda-4220-82e6-544d0a110c63",
   "metadata": {},
   "outputs": [],
   "source": [
    "data = pd.DataFrame({'water_usage (gallons)':laundry_usage})"
   ]
  },
  {
   "cell_type": "code",
   "execution_count": 142,
   "id": "c37d13b2-9701-4e47-bd36-68a428fc5353",
   "metadata": {},
   "outputs": [
    {
     "data": {
      "text/html": [
       "<div>\n",
       "<style scoped>\n",
       "    .dataframe tbody tr th:only-of-type {\n",
       "        vertical-align: middle;\n",
       "    }\n",
       "\n",
       "    .dataframe tbody tr th {\n",
       "        vertical-align: top;\n",
       "    }\n",
       "\n",
       "    .dataframe thead th {\n",
       "        text-align: right;\n",
       "    }\n",
       "</style>\n",
       "<table border=\"1\" class=\"dataframe\">\n",
       "  <thead>\n",
       "    <tr style=\"text-align: right;\">\n",
       "      <th></th>\n",
       "      <th>count</th>\n",
       "      <th>mean</th>\n",
       "      <th>std</th>\n",
       "      <th>min</th>\n",
       "      <th>25%</th>\n",
       "      <th>50%</th>\n",
       "      <th>75%</th>\n",
       "      <th>max</th>\n",
       "    </tr>\n",
       "  </thead>\n",
       "  <tbody>\n",
       "    <tr>\n",
       "      <th>water_usage (gallons)</th>\n",
       "      <td>50.0</td>\n",
       "      <td>15.48</td>\n",
       "      <td>1.232883</td>\n",
       "      <td>12.0</td>\n",
       "      <td>15.0</td>\n",
       "      <td>16.0</td>\n",
       "      <td>16.0</td>\n",
       "      <td>18.0</td>\n",
       "    </tr>\n",
       "  </tbody>\n",
       "</table>\n",
       "</div>"
      ],
      "text/plain": [
       "                       count   mean       std   min   25%   50%   75%   max\n",
       "water_usage (gallons)   50.0  15.48  1.232883  12.0  15.0  16.0  16.0  18.0"
      ]
     },
     "execution_count": 142,
     "metadata": {},
     "output_type": "execute_result"
    }
   ],
   "source": [
    "data.describe().T"
   ]
  },
  {
   "cell_type": "code",
   "execution_count": 151,
   "id": "6aff2f92-091d-4935-b934-02d1478b9c73",
   "metadata": {},
   "outputs": [
    {
     "data": {
      "image/png": "[encoded data removed]",
      "text/plain": [
       "<Figure size 640x480 with 1 Axes>"
      ]
     },
     "metadata": {},
     "output_type": "display_data"
    }
   ],
   "source": [
    "sns.boxplot(data=data,x='water_usage (gallons)',\n",
    "            fill=False,\n",
    "            medianprops={\"color\": \"r\"})\n",
    "plt.show()"
   ]
  },
  {
   "cell_type": "code",
   "execution_count": 156,
   "id": "06bdebe7-9478-4730-9977-3a5ed877a8df",
   "metadata": {},
   "outputs": [
    {
     "data": {
      "text/plain": [
       "<Axes: xlabel='water_usage (gallons)', ylabel='Count'>"
      ]
     },
     "execution_count": 156,
     "metadata": {},
     "output_type": "execute_result"
    },
    {
     "data": {
      "image/png": "[encoded data removed]",
      "text/plain": [
       "<Figure size 640x480 with 1 Axes>"
      ]
     },
     "metadata": {},
     "output_type": "display_data"
    }
   ],
   "source": [
    "sns.histplot(data=data,x='water_usage (gallons)',kde=True)"
   ]
  },
  {
   "cell_type": "code",
   "execution_count": 157,
   "id": "c625f4d3-91e4-4471-94df-d30ba693c890",
   "metadata": {},
   "outputs": [
    {
     "data": {
      "text/plain": [
       "-0.5306827236642104"
      ]
     },
     "execution_count": 157,
     "metadata": {},
     "output_type": "execute_result"
    }
   ],
   "source": [
    "data['water_usage (gallons)'].skew()"
   ]
  },
  {
   "cell_type": "code",
   "execution_count": 3,
   "id": "87a3825c-6035-49ac-9d68-0129580d8b87",
   "metadata": {},
   "outputs": [
    {
     "name": "stdout",
     "output_type": "stream",
     "text": [
      "\n"
     ]
    }
   ],
   "source": [
    "'''\n",
    "The average wash cycle for an American wash is 35 minutes. \n",
    "Suppose the standard deviation of a wash cycle for\n",
    "an American wash is 5 minutes. Within what range of\n",
    "time do most American wash cycles fall?\n",
    "'''\n",
    "\n",
    "'''\n",
    "Assuming the wash cycly times are approximately normally distributed.\n",
    "We can apply the empericial rule.\n",
    "    - 68% of the times would fall between 30-40 Minutes\n",
    "    - 95% of the times would fall between 25-45 Minutes\n",
    "    - 99.7% of the times would fall between 20-50 Minutes\n",
    "\n",
    "If the was cycle times are not normally distributed we can use\n",
    "Chebyshev's Theorem. It states that at least 1-(1/k^2) values will\n",
    "fall within +/- k standard deviations of the mean. Assuming k>1\n",
    "\n",
    "    - at least 75% of the times would fall between 25-45 Minutes\n",
    "    - at least 88.8% of the times would fall between 20-50 Minutes.\n",
    "'''\n",
    "print()"
   ]
  },
  {
   "cell_type": "code",
   "execution_count": null,
   "id": "2d9b87cf-741c-4139-ad56-65e45395c73f",
   "metadata": {},
   "outputs": [],
   "source": []
  },
  {
   "cell_type": "markdown",
   "id": "748f7e75-b6b7-408b-8a04-5d100c2b5350",
   "metadata": {},
   "source": [
    "# Questions"
   ]
  },
  {
   "cell_type": "code",
   "execution_count": null,
   "id": "351a9a90-31f9-4291-b649-9b45d6bd9547",
   "metadata": {},
   "outputs": [],
   "source": []
  },
  {
   "attachments": {},
   "cell_type": "markdown",
   "id": "349c9b4d-6516-4dac-af30-1118a8413a93",
   "metadata": {},
   "source": [
    "<div>\n",
    "<img src=\"./images/descriptive1.png\" width=\"500\"/>\n",
    "</div>"
   ]
  },
  {
   "cell_type": "code",
   "execution_count": 2,
   "id": "8b255629-81da-48d6-aa5a-6edd40fb542e",
   "metadata": {},
   "outputs": [],
   "source": [
    "cov_X = (3.45 / 32)*100"
   ]
  },
  {
   "cell_type": "code",
   "execution_count": 3,
   "id": "1fec2b40-2911-459a-bd67-3c6d6334ea49",
   "metadata": {},
   "outputs": [],
   "source": [
    "cov_Y = (5.40 / 84)*100"
   ]
  },
  {
   "cell_type": "code",
   "execution_count": 4,
   "id": "b9b3f5b6-9e19-47e2-8fef-7a679a164a08",
   "metadata": {},
   "outputs": [
    {
     "data": {
      "text/plain": [
       "10.78125"
      ]
     },
     "execution_count": 4,
     "metadata": {},
     "output_type": "execute_result"
    }
   ],
   "source": [
    "cov_X"
   ]
  },
  {
   "cell_type": "code",
   "execution_count": 5,
   "id": "a3b3288a-301d-49e2-b4eb-691d991213da",
   "metadata": {},
   "outputs": [
    {
     "data": {
      "text/plain": [
       "6.42857142857143"
      ]
     },
     "execution_count": 5,
     "metadata": {},
     "output_type": "execute_result"
    }
   ],
   "source": [
    "cov_Y"
   ]
  },
  {
   "cell_type": "code",
   "execution_count": null,
   "id": "9c6f07d6-e116-4577-814c-370be96126fa",
   "metadata": {},
   "outputs": [],
   "source": []
  }
 ],
 "metadata": {
  "kernelspec": {
   "display_name": "Python 3 (ipykernel)",
   "language": "python",
   "name": "python3"
  },
  "language_info": {
   "codemirror_mode": {
    "name": "ipython",
    "version": 3
   },
   "file_extension": ".py",
   "mimetype": "text/x-python",
   "name": "python",
   "nbconvert_exporter": "python",
   "pygments_lexer": "ipython3",
   "version": "3.11.7"
  }
 },
 "nbformat": 4,
 "nbformat_minor": 5
}
