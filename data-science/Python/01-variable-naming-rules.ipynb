{
 "cells": [
  {
   "cell_type": "markdown",
   "id": "56622ca8-6314-40c2-94dd-aa4a7b635455",
   "metadata": {},
   "source": [
    "# Variable Naming Rules"
   ]
  },
  {
   "cell_type": "markdown",
   "id": "697d8e9a-6ec9-4fe4-8980-3babe09c7569",
   "metadata": {},
   "source": [
    "- Name can only contain alphabets, numbers and _\n",
    "- Name should start with a letter or _\n",
    "- Keywords should not be used\n",
    "- Variables are case-sensitive\n",
    "- use meaningful names"
   ]
  },
  {
   "cell_type": "code",
   "execution_count": null,
   "id": "f33380de-c733-406d-86d5-5b49297d9f04",
   "metadata": {},
   "outputs": [],
   "source": []
  }
 ],
 "metadata": {
  "kernelspec": {
   "display_name": "Python 3 (ipykernel)",
   "language": "python",
   "name": "python3"
  },
  "language_info": {
   "codemirror_mode": {
    "name": "ipython",
    "version": 3
   },
   "file_extension": ".py",
   "mimetype": "text/x-python",
   "name": "python",
   "nbconvert_exporter": "python",
   "pygments_lexer": "ipython3",
   "version": "3.11.7"
  }
 },
 "nbformat": 4,
 "nbformat_minor": 5
}
