{
 "cells": [
  {
   "cell_type": "markdown",
   "id": "95a31bf8-3aac-48c6-9ca7-d40f55cc4c08",
   "metadata": {},
   "source": [
    "# Exception Handling - develop robust applications"
   ]
  },
  {
   "cell_type": "code",
   "execution_count": 2,
   "id": "81c3f6a9-a0a7-4e84-a7b7-ff7489125454",
   "metadata": {},
   "outputs": [
    {
     "name": "stdout",
     "output_type": "stream",
     "text": [
      "\n"
     ]
    }
   ],
   "source": [
    "'''\n",
    "- Forecasting mistakes of end users and making \n",
    "  our program robust.\n",
    "\n",
    "1. Compile Time Errors\n",
    "\t- During compilation process (.py-->.pyc)\n",
    "\t- syntaxes are not followed\n",
    "\t- solved during development\n",
    "\t- Program won't run at all\n",
    "\n",
    "2. Logical Errors\n",
    "\t- During run time/ execution time\n",
    "\t- wrong logics\n",
    "\t- wrong/ inconsistent results\n",
    "\t- solved during development\n",
    "\n",
    "\n",
    "3. Runt Time Errors\n",
    "\t- INVALID/ INCORRECT INPUT from end users.\n",
    "\t- During Execution Time\n",
    "\n",
    "'''\n",
    "print()"
   ]
  },
  {
   "cell_type": "code",
   "execution_count": 12,
   "id": "c6ae149d-c07c-4014-ab67-e00c4bd57f8b",
   "metadata": {},
   "outputs": [
    {
     "name": "stdout",
     "output_type": "stream",
     "text": [
      "\n"
     ]
    }
   ],
   "source": [
    "'''\n",
    "- Ivalid Input --------------> Runtime Errors (Exceptions)---Generates---> Technical Error Messages ---Exception Handling (Convert)---> User-Friendly Messages\n",
    "\t\t\t\t\t\t\t\t\t\t\t\t\t|\t\t\t\n",
    "\t\t\t\t\t\t\t\t\t\t\t\t\t|\t\t\n",
    "\t\t\t\t\t\t\t\t\t\t\t\t\t|\n",
    "\t\t\t\t\t\t\t\t\t\t\t\t\t|\n",
    "\n",
    "\t\t\t\t\t\t-----------------------------------------------------------------\n",
    "\t\t\t\t\t\t|\t\t-> Execution Terminated Abnormally by PVM\t\t\t\t|\n",
    "\t\t\t\t\t\t|\t\t-> PVM comes out of program flow\t\t\t\t\t\t|--> Internally PVM Creates an object of appropriate Exception class.\n",
    "\t\t\t\t\t\t|\t\t-> Displays Technical Error Messages\t\t\t\t\t|\n",
    "\t\t\t\t\t\t|\t\t\t\t\t\t\t\t\t\t\t\t\t\t\t\t|\n",
    "\t\t\t\t\t\t----------------------------------------------------------------\n",
    "       \n",
    "- Mis-handling of software at client's side.\n",
    "- Every Exception is considered as an object of Exception Class.\n",
    "'''\n",
    "print()"
   ]
  },
  {
   "cell_type": "code",
   "execution_count": 22,
   "id": "87d0ff73-d440-4b16-b824-8e808dfac3b7",
   "metadata": {},
   "outputs": [
    {
     "name": "stdout",
     "output_type": "stream",
     "text": [
      "\n"
     ]
    }
   ],
   "source": [
    "'''\n",
    "-------------------------------\n",
    "\tHANDLING THE EXCEPTION \n",
    "-------------------------------\n",
    "\n",
    "- try, except, else, finally, raise\n",
    "\n",
    "try:\n",
    "\t- Block of statements\n",
    "\t- only statements which may generate exceptions\n",
    " \n",
    "except exception-class-name: / except (exception-1,exception-2...,exception-n): / except exception-class-name as alias-name: / except Exception:/ except:\n",
    "\t- Block of statements\n",
    "\t- generates user-friendly error messages\n",
    " \n",
    "\tNOTE: \n",
    "\t\t- try block MUST be followed by an except block.\n",
    "\t\t- We can have multiple except blocks but at an given time only one block will run.\n",
    "\t\t- the 'except:' is called the default except block and must be written at last (SyntaxError) (future proof)\n",
    "        - the order of the branches matters! dont put more general exceptions before more concrete ones. \n",
    "          this will make the latter one unreachable and useless. Moreover, it will make your code messy inconsistent;\n",
    "          Python wont generate error messages regarding this issue.\n",
    "        - if none of the specified except branches matches the raised exception, the exception remains unhandled \n",
    "        - the except branches are searched in the same order in which they appear in the code;\n",
    "          you must not use more than one except branch with a certain exception name;\n",
    "\n",
    "  \n",
    "else: (OPTIONAL)\n",
    "\t- Block of statements gives\n",
    "\t- Results of the program. \n",
    "\t- Runs if no exception is encountered. \n",
    " \n",
    "finally: (OPTIONAL)\n",
    "\t- Block of statements executes compulsoriy\n",
    "\t- Placed after else block if it exists\n",
    "\t- Used to relinquish resources\n",
    "\n",
    "    NOTE:\n",
    "       - The finally block is executed even if there is a return statement in the try block. \n",
    "         If there are no statementsthat may generate exceptions in the try block inside a function, finally block is first run the the return in try is run.\n",
    "\t     Same with expect block, finally block is run first inside a function then it will raise. \n",
    "         Outside a function, expect block is run b4 finally block.\n",
    "\n",
    "         e.g. \n",
    "\t\n",
    "        \tdef div(a,b):\n",
    "        \t\ttry:\n",
    "        \t\t\tc = a//b\n",
    "        \t\t\treturn c\n",
    "        \t\texcept:\n",
    "        \t\t\traise ZeroDivisionError\n",
    "        \t\tfinally:\n",
    "        \t\t\tprint('Finally block')\n",
    "\t\n",
    "\n",
    "OTHER STATEMENTS ---> similar to finally will run regardless of exception\n",
    "\n",
    "'''\n",
    "print()"
   ]
  },
  {
   "cell_type": "code",
   "execution_count": 21,
   "id": "9be1d6c1-4e6b-4947-b7b4-3138562f9913",
   "metadata": {},
   "outputs": [
    {
     "name": "stdout",
     "output_type": "stream",
     "text": [
      "\n"
     ]
    }
   ],
   "source": [
    "'''\n",
    "-----------------------------------\n",
    "\tCustom Defined Exceptions\n",
    "-----------------------------------\n",
    "\n",
    "1. Development of programmed-defined exception subclass same file name with extension .py\n",
    "\n",
    "\t\t\t\tclass <exception-class-name>(Exception/BaseException): pass\n",
    "\n",
    "\n",
    "2. Development of programmer defined common function which raises the exception (raise); save as .py file\n",
    "\t\t\t\tdef <function name>(list of formal parameters):\n",
    "\t\t\t\t\tif (test condition):\n",
    "\t\t\t\t\t\traise exception-class-name ---> raise keyword used for generating the exception provided some condition is satisfied\n",
    "\n",
    "3. Development of specific program which is Handling exceptions (MAIN PROGRAM); Handle the exceptions with try & except; save as .py\n",
    "\n",
    "'''\n",
    "print()"
   ]
  },
  {
   "cell_type": "code",
   "execution_count": 31,
   "id": "9033f9b1-1ab0-4d83-a5e5-a3b3706cb192",
   "metadata": {},
   "outputs": [
    {
     "name": "stdout",
     "output_type": "stream",
     "text": [
      "\n"
     ]
    }
   ],
   "source": [
    "'''\n",
    "class PizzaError(Exception):\n",
    "    def __init__(self, pizza, message):\n",
    "        Exception.__init__(self, message)\n",
    "        self.pizza = pizza\n",
    "\n",
    "\n",
    "class TooMuchCheeseError(PizzaError):\n",
    "    def __init__(self, pizza, cheese, message):\n",
    "        PizzaError.__init__(self, pizza, message)\n",
    "        self.cheese = cheese\n",
    "\n",
    "\n",
    "def make_pizza(pizza, cheese):\n",
    "    if pizza not in ['margherita', 'capricciosa', 'calzone']:\n",
    "        raise PizzaError(pizza, \"no such pizza on the menu\")\n",
    "    if cheese > 100:\n",
    "        raise TooMuchCheeseError(pizza, cheese, \"too much cheese\")\n",
    "    print(\"Pizza ready!\")\n",
    "\n",
    "for (pz, ch) in [('calzone', 0), ('margherita', 110), ('mafia', 20)]:\n",
    "    try:\n",
    "        make_pizza(pz, ch)\n",
    "    except TooMuchCheeseError as tmce:\n",
    "        print(tmce, ':', tmce.cheese)\n",
    "    except PizzaError as pe:\n",
    "        print(pe, ':', pe.pizza)\n",
    "'''\n",
    "print()"
   ]
  },
  {
   "cell_type": "code",
   "execution_count": 30,
   "id": "17df7624-3328-4b79-8c21-9f94d7e5457d",
   "metadata": {},
   "outputs": [
    {
     "name": "stdout",
     "output_type": "stream",
     "text": [
      "\n"
     ]
    }
   ],
   "source": [
    "'''\n",
    "class PizzaError(Exception):\n",
    "    def __init__(self, pizza='unknown', message=''):\n",
    "        Exception.__init__(self, message)\n",
    "        self.pizza = pizza\n",
    "\n",
    "\n",
    "class TooMuchCheeseError(PizzaError):\n",
    "    def __init__(self, pizza='uknown', cheese='>100', message=''):\n",
    "        PizzaError.__init__(self, pizza, message)\n",
    "        self.cheese = cheese\n",
    "\n",
    "\n",
    "def make_pizza(pizza, cheese):\n",
    "    if pizza not in ['margherita', 'capricciosa', 'calzone']:\n",
    "        raise PizzaError\n",
    "    if cheese > 100:\n",
    "        raise TooMuchCheeseError\n",
    "    print(\"Pizza ready!\")\n",
    "\n",
    "\n",
    "for (pz, ch) in [('calzone', 0), ('margherita', 110), ('mafia', 20)]:\n",
    "    try:\n",
    "        make_pizza(pz, ch)\n",
    "    except TooMuchCheeseError as tmce:\n",
    "        print(tmce, ':', tmce.cheese)\n",
    "    except PizzaError as pe:\n",
    "        print(pe, ':', pe.pizza)\n",
    "\n",
    "'''\n",
    "print()"
   ]
  },
  {
   "cell_type": "code",
   "execution_count": 24,
   "id": "ced59395-9d9b-45af-ae22-8748b2e4693d",
   "metadata": {},
   "outputs": [
    {
     "name": "stdout",
     "output_type": "stream",
     "text": [
      "\n"
     ]
    }
   ],
   "source": [
    "'''\n",
    "class MyError(Exception):\n",
    "\tdef __init__(self,msg):\n",
    "\t\tself.msg = msg\n",
    "\t\n",
    "\tdef __str__(self):\n",
    "\t\treturn msg\n",
    "\t\t\n",
    "\n",
    "try:\n",
    "\traise MyError('My Error')\n",
    "except MyError as e;\n",
    "\tprint(e)\n",
    "'''\n",
    "print()"
   ]
  },
  {
   "cell_type": "code",
   "execution_count": 26,
   "id": "0b5b8a39-0868-4d17-9993-791c9cf28ce4",
   "metadata": {},
   "outputs": [
    {
     "name": "stdout",
     "output_type": "stream",
     "text": [
      "\n"
     ]
    }
   ],
   "source": [
    "'''\n",
    "The raise instruction may also be utilized in the following way (note the absence of the exceptions name)\n",
    "\n",
    "def bad_fun(n):\n",
    "    try:\n",
    "        return n / 0\n",
    "    except:\n",
    "        print(\"I did it again!\")\n",
    "        raise\n",
    "\n",
    "\n",
    "try:\n",
    "    bad_fun(0)\n",
    "except ArithmeticError:\n",
    "    print(\"I see!\")\n",
    "\n",
    "print(\"THE END.\")\n",
    "\n",
    "\n",
    "There is one serious restriction: this kind of raise instruction may be used inside the except branch only;\n",
    "using it in any other context causes an error.\n",
    "\n",
    "The instruction will immediately re-raise the same exception as currently handled.\n",
    "\n",
    "\n",
    "Thanks to this, you can distribute the exception handling among different parts of the code.\n",
    "'''\n",
    "print()"
   ]
  },
  {
   "cell_type": "code",
   "execution_count": 28,
   "id": "8c0fd7a0-65f9-4ea5-a181-6452aa4cade1",
   "metadata": {},
   "outputs": [
    {
     "name": "stdout",
     "output_type": "stream",
     "text": [
      "\n"
     ]
    }
   ],
   "source": [
    "'''\n",
    "assert expression\n",
    "\n",
    "\n",
    "How does it work?\n",
    "\n",
    "It evaluates the expression,\n",
    "if the expression evaluates to True, or a non-zero numerical value, or a non-empty string, \n",
    "or any other value different than None, it won't do anything else.\n",
    "otherwise, it automatically and immediately raises an exception named \n",
    "AssertionError (in this case, we say that the assertion has failed)\n",
    "\n",
    "How it can be used?\n",
    "\n",
    "you may want to put it into your code where you want to be absolutely safe from evidently wrong data, \n",
    "and where you aren't absolutely sure that the data has been carefully examined before \n",
    "(e.g., inside a function used by someone else)\n",
    "raising an AssertionError exception secures your code from producing invalid results, \n",
    "and clearly shows the nature of the failure;\n",
    "assertions don't supersede exceptions or validate the data - they are their supplements.\n",
    "\n",
    "'''\n",
    "print()"
   ]
  }
 ],
 "metadata": {
  "kernelspec": {
   "display_name": "Python 3 (ipykernel)",
   "language": "python",
   "name": "python3"
  },
  "language_info": {
   "codemirror_mode": {
    "name": "ipython",
    "version": 3
   },
   "file_extension": ".py",
   "mimetype": "text/x-python",
   "name": "python",
   "nbconvert_exporter": "python",
   "pygments_lexer": "ipython3",
   "version": "3.12.7"
  }
 },
 "nbformat": 4,
 "nbformat_minor": 5
}
