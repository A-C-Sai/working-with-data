{
 "cells": [
  {
   "cell_type": "markdown",
   "id": "b29bc45b-8f6e-4281-a102-134d50e7f213",
   "metadata": {},
   "source": [
    "# Network Programming"
   ]
  },
  {
   "cell_type": "code",
   "execution_count": 2,
   "id": "78e360b4-5d6d-4f62-b562-854948419990",
   "metadata": {},
   "outputs": [
    {
     "name": "stdout",
     "output_type": "stream",
     "text": [
      "\n"
     ]
    }
   ],
   "source": [
    "'''\n",
    "Purpose: to share the data b/w multiple remote machines which are located across the universe.\n",
    "\n",
    "Definition: network is a collection of autonomous interconnected computers connected with server\n",
    "\n",
    "To share b/w multiple machines, we must write two types of programs:\n",
    "\n",
    "Server side program - recieves the request of client, processes the request and gives response back to client side program.\n",
    "\n",
    "Client side program - always makes a request to server side program and obtains response from server side program.\n",
    "'''\n",
    "print()"
   ]
  },
  {
   "cell_type": "code",
   "execution_count": 4,
   "id": "82a578fc-45a6-43fc-9207-dd032599cca6",
   "metadata": {},
   "outputs": [
    {
     "name": "stdout",
     "output_type": "stream",
     "text": [
      "\n"
     ]
    }
   ],
   "source": [
    "'''\n",
    "If client side program want to get connection from server side program, then it must pass (DNS/IP Address, Port No.)\n",
    "\n",
    "DNS - it is the name of the physical machine at which server side program resides.\n",
    "\t  default DNS of every computer is 'localhost'\n",
    "\t  \n",
    "\t  \t\t\t\t\t\t\t\t\t\tOR\n",
    "\n",
    "IP Address - is numerical address of the physical machine where server side program resides. \n",
    "\t\t\t default IP Address of every computer is '127.0.0.1' i.e. loopback address\n",
    "\t\t\t \t\t\t\t\t\t\t\t\n",
    "\t\t\t \t\t\t\t\t\t\t\tAND\n",
    "\n",
    "Port Number - is one of the logical numerical ID where server side program is running. (can change)\n",
    "'''\n",
    "print()"
   ]
  },
  {
   "cell_type": "code",
   "execution_count": 6,
   "id": "2f35c04d-d9b6-4f6f-bc2d-00ab1570f0ac",
   "metadata": {},
   "outputs": [
    {
     "name": "stdout",
     "output_type": "stream",
     "text": [
      "\n"
     ]
    }
   ],
   "source": [
    "'''\n",
    "Server Side Applications\n",
    "________________________\n",
    "\n",
    "1) import socket module\n",
    "2) every server side program must run at certain DNS/IP Address and port number\n",
    "3) \"\"                         \"\"  configure in such a way that to how many client side programs gives response.\n",
    "4) \"\"                          \"  ACCEPT client side program request, READ, Process the client side program request,\n",
    "\t\t\t\t\t\t\t\t\t\t\t\t\t\t\t\t\t\t\tgive response to client side program request\n",
    "\t\t\t\t\t\t\t\t\t\t\t\t\t\t\t\t\t\t\trepeat ACCEPT,READ,PROCESS,RESPONSE until all client side programs request complets.\n",
    "\n",
    "\n",
    "Client Side Applications\n",
    "________________________\n",
    "\n",
    "1) import socket module\n",
    "2) every client side program must get the connection from server side program by passing (DNS/IP ADDRESS & Port Number)\n",
    "3) \"\"                         \"\"  send a request to server side program\n",
    "4) \"\"                          \"  recieve the response from server side program\n",
    "\t\t\t\t\t\t\t\t  repeat send and recieve when client side program want to send multiple requests for multiple responses.\n",
    "\n",
    "'''\n",
    "print()"
   ]
  },
  {
   "cell_type": "code",
   "execution_count": 8,
   "id": "3d2867f2-c8c2-4042-9046-906fb70db494",
   "metadata": {},
   "outputs": [
    {
     "name": "stdout",
     "output_type": "stream",
     "text": [
      "\n"
     ]
    }
   ],
   "source": [
    "'''\n",
    "1) varname = socket.socket() --> creating an object of socket (server socket)\n",
    "\n",
    "2) socketObj.bind(('DNS/IP ADDRESS',PortNo)) ----> used for making the program as server side program by binding with DNS/IPADDRESS and PortNO\n",
    "\n",
    "3) socketObj.listen(# of clients) ---> used for making configuring server side program in such a way that to how many client side programs gives response\n",
    "\n",
    "4) clientSocketObj, clientSocketAddr = socketObj.accept() ---> used for accepting client request in the form of client socket object and its address\n",
    "\n",
    "5) recv() with decode()\n",
    "\n",
    "\tsyntax:\n",
    "\t\t\tstrData = clientSocketObject.recv(1024).decode()\n",
    "\t\t\tThis is used for recieving and reading client data at server side program.\n",
    "\t\t\tdecode converts the bytes data ---> str\n",
    "\n",
    "6) send() with encode()\n",
    "\n",
    "\tsyntax:\n",
    "\t\t\tclientSocketObj.send(strdata.encode())\n",
    "\t\t\tused for sending server side response to client side program\n",
    "\n",
    "\t\t\n",
    "7) \tclientSocketObj = socket.socket()\n",
    "\tclientSocketObj.connect(('DNS/IPAddress',PortNo))\n",
    "\tused for obtaining connection form server side program at client side program.\n",
    "'''\n",
    "print()"
   ]
  },
  {
   "cell_type": "code",
   "execution_count": 15,
   "id": "1239e322-f619-453b-85a1-dc912a2eac1f",
   "metadata": {},
   "outputs": [
    {
     "name": "stdout",
     "output_type": "stream",
     "text": [
      "\n"
     ]
    }
   ],
   "source": [
    "''' Server Side\n",
    "import socket\n",
    "\n",
    "server = socket.socket()\n",
    "server.bind(('192.168.0.4',8888))\n",
    "server.listen(1)\n",
    "\n",
    "while(True):\n",
    "\tclientObj,clientAddr = server.accept()\n",
    "\tprint(clientAddr)\n",
    "\tdata = int(clientObj.recv(1024).decode())\n",
    "\tprint(data)\n",
    "\tresult = str(data+1)\n",
    "\tclientObj.send(result.encode())\n",
    "'''\n",
    "\n",
    "''' Client Side\n",
    "\n",
    "import socket\n",
    "\n",
    "client = socket.socket()\n",
    "client.connect(('192.168.0.4',8888))\n",
    "\n",
    "while(True):\n",
    "\tdata = input('Enter A Number: ')\n",
    "\tclient.send(data.encode())\n",
    "\tr_data = client.recv(1024).decode()\n",
    "\tprint(r_data)\n",
    "'''\n",
    "print()"
   ]
  },
  {
   "cell_type": "code",
   "execution_count": null,
   "id": "3dbb3309-77ed-4069-ba08-5e6b0e4ec679",
   "metadata": {},
   "outputs": [],
   "source": []
  }
 ],
 "metadata": {
  "kernelspec": {
   "display_name": "Python [conda env:base] *",
   "language": "python",
   "name": "conda-base-py"
  },
  "language_info": {
   "codemirror_mode": {
    "name": "ipython",
    "version": 3
   },
   "file_extension": ".py",
   "mimetype": "text/x-python",
   "name": "python",
   "nbconvert_exporter": "python",
   "pygments_lexer": "ipython3",
   "version": "3.12.7"
  }
 },
 "nbformat": 4,
 "nbformat_minor": 5
}
