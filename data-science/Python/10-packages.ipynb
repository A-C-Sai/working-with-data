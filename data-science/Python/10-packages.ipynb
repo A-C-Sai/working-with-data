{
 "cells": [
  {
   "cell_type": "markdown",
   "id": "e771fd53-c3c6-4f66-90aa-5d56b08cdedd",
   "metadata": {},
   "source": [
    "# Packages"
   ]
  },
  {
   "cell_type": "markdown",
   "id": "d4d71e7a-d82f-4a3c-8c69-0e18800994cc",
   "metadata": {},
   "source": [
    "Collection of Modules"
   ]
  },
  {
   "cell_type": "markdown",
   "id": "65f17fca-0cf5-44b0-a068-6b3e27ee60e3",
   "metadata": {},
   "source": [
    "Provides code reusability accross folders drives and environments."
   ]
  },
  {
   "cell_type": "code",
   "execution_count": 2,
   "id": "774f8098-7ac1-4138-a425-9aa9b7a172d1",
   "metadata": {},
   "outputs": [
    {
     "name": "stdout",
     "output_type": "stream",
     "text": [
      "\n"
     ]
    }
   ],
   "source": [
    "'''\n",
    "-------------------\t\t\t\t\t--------------\n",
    "|\tPACKAGE\t  \t  |\t\t\t\t   |\t\t\t  |\t\t\t\n",
    "|\t__init__.py\t  |\t\t\t\t   |\tFOLDER\t  | \t\n",
    "|\tmodule-1\t  |\t\t\t\t   |\t\t\t  |\n",
    "|\tmodule-n\t  |\t\t\t\t   |\t\t\t  |\n",
    "-------------------\t\t\t\t    --------------\n",
    "\n",
    "__init__.py is needed to defing a package\n",
    "\n",
    "'''\n",
    "print()"
   ]
  },
  {
   "cell_type": "code",
   "execution_count": 1,
   "id": "4c006e71-b0e7-46f4-91ee-46683b4f204d",
   "metadata": {},
   "outputs": [
    {
     "name": "stdout",
     "output_type": "stream",
     "text": [
      "\n"
     ]
    }
   ],
   "source": [
    "'''\n",
    "import sys\n",
    "sys.path.append('ABSOLUTE PATH TO PACKAGE') ---> after this statement, we can import modules present in the package directly.\n",
    "'''\n",
    "print()"
   ]
  },
  {
   "cell_type": "code",
   "execution_count": 4,
   "id": "11de24a7-3f4a-4189-8d3a-d59c819edcae",
   "metadata": {},
   "outputs": [
    {
     "name": "stdout",
     "output_type": "stream",
     "text": [
      "\n"
     ]
    }
   ],
   "source": [
    "'''Windows\n",
    "\n",
    "PYTHONPATH\n",
    "\n",
    "CONTROL PANEL----> ENVIRONMENTAL VARIABLES------> USER ENVIRONMENTAL VARIABLES\n",
    "----> NEW ----> PYTHONPATH -----> ABSOLUTE PATH TO PACKAGE -----> OK\n",
    "\n",
    "- use semicolon to add add another address, edit\n",
    "\n",
    "'''\n",
    "print()"
   ]
  },
  {
   "cell_type": "code",
   "execution_count": null,
   "id": "77976bbf-7a98-4504-879f-85e3c8dad347",
   "metadata": {},
   "outputs": [],
   "source": []
  }
 ],
 "metadata": {
  "kernelspec": {
   "display_name": "Python [conda env:base] *",
   "language": "python",
   "name": "conda-base-py"
  },
  "language_info": {
   "codemirror_mode": {
    "name": "ipython",
    "version": 3
   },
   "file_extension": ".py",
   "mimetype": "text/x-python",
   "name": "python",
   "nbconvert_exporter": "python",
   "pygments_lexer": "ipython3",
   "version": "3.12.7"
  }
 },
 "nbformat": 4,
 "nbformat_minor": 5
}
