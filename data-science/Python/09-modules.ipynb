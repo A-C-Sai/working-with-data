{
 "cells": [
  {
   "cell_type": "markdown",
   "id": "91f1ead9-7586-4c5e-9afc-9a5cff1ff6df",
   "metadata": {},
   "source": [
    "# Modules"
   ]
  },
  {
   "cell_type": "markdown",
   "id": "3931a9ad-e61e-4b40-bd16-1864fd611775",
   "metadata": {},
   "source": [
    "collection of variables (global variables), functions and classes."
   ]
  },
  {
   "cell_type": "markdown",
   "id": "5fd4ca3b-4038-472e-b2da-a861a1679857",
   "metadata": {},
   "source": [
    "We can re-use the code across programs given module name and main program present in same folder."
   ]
  },
  {
   "cell_type": "markdown",
   "id": "95c5020b-4058-47ba-ba13-21a8ef651fb5",
   "metadata": {},
   "source": [
    "Every file name acts as a Module"
   ]
  },
  {
   "cell_type": "markdown",
   "id": "8fb1eea0-93d7-4de2-aa97-7f8692478c38",
   "metadata": {},
   "source": [
    "## Importing methods"
   ]
  },
  {
   "cell_type": "code",
   "execution_count": 1,
   "id": "3c2a5dee-878c-4c32-9e59-a0650934abab",
   "metadata": {},
   "outputs": [
    {
     "name": "stdout",
     "output_type": "stream",
     "text": [
      "\n"
     ]
    }
   ],
   "source": [
    "'''\n",
    "import ModuleName\n",
    "import m1,m2,...,m-n\n",
    "import m as aliasName\n",
    "import m1 as aliasName, m2 as aliasName,.....,m-n as aliasName\n",
    "\n",
    "moduleName.globalVar/FunctionName/ClassName\n",
    "aliasName.globalVar/FunctionName/ClassName\n",
    "\n",
    "from ModuleName import globalVariableNames, FunctionNames, ClassNames\n",
    "from m1 import globalVariableNames as aliasNames, FunctionNames as aliasNames, ClassNames as aliasNames\n",
    "from m import * -------> not reccommended\n",
    "\n",
    "'''\n",
    "print()"
   ]
  },
  {
   "cell_type": "code",
   "execution_count": 2,
   "id": "f21e1bba-6f0a-4ba1-ae46-4051587eaa02",
   "metadata": {},
   "outputs": [
    {
     "name": "stdout",
     "output_type": "stream",
     "text": [
      "\n"
     ]
    }
   ],
   "source": [
    "'''\n",
    "When a file name is treated as a module name, internally python execution environment creates a folder automatically\n",
    "on the name of __pycache__ and it contains module name on the name of \"filename.cpython-311.pyc\".\n",
    "'''\n",
    "print()"
   ]
  },
  {
   "cell_type": "code",
   "execution_count": 2,
   "id": "09c3f4bf-8634-4f32-a570-fb9258380b15",
   "metadata": {},
   "outputs": [
    {
     "name": "stdout",
     "output_type": "stream",
     "text": [
      "\n"
     ]
    }
   ],
   "source": [
    "'''\n",
    "A module can be stand-alone runnable script.\n",
    "\n",
    "if __name__ == \"__main__:\n",
    "    stmt..\n",
    "'''\n",
    "print()"
   ]
  },
  {
   "cell_type": "markdown",
   "id": "a61ed9bf-b4b4-445c-9903-8d08b09bbd84",
   "metadata": {},
   "source": [
    "## Reload module"
   ]
  },
  {
   "cell_type": "code",
   "execution_count": 2,
   "id": "5d535b1f-8dff-413a-a9f5-f8878eae1aa4",
   "metadata": {},
   "outputs": [
    {
     "name": "stdout",
     "output_type": "stream",
     "text": [
      "\n"
     ]
    }
   ],
   "source": [
    "'''\n",
    "- from importlib import reload\n",
    "- from time import sleep\n",
    "- reload(moduleName)\n",
    "\n",
    "Reloads Previously loaded module, if we have edited the module source file by using an external editor and we want\n",
    "to use the updated data of the previously module then we use reload().\n",
    "'''\n",
    "print()"
   ]
  },
  {
   "cell_type": "code",
   "execution_count": 3,
   "id": "b0570be7-846f-4fb6-92ab-ebdb36317583",
   "metadata": {},
   "outputs": [
    {
     "name": "stdout",
     "output_type": "stream",
     "text": [
      "Id---->154\n",
      "Name---->Pat\n",
      "marks---->89\n",
      "Id---->200\n",
      "Name---->Pat\n",
      "marks---->90\n"
     ]
    }
   ],
   "source": [
    "import reloadModuleData\n",
    "import time\n",
    "import importlib \n",
    "\n",
    "for key,value in reloadModuleData.data.items():\n",
    "\tprint('{}---->{}'.format(key,value))\n",
    "\n",
    "time.sleep(10)\n",
    "importlib.reload(reloadModuleData)\n",
    "\n",
    "\n",
    "for key,value in reloadModuleData.data.items():\n",
    "\tprint('{}---->{}'.format(key,value))"
   ]
  },
  {
   "cell_type": "code",
   "execution_count": null,
   "id": "6291c992-6f05-4185-a623-e69321d9ab17",
   "metadata": {},
   "outputs": [],
   "source": []
  }
 ],
 "metadata": {
  "kernelspec": {
   "display_name": "Python 3 (ipykernel)",
   "language": "python",
   "name": "python3"
  },
  "language_info": {
   "codemirror_mode": {
    "name": "ipython",
    "version": 3
   },
   "file_extension": ".py",
   "mimetype": "text/x-python",
   "name": "python",
   "nbconvert_exporter": "python",
   "pygments_lexer": "ipython3",
   "version": "3.11.7"
  }
 },
 "nbformat": 4,
 "nbformat_minor": 5
}
