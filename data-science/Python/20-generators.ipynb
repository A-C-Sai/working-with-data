{
 "cells": [
  {
   "cell_type": "markdown",
   "id": "ccd04df3-230d-4fdd-a46e-03878df55e78",
   "metadata": {},
   "source": [
    "# Generators"
   ]
  },
  {
   "cell_type": "code",
   "execution_count": 2,
   "id": "17446db9-6be4-4d04-b4e6-867f2f766193",
   "metadata": {},
   "outputs": [
    {
     "name": "stdout",
     "output_type": "stream",
     "text": [
      "\n"
     ]
    }
   ],
   "source": [
    "'''\n",
    "-> generator is one of the function\n",
    "-> the generator function always contains 'yield' keyword\n",
    "\n",
    "-> Here yield statement returns the value only on demand and reduces the memory space in dealing with\n",
    "   large samples of data.\n",
    "\n",
    "-> The advantage of generators over functions concept is that it\n",
    "   saves lot of memory space in the case of large sampling of data.\n",
    "   In other words Functions gives all the result at once and it\n",
    "   takes more memory space where as generators gives one value at a time\n",
    "   when programmer requested and takes minimized memory space.\n",
    "\n",
    "-> Exception: StopIteration\n",
    "'''\n",
    "print()"
   ]
  },
  {
   "cell_type": "code",
   "execution_count": 4,
   "id": "eea17eb0-6743-41b0-b85e-77a998eb6399",
   "metadata": {},
   "outputs": [],
   "source": [
    "lst = [1,2,3,4,5]\n",
    "\n",
    "def squared(lst):\n",
    "\tres = []\n",
    "\tfor i in lst:\n",
    "\t\tres.append(i*i)\n",
    "\treturn res"
   ]
  },
  {
   "cell_type": "code",
   "execution_count": 6,
   "id": "218b011b-d464-43c7-99ea-c6d44e81d87b",
   "metadata": {},
   "outputs": [
    {
     "name": "stdout",
     "output_type": "stream",
     "text": [
      "<generator object _squared at 0x110f6f920>\n",
      "1\n",
      "4\n",
      "9\n",
      "16\n",
      "25\n",
      "<generator object <genexpr> at 0x110f6f6b0>\n"
     ]
    }
   ],
   "source": [
    "def _squared(lst):\n",
    "\tfor i in lst:\n",
    "\t\tyield i*i\n",
    "\n",
    "\n",
    "result = _squared(lst)\n",
    "print(result)\n",
    "print(next(result))\n",
    "print(next(result))\n",
    "print(next(result))\n",
    "print(next(result))\n",
    "print(next(result))\n",
    "# print(next(result)) #StopIteration\n",
    "\n",
    "generator = (i*i for i in range(1,6))\n",
    "print(generator)"
   ]
  },
  {
   "cell_type": "code",
   "execution_count": 8,
   "id": "b7945ed7-0d4a-4e95-ae77-5d70dedb36f5",
   "metadata": {},
   "outputs": [
    {
     "name": "stdout",
     "output_type": "stream",
     "text": [
      "1\n",
      "3\n",
      "5\n"
     ]
    }
   ],
   "source": [
    "def _range(stop,start=0,step=1):\n",
    "\twhile start<stop:\n",
    "\t\tyield start\n",
    "\t\tstart+=step\n",
    "\n",
    "my_range = _range(stop=6,start=1,step=2)\n",
    "print(next(my_range))\n",
    "print(next(my_range))\n",
    "print(next(my_range))\n",
    "# print(next(my_range))"
   ]
  },
  {
   "cell_type": "code",
   "execution_count": 10,
   "id": "480faf14-2b02-4c95-a89c-826e3ee1043b",
   "metadata": {},
   "outputs": [
    {
     "ename": "StopIteration",
     "evalue": "",
     "output_type": "error",
     "traceback": [
      "\u001b[0;31m---------------------------------------------------------------------------\u001b[0m",
      "\u001b[0;31mStopIteration\u001b[0m                             Traceback (most recent call last)",
      "Cell \u001b[0;32mIn[10], line 1\u001b[0m\n\u001b[0;32m----> 1\u001b[0m \u001b[38;5;28mnext\u001b[39m(my_range)\n",
      "\u001b[0;31mStopIteration\u001b[0m: "
     ]
    }
   ],
   "source": [
    "next(my_range)"
   ]
  },
  {
   "cell_type": "code",
   "execution_count": null,
   "id": "d9d8ba42-fdbd-4353-9e00-349f6e7e78d0",
   "metadata": {},
   "outputs": [],
   "source": []
  }
 ],
 "metadata": {
  "kernelspec": {
   "display_name": "Python [conda env:base] *",
   "language": "python",
   "name": "conda-base-py"
  },
  "language_info": {
   "codemirror_mode": {
    "name": "ipython",
    "version": 3
   },
   "file_extension": ".py",
   "mimetype": "text/x-python",
   "name": "python",
   "nbconvert_exporter": "python",
   "pygments_lexer": "ipython3",
   "version": "3.12.7"
  }
 },
 "nbformat": 4,
 "nbformat_minor": 5
}
